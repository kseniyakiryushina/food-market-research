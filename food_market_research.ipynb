{
 "cells": [
  {
   "cell_type": "markdown",
   "metadata": {},
   "source": [
    "## Анализ пользовательского поведения в мобильном приложении"
   ]
  },
  {
   "cell_type": "markdown",
   "metadata": {},
   "source": [
    "***Описание проекта***"
   ]
  },
  {
   "cell_type": "markdown",
   "metadata": {},
   "source": [
    "Мы работаем в стартапе, который продаёт продукты питания. Нужно разобраться, как ведут себя пользователи нашего мобильного приложения.\n",
    "\n",
    "Изучим воронку продаж. Узнаем, как пользователи доходят до покупки. Сколько пользователей доходит до покупки, а сколько — «застревает» на предыдущих шагах? На каких именно?\n",
    "\n",
    "После этого исследуем результаты A/A/B-эксперимента. Дизайнеры захотели поменять шрифты во всём приложении, а менеджеры испугались, что пользователям будет непривычно. Договорились принять решение по результатам A/A/B-теста. Пользователей разбили на 3 группы: 2 контрольные со старыми шрифтами и одну экспериментальную — с новыми. Выясним, какой шрифт лучше.\n",
    "\n",
    "Создание двух групп A вместо одной имеет определённые преимущества. Если две контрольные группы окажутся равны, мы можем быть уверены в точности проведенного тестирования. Если же между значениями A и A будут существенные различия, это поможет обнаружить факторы, которые привели к искажению результатов. Сравнение контрольных групп также помогает понять, сколько времени и данных потребуется для дальнейших тестов.\n",
    "\n",
    "В случае общей аналитики и A/A/B-эксперимента работаем с одними и теми же данными. В реальных проектах всегда идут эксперименты. Аналитики исследуют качество работы приложения по общим данным, не учитывая принадлежность пользователей к экспериментам."
   ]
  },
  {
   "cell_type": "markdown",
   "metadata": {},
   "source": [
    "***Описание данных***\n",
    "\n",
    "Каждая запись в логе — это действие пользователя, или событие. \n",
    "\n",
    "- `EventName` — название события;\n",
    "\n",
    "- `DeviceIDHash` — уникальный идентификатор пользователя;\n",
    "\n",
    "- `EventTimestamp` — время события;\n",
    "\n",
    "- `ExpId` — номер эксперимента: 246 и 247 — контрольные группы, а 248 — экспериментальная."
   ]
  },
  {
   "cell_type": "markdown",
   "metadata": {},
   "source": [
    "## Откроем файл с данными и изучим общую информацию"
   ]
  },
  {
   "cell_type": "markdown",
   "metadata": {},
   "source": [
    "Импортируем необходимые библиотеки и загрузим датасет"
   ]
  },
  {
   "cell_type": "code",
   "execution_count": 1,
   "metadata": {},
   "outputs": [],
   "source": [
    "import pandas as pd\n",
    "import matplotlib.pyplot as plt\n",
    "from plotly import graph_objects as go\n",
    "import numpy as np\n",
    "import seaborn as sns\n",
    "from scipy import stats as st\n",
    "import math as mth\n",
    "colors =[\"#ef476f\",\"#ffd166\",\"#06d6a0\",\"#118ab2\",\"#073b4c\"]"
   ]
  },
  {
   "cell_type": "code",
   "execution_count": 2,
   "metadata": {},
   "outputs": [
    {
     "data": {
      "text/html": [
       "<div>\n",
       "<style scoped>\n",
       "    .dataframe tbody tr th:only-of-type {\n",
       "        vertical-align: middle;\n",
       "    }\n",
       "\n",
       "    .dataframe tbody tr th {\n",
       "        vertical-align: top;\n",
       "    }\n",
       "\n",
       "    .dataframe thead th {\n",
       "        text-align: right;\n",
       "    }\n",
       "</style>\n",
       "<table border=\"1\" class=\"dataframe\">\n",
       "  <thead>\n",
       "    <tr style=\"text-align: right;\">\n",
       "      <th></th>\n",
       "      <th>EventName</th>\n",
       "      <th>DeviceIDHash</th>\n",
       "      <th>EventTimestamp</th>\n",
       "      <th>ExpId</th>\n",
       "    </tr>\n",
       "  </thead>\n",
       "  <tbody>\n",
       "    <tr>\n",
       "      <th>0</th>\n",
       "      <td>MainScreenAppear</td>\n",
       "      <td>4575588528974610257</td>\n",
       "      <td>1564029816</td>\n",
       "      <td>246</td>\n",
       "    </tr>\n",
       "    <tr>\n",
       "      <th>1</th>\n",
       "      <td>MainScreenAppear</td>\n",
       "      <td>7416695313311560658</td>\n",
       "      <td>1564053102</td>\n",
       "      <td>246</td>\n",
       "    </tr>\n",
       "    <tr>\n",
       "      <th>2</th>\n",
       "      <td>PaymentScreenSuccessful</td>\n",
       "      <td>3518123091307005509</td>\n",
       "      <td>1564054127</td>\n",
       "      <td>248</td>\n",
       "    </tr>\n",
       "    <tr>\n",
       "      <th>3</th>\n",
       "      <td>CartScreenAppear</td>\n",
       "      <td>3518123091307005509</td>\n",
       "      <td>1564054127</td>\n",
       "      <td>248</td>\n",
       "    </tr>\n",
       "    <tr>\n",
       "      <th>4</th>\n",
       "      <td>PaymentScreenSuccessful</td>\n",
       "      <td>6217807653094995999</td>\n",
       "      <td>1564055322</td>\n",
       "      <td>248</td>\n",
       "    </tr>\n",
       "  </tbody>\n",
       "</table>\n",
       "</div>"
      ],
      "text/plain": [
       "                 EventName         DeviceIDHash  EventTimestamp  ExpId\n",
       "0         MainScreenAppear  4575588528974610257      1564029816    246\n",
       "1         MainScreenAppear  7416695313311560658      1564053102    246\n",
       "2  PaymentScreenSuccessful  3518123091307005509      1564054127    248\n",
       "3         CartScreenAppear  3518123091307005509      1564054127    248\n",
       "4  PaymentScreenSuccessful  6217807653094995999      1564055322    248"
      ]
     },
     "execution_count": 2,
     "metadata": {},
     "output_type": "execute_result"
    }
   ],
   "source": [
    "df = pd.read_csv('/datasets/logs_exp.csv', sep='\\t')\n",
    "df.head()"
   ]
  },
  {
   "cell_type": "markdown",
   "metadata": {},
   "source": [
    "Мы видим логи событий приложения с указанием названия события, ID пользователя, времени события и номера эксперимента"
   ]
  },
  {
   "cell_type": "code",
   "execution_count": 3,
   "metadata": {},
   "outputs": [
    {
     "name": "stdout",
     "output_type": "stream",
     "text": [
      "<class 'pandas.core.frame.DataFrame'>\n",
      "RangeIndex: 244126 entries, 0 to 244125\n",
      "Data columns (total 4 columns):\n",
      " #   Column          Non-Null Count   Dtype \n",
      "---  ------          --------------   ----- \n",
      " 0   EventName       244126 non-null  object\n",
      " 1   DeviceIDHash    244126 non-null  int64 \n",
      " 2   EventTimestamp  244126 non-null  int64 \n",
      " 3   ExpId           244126 non-null  int64 \n",
      "dtypes: int64(3), object(1)\n",
      "memory usage: 7.5+ MB\n"
     ]
    }
   ],
   "source": [
    "df.info()"
   ]
  },
  {
   "cell_type": "markdown",
   "metadata": {},
   "source": [
    "Типы некоторых столбцов некорректны для проведения анализа. Подготовим данные."
   ]
  },
  {
   "cell_type": "markdown",
   "metadata": {},
   "source": [
    "## Подготовка данных"
   ]
  },
  {
   "cell_type": "markdown",
   "metadata": {},
   "source": [
    "Заменим названия столбцов на удобные"
   ]
  },
  {
   "cell_type": "code",
   "execution_count": 4,
   "metadata": {},
   "outputs": [
    {
     "data": {
      "text/html": [
       "<div>\n",
       "<style scoped>\n",
       "    .dataframe tbody tr th:only-of-type {\n",
       "        vertical-align: middle;\n",
       "    }\n",
       "\n",
       "    .dataframe tbody tr th {\n",
       "        vertical-align: top;\n",
       "    }\n",
       "\n",
       "    .dataframe thead th {\n",
       "        text-align: right;\n",
       "    }\n",
       "</style>\n",
       "<table border=\"1\" class=\"dataframe\">\n",
       "  <thead>\n",
       "    <tr style=\"text-align: right;\">\n",
       "      <th></th>\n",
       "      <th>event_name</th>\n",
       "      <th>user_id</th>\n",
       "      <th>datetime</th>\n",
       "      <th>group</th>\n",
       "    </tr>\n",
       "  </thead>\n",
       "  <tbody>\n",
       "    <tr>\n",
       "      <th>0</th>\n",
       "      <td>MainScreenAppear</td>\n",
       "      <td>4575588528974610257</td>\n",
       "      <td>1564029816</td>\n",
       "      <td>246</td>\n",
       "    </tr>\n",
       "    <tr>\n",
       "      <th>1</th>\n",
       "      <td>MainScreenAppear</td>\n",
       "      <td>7416695313311560658</td>\n",
       "      <td>1564053102</td>\n",
       "      <td>246</td>\n",
       "    </tr>\n",
       "    <tr>\n",
       "      <th>2</th>\n",
       "      <td>PaymentScreenSuccessful</td>\n",
       "      <td>3518123091307005509</td>\n",
       "      <td>1564054127</td>\n",
       "      <td>248</td>\n",
       "    </tr>\n",
       "    <tr>\n",
       "      <th>3</th>\n",
       "      <td>CartScreenAppear</td>\n",
       "      <td>3518123091307005509</td>\n",
       "      <td>1564054127</td>\n",
       "      <td>248</td>\n",
       "    </tr>\n",
       "    <tr>\n",
       "      <th>4</th>\n",
       "      <td>PaymentScreenSuccessful</td>\n",
       "      <td>6217807653094995999</td>\n",
       "      <td>1564055322</td>\n",
       "      <td>248</td>\n",
       "    </tr>\n",
       "  </tbody>\n",
       "</table>\n",
       "</div>"
      ],
      "text/plain": [
       "                event_name              user_id    datetime  group\n",
       "0         MainScreenAppear  4575588528974610257  1564029816    246\n",
       "1         MainScreenAppear  7416695313311560658  1564053102    246\n",
       "2  PaymentScreenSuccessful  3518123091307005509  1564054127    248\n",
       "3         CartScreenAppear  3518123091307005509  1564054127    248\n",
       "4  PaymentScreenSuccessful  6217807653094995999  1564055322    248"
      ]
     },
     "execution_count": 4,
     "metadata": {},
     "output_type": "execute_result"
    }
   ],
   "source": [
    "df.columns = ['event_name', 'user_id', 'datetime', 'group']\n",
    "df.head()"
   ]
  },
  {
   "cell_type": "markdown",
   "metadata": {},
   "source": [
    "Отлично! \n",
    "\n",
    "Преобразуем столбец datetime в привычный формат."
   ]
  },
  {
   "cell_type": "code",
   "execution_count": 5,
   "metadata": {},
   "outputs": [
    {
     "name": "stdout",
     "output_type": "stream",
     "text": [
      "<class 'pandas.core.frame.DataFrame'>\n",
      "RangeIndex: 244126 entries, 0 to 244125\n",
      "Data columns (total 4 columns):\n",
      " #   Column      Non-Null Count   Dtype         \n",
      "---  ------      --------------   -----         \n",
      " 0   event_name  244126 non-null  object        \n",
      " 1   user_id     244126 non-null  int64         \n",
      " 2   datetime    244126 non-null  datetime64[ns]\n",
      " 3   group       244126 non-null  int64         \n",
      "dtypes: datetime64[ns](1), int64(2), object(1)\n",
      "memory usage: 7.5+ MB\n"
     ]
    }
   ],
   "source": [
    "df['datetime'] = pd.to_datetime(df['datetime'], unit='s')\n",
    "df.info()"
   ]
  },
  {
   "cell_type": "markdown",
   "metadata": {},
   "source": [
    "Тип данных даты изменили, с остальными столбцами всё в порядке. Также мы видим, что в каждом столбце одинаковое количество записей, следовательно пропуски отсутствуют. Проверим:"
   ]
  },
  {
   "cell_type": "code",
   "execution_count": 6,
   "metadata": {},
   "outputs": [
    {
     "data": {
      "text/html": [
       "<div>\n",
       "<style scoped>\n",
       "    .dataframe tbody tr th:only-of-type {\n",
       "        vertical-align: middle;\n",
       "    }\n",
       "\n",
       "    .dataframe tbody tr th {\n",
       "        vertical-align: top;\n",
       "    }\n",
       "\n",
       "    .dataframe thead th {\n",
       "        text-align: right;\n",
       "    }\n",
       "</style>\n",
       "<table border=\"1\" class=\"dataframe\">\n",
       "  <thead>\n",
       "    <tr style=\"text-align: right;\">\n",
       "      <th></th>\n",
       "      <th>0</th>\n",
       "    </tr>\n",
       "  </thead>\n",
       "  <tbody>\n",
       "    <tr>\n",
       "      <th>event_name</th>\n",
       "      <td>0</td>\n",
       "    </tr>\n",
       "    <tr>\n",
       "      <th>user_id</th>\n",
       "      <td>0</td>\n",
       "    </tr>\n",
       "    <tr>\n",
       "      <th>datetime</th>\n",
       "      <td>0</td>\n",
       "    </tr>\n",
       "    <tr>\n",
       "      <th>group</th>\n",
       "      <td>0</td>\n",
       "    </tr>\n",
       "  </tbody>\n",
       "</table>\n",
       "</div>"
      ],
      "text/plain": [
       "            0\n",
       "event_name  0\n",
       "user_id     0\n",
       "datetime    0\n",
       "group       0"
      ]
     },
     "execution_count": 6,
     "metadata": {},
     "output_type": "execute_result"
    }
   ],
   "source": [
    "df.isnull().sum().to_frame()"
   ]
  },
  {
   "cell_type": "markdown",
   "metadata": {},
   "source": [
    "Всё верно, пропущенных значений нет. Проверим дубликаты:"
   ]
  },
  {
   "cell_type": "code",
   "execution_count": 7,
   "metadata": {},
   "outputs": [
    {
     "data": {
      "text/plain": [
       "413"
      ]
     },
     "execution_count": 7,
     "metadata": {},
     "output_type": "execute_result"
    }
   ],
   "source": [
    "df.duplicated().sum()"
   ]
  },
  {
   "cell_type": "markdown",
   "metadata": {},
   "source": [
    "Имеем 413 дубликатов, что составляет менее 0,2% от общего количества записей в датафрейме (244126). Следовательно, дубликаты можно смело удалить, это не окажет влияния на общие результаты."
   ]
  },
  {
   "cell_type": "code",
   "execution_count": 8,
   "metadata": {},
   "outputs": [
    {
     "data": {
      "text/plain": [
       "0"
      ]
     },
     "execution_count": 8,
     "metadata": {},
     "output_type": "execute_result"
    }
   ],
   "source": [
    "df = df.drop_duplicates().reset_index(drop=True)\n",
    "df.duplicated().sum()"
   ]
  },
  {
   "cell_type": "markdown",
   "metadata": {},
   "source": [
    "Дубликатов больше нет.\n",
    "\n",
    "Добавим в датафрейм столбец с датой (без времени)"
   ]
  },
  {
   "cell_type": "code",
   "execution_count": 9,
   "metadata": {},
   "outputs": [],
   "source": [
    "df['date'] = df['datetime'].dt.strftime('%Y-%m-%d')\n",
    "df['date'] = pd.to_datetime(df['date'])"
   ]
  },
  {
   "cell_type": "code",
   "execution_count": 10,
   "metadata": {},
   "outputs": [
    {
     "data": {
      "text/html": [
       "<div>\n",
       "<style scoped>\n",
       "    .dataframe tbody tr th:only-of-type {\n",
       "        vertical-align: middle;\n",
       "    }\n",
       "\n",
       "    .dataframe tbody tr th {\n",
       "        vertical-align: top;\n",
       "    }\n",
       "\n",
       "    .dataframe thead th {\n",
       "        text-align: right;\n",
       "    }\n",
       "</style>\n",
       "<table border=\"1\" class=\"dataframe\">\n",
       "  <thead>\n",
       "    <tr style=\"text-align: right;\">\n",
       "      <th></th>\n",
       "      <th>event_name</th>\n",
       "      <th>user_id</th>\n",
       "      <th>datetime</th>\n",
       "      <th>group</th>\n",
       "      <th>date</th>\n",
       "    </tr>\n",
       "  </thead>\n",
       "  <tbody>\n",
       "    <tr>\n",
       "      <th>0</th>\n",
       "      <td>MainScreenAppear</td>\n",
       "      <td>4575588528974610257</td>\n",
       "      <td>2019-07-25 04:43:36</td>\n",
       "      <td>246</td>\n",
       "      <td>2019-07-25</td>\n",
       "    </tr>\n",
       "    <tr>\n",
       "      <th>1</th>\n",
       "      <td>MainScreenAppear</td>\n",
       "      <td>7416695313311560658</td>\n",
       "      <td>2019-07-25 11:11:42</td>\n",
       "      <td>246</td>\n",
       "      <td>2019-07-25</td>\n",
       "    </tr>\n",
       "    <tr>\n",
       "      <th>2</th>\n",
       "      <td>PaymentScreenSuccessful</td>\n",
       "      <td>3518123091307005509</td>\n",
       "      <td>2019-07-25 11:28:47</td>\n",
       "      <td>248</td>\n",
       "      <td>2019-07-25</td>\n",
       "    </tr>\n",
       "    <tr>\n",
       "      <th>3</th>\n",
       "      <td>CartScreenAppear</td>\n",
       "      <td>3518123091307005509</td>\n",
       "      <td>2019-07-25 11:28:47</td>\n",
       "      <td>248</td>\n",
       "      <td>2019-07-25</td>\n",
       "    </tr>\n",
       "    <tr>\n",
       "      <th>4</th>\n",
       "      <td>PaymentScreenSuccessful</td>\n",
       "      <td>6217807653094995999</td>\n",
       "      <td>2019-07-25 11:48:42</td>\n",
       "      <td>248</td>\n",
       "      <td>2019-07-25</td>\n",
       "    </tr>\n",
       "  </tbody>\n",
       "</table>\n",
       "</div>"
      ],
      "text/plain": [
       "                event_name              user_id            datetime  group  \\\n",
       "0         MainScreenAppear  4575588528974610257 2019-07-25 04:43:36    246   \n",
       "1         MainScreenAppear  7416695313311560658 2019-07-25 11:11:42    246   \n",
       "2  PaymentScreenSuccessful  3518123091307005509 2019-07-25 11:28:47    248   \n",
       "3         CartScreenAppear  3518123091307005509 2019-07-25 11:28:47    248   \n",
       "4  PaymentScreenSuccessful  6217807653094995999 2019-07-25 11:48:42    248   \n",
       "\n",
       "        date  \n",
       "0 2019-07-25  \n",
       "1 2019-07-25  \n",
       "2 2019-07-25  \n",
       "3 2019-07-25  \n",
       "4 2019-07-25  "
      ]
     },
     "execution_count": 10,
     "metadata": {},
     "output_type": "execute_result"
    }
   ],
   "source": [
    "df.head()"
   ]
  },
  {
   "cell_type": "code",
   "execution_count": 11,
   "metadata": {},
   "outputs": [
    {
     "name": "stdout",
     "output_type": "stream",
     "text": [
      "<class 'pandas.core.frame.DataFrame'>\n",
      "RangeIndex: 243713 entries, 0 to 243712\n",
      "Data columns (total 5 columns):\n",
      " #   Column      Non-Null Count   Dtype         \n",
      "---  ------      --------------   -----         \n",
      " 0   event_name  243713 non-null  object        \n",
      " 1   user_id     243713 non-null  int64         \n",
      " 2   datetime    243713 non-null  datetime64[ns]\n",
      " 3   group       243713 non-null  int64         \n",
      " 4   date        243713 non-null  datetime64[ns]\n",
      "dtypes: datetime64[ns](2), int64(2), object(1)\n",
      "memory usage: 9.3+ MB\n"
     ]
    }
   ],
   "source": [
    "df.info()"
   ]
  },
  {
   "cell_type": "code",
   "execution_count": 12,
   "metadata": {},
   "outputs": [
    {
     "data": {
      "text/plain": [
       "248    85582\n",
       "246    80181\n",
       "247    77950\n",
       "Name: group, dtype: int64"
      ]
     },
     "execution_count": 12,
     "metadata": {},
     "output_type": "execute_result"
    }
   ],
   "source": [
    "df['group'].value_counts()"
   ]
  },
  {
   "cell_type": "code",
   "execution_count": 13,
   "metadata": {},
   "outputs": [
    {
     "data": {
      "text/plain": [
       "array([], dtype=int64)"
      ]
     },
     "metadata": {},
     "output_type": "display_data"
    },
    {
     "name": "stdout",
     "output_type": "stream",
     "text": [
      "Количество пересекающихся пользователей в трех группах: 0\n",
      "Всего пользователей в тесте: 7551\n"
     ]
    }
   ],
   "source": [
    "group_246 = df[df['group'] == '246']['user_id']\n",
    "group_247 = df[df['group'] == '247']['user_id']\n",
    "group_248 = df[df['group'] == '248']['user_id']\n",
    "df_246_247_248 = df.query('user_id in @group_246 and user_id in @group_247 and user_id in @group_248')\n",
    "display(df_246_247_248['user_id'].unique())\n",
    "print('Количество пересекающихся пользователей в трех группах:', df_246_247_248['user_id'].nunique())\n",
    "print('Всего пользователей в тесте:', df['user_id'].nunique())"
   ]
  },
  {
   "cell_type": "markdown",
   "metadata": {},
   "source": [
    "В датафрейме нет пользователей, попавшие в разные группы одновременно."
   ]
  },
  {
   "cell_type": "markdown",
   "metadata": {},
   "source": [
    "***Вывод:***\n",
    "Мы заменили наименования столбцов на удобные, поменяли тип данных с информацией о дате и времени, удалили дубликаты, и добавили столбец с датой (без времени). Предобработка завершена!"
   ]
  },
  {
   "cell_type": "markdown",
   "metadata": {},
   "source": [
    "## Изучим и проверим данные"
   ]
  },
  {
   "cell_type": "markdown",
   "metadata": {},
   "source": [
    "### Сколько всего событий в логе?"
   ]
  },
  {
   "cell_type": "code",
   "execution_count": 14,
   "metadata": {},
   "outputs": [
    {
     "name": "stdout",
     "output_type": "stream",
     "text": [
      "Событий в логе - 243713\n"
     ]
    }
   ],
   "source": [
    "print(f'Событий в логе - {len(df)}')"
   ]
  },
  {
   "cell_type": "markdown",
   "metadata": {},
   "source": [
    "### Сколько всего пользователей в логе?"
   ]
  },
  {
   "cell_type": "code",
   "execution_count": 15,
   "metadata": {},
   "outputs": [
    {
     "name": "stdout",
     "output_type": "stream",
     "text": [
      "Уникальных пользователей в логе - 7551\n"
     ]
    }
   ],
   "source": [
    "print(f'Уникальных пользователей в логе - {df[\"user_id\"].nunique()}')"
   ]
  },
  {
   "cell_type": "markdown",
   "metadata": {},
   "source": [
    "### Сколько в среднем событий приходится на пользователя?"
   ]
  },
  {
   "cell_type": "code",
   "execution_count": 16,
   "metadata": {},
   "outputs": [
    {
     "name": "stdout",
     "output_type": "stream",
     "text": [
      "В среднем событий приходится на пользователя - 20\n"
     ]
    }
   ],
   "source": [
    "print('В среднем событий приходится на пользователя - {}'.format(int(df.groupby('user_id')['event_name'].agg('count').median())))"
   ]
  },
  {
   "cell_type": "markdown",
   "metadata": {},
   "source": [
    "### Данными за какой период мы располагаем? Найдем максимальную и минимальную дату. Построим гистограмму по дате и времени. Можно ли быть уверенным, что у нас одинаково полные данные за весь период? Технически в логи новых дней по некоторым пользователям могут «доезжать» события из прошлого — это может «перекашивать данные». Определим, с какого момента данные полные и отбросим более старые. Данными за какой период времени мы располагаем на самом деле?"
   ]
  },
  {
   "cell_type": "code",
   "execution_count": 17,
   "metadata": {},
   "outputs": [
    {
     "name": "stdout",
     "output_type": "stream",
     "text": [
      "Перед нами логи за период с 2019-07-25 04:43:36 по 2019-08-07 21:15:17.\n"
     ]
    }
   ],
   "source": [
    "print('Перед нами логи за период с {} по {}.'.format(df['datetime'].min(), df['datetime'].max()))"
   ]
  },
  {
   "cell_type": "code",
   "execution_count": 18,
   "metadata": {},
   "outputs": [
    {
     "data": {
      "image/png": "[encoded data removed]",
      "text/plain": [
       "<Figure size 1080x3600 with 1 Axes>"
      ]
     },
     "metadata": {
      "needs_background": "light"
     },
     "output_type": "display_data"
    }
   ],
   "source": [
    "plt.figure(figsize=(15, 50))\n",
    "ax = sns.countplot(y=df['datetime'].dt.strftime('%Y-%m-%d %H'), hue='event_name', data=df, dodge=False)\n",
    "ax.set_title('Количество различных событий на период времени')\n",
    "plt.show()"
   ]
  },
  {
   "cell_type": "markdown",
   "metadata": {},
   "source": [
    "Из гистограммы видно, что у нас одинаково полные данные имеются только за период с 2019-07-31 21:00 по 2019-08-07 21:00.\n",
    "\n",
    "Отбросим неполные данные и оставим только вышеуказанный период. Перезапишем датафрейм с новым периодом и снова посмотрим на события и уникальных пользователей в логе и сколько в среднем событий приходится на пользователя."
   ]
  },
  {
   "cell_type": "code",
   "execution_count": 19,
   "metadata": {},
   "outputs": [
    {
     "name": "stdout",
     "output_type": "stream",
     "text": [
      "Событий в логе - 241724\n",
      "Уникальных пользователей в логе - 7538\n",
      "В среднем событий приходится на пользователя - 19\n",
      "Перед нами логи за период с 2019-07-31 21:00:57 по 2019-08-07 21:15:17.\n"
     ]
    }
   ],
   "source": [
    "logs = df['2019-07-31 21:00' <= df['datetime']]\n",
    "print(f'Событий в логе - {len(logs)}')\n",
    "print(f'Уникальных пользователей в логе - {logs[\"user_id\"].nunique()}')\n",
    "print('В среднем событий приходится на пользователя - {}'.format(int(logs.groupby('user_id')['event_name'].agg('count').median())))\n",
    "print('Перед нами логи за период с {} по {}.'.format(logs['datetime'].min(), logs['datetime'].max()))\n"
   ]
  },
  {
   "cell_type": "markdown",
   "metadata": {},
   "source": [
    "Построим гистограмму с новым периодом с 2019-07-31 21:00:57 по 2019-08-07 21:15:17."
   ]
  },
  {
   "cell_type": "code",
   "execution_count": null,
   "metadata": {},
   "outputs": [],
   "source": [
    "plt.figure(figsize=(15, 35))\n",
    "ax = sns.countplot(y=logs['datetime'].dt.strftime('%Y-%m-%d %H'),  data=logs, hue='group')\n",
    "ax.set_title('Количество событий для каждой из групп')\n",
    "plt.show()"
   ]
  },
  {
   "cell_type": "markdown",
   "metadata": {},
   "source": [
    "### Посмотрим, сколько пользователей и событий мы потеряли при удалении части периода"
   ]
  },
  {
   "cell_type": "code",
   "execution_count": null,
   "metadata": {},
   "outputs": [],
   "source": [
    "all_users = df['user_id'].nunique()\n",
    "new_users = logs['user_id'].nunique()\n",
    "print(f'Было пользователей = {all_users} / Стало = {new_users} / На сколько уменьшилось = {all_users-new_users} / Потеря = {round((all_users-new_users)/all_users*100,2)}%')\n",
    "\n",
    "all_events = df['event_name'].count()\n",
    "new_events = logs['event_name'].count()\n",
    "print(f'Было событий = {all_events} / Стало = {new_events} / На сколько уменьшилось = {all_events-new_events} / Потеря = {round((all_events-new_events)/all_events*100,2)}%')"
   ]
  },
  {
   "cell_type": "markdown",
   "metadata": {},
   "source": [
    "***Вывод:***\n",
    "\n",
    " Дальнейший анализ будем проводить с актуальными данными за период с 2019-07-31 21:00:57 по 2019-08-07 21:15:17.\n",
    " \n",
    "- Событий в логе - 241724 (отличие от неочищенных данных (243713) менее 1%)\n",
    "\n",
    "- Уникальных пользователей в логе - 7538 (отличие от неочищенных данных (7551) менее 1%)\n",
    "\n",
    "- В среднем событий приходится на пользователя - 19 (отличие от неочищенных данных (20) менее 1%)\n",
    "\n",
    "***Отбросив неполные данные мы практически ничего не потеряли (менее 1% событий и пользователей) и можем спокойно продолжать анализ, основываясь на актуальном периоде.***"
   ]
  },
  {
   "cell_type": "markdown",
   "metadata": {},
   "source": [
    "### Проверим, что у нас есть пользователи из всех трёх экспериментальных групп"
   ]
  },
  {
   "cell_type": "code",
   "execution_count": null,
   "metadata": {},
   "outputs": [],
   "source": [
    "logs.groupby('group')['user_id'].nunique()"
   ]
  },
  {
   "cell_type": "markdown",
   "metadata": {},
   "source": [
    "Из анализа видно, что у нас имееются пользователи из всех трёхэкспериментальных данных и относительно в равных количествах (в районе 2,5 тыс)."
   ]
  },
  {
   "cell_type": "markdown",
   "metadata": {},
   "source": [
    "***Вывод:***\n",
    "\n",
    "В ходе изучения и проверки данных определили актуальный период, с которым в дальнейшем и будем работать (с 2019-07-31 21:00:57 по 2019-08-07 21:15:17). После актуализации периода обнаружили, что потери в количестве пользователей и событий составили менее 1%. Это очень мало, поэтому можем смело отбросить старые данные и продолжить проверку."
   ]
  },
  {
   "cell_type": "markdown",
   "metadata": {},
   "source": [
    "## Изучим воронку событий"
   ]
  },
  {
   "cell_type": "markdown",
   "metadata": {},
   "source": [
    "### Посмотрим, какие события есть в логах, как часто они встречаются. Отсортируем события по частоте"
   ]
  },
  {
   "cell_type": "code",
   "execution_count": null,
   "metadata": {},
   "outputs": [],
   "source": [
    "events_count = logs['event_name'].value_counts().to_frame()\n",
    "events_count"
   ]
  },
  {
   "cell_type": "code",
   "execution_count": null,
   "metadata": {},
   "outputs": [],
   "source": [
    "fig = go.Figure(data=[go.Pie(labels=logs['event_name'].value_counts().index, values=logs['event_name'].value_counts(), \\\n",
    "                             title='Доли событий')])\n",
    "fig.show()"
   ]
  },
  {
   "cell_type": "markdown",
   "metadata": {},
   "source": [
    "- Самое частое событие - это появление основного экрана(MainScreenAppear) случалось 117889 раз (48,8%)\n",
    "\n",
    "- Второе по популярности событие - появление экрана с каталогом продуктов(OffersScreenAppear) случалось 46531 раз (19,2%)\n",
    "\n",
    "- Третье - появление экрана с корзиной(CartScreenAppear) случалось 42343 раза (17,5%)\n",
    "\n",
    "- Четвёртое - появление экрана с успешной оплатой(PaymentScreenSuccessful) случалось 33951 раз (14%)\n",
    "\n",
    "- Пятое - открытие руководства пользователя(Tutorial) случалось 1010 раз (0,42%)"
   ]
  },
  {
   "cell_type": "markdown",
   "metadata": {},
   "source": [
    "### Посчитаем, сколько пользователей совершали каждое из этих событий. Отсортируем события по числу пользователей. Посчитаем долю пользователей, которые хоть раз совершали событие."
   ]
  },
  {
   "cell_type": "code",
   "execution_count": null,
   "metadata": {},
   "outputs": [],
   "source": [
    "events_users = logs.groupby('event_name').agg({'event_name':'count', 'user_id':'nunique'}).sort_values(by='user_id', ascending=False)\n",
    "events_users.columns = ['n_events', 'users']\n",
    "events_users = events_users.reset_index()\n",
    "events_users['users_part_1event'] = (events_users['users'] / logs['user_id'].nunique() * 100).round(1) # доля хотя бы раз совершивших событие\n",
    "events_users"
   ]
  },
  {
   "cell_type": "markdown",
   "metadata": {},
   "source": [
    "`n_events` - количество событий\n",
    "\n",
    "`users` - количество пользователей\n",
    "\n",
    "`users_part_1event` - доля пользователей, совершивших хотя бы одно событие"
   ]
  },
  {
   "cell_type": "markdown",
   "metadata": {},
   "source": [
    "***Вывод:***\n",
    "    \n",
    "MainScreenAppear - название события, где самое большое число событий, пользователей и доля пользователей, совершивших хотя бы одно событие. В целом, воронка выглядит так:\n",
    "\n",
    "- MainScreenAppear - зашли на сайт\n",
    "\n",
    "- OffersScreenAppear - искали товар по каталогу\n",
    "\n",
    "- CartScreenAppear - добавили в корзину\n",
    "\n",
    "- PaymentScreenSuccessful - оплатили\n",
    "\n",
    "- Tutorial - изучали инструкцию"
   ]
  },
  {
   "cell_type": "markdown",
   "metadata": {},
   "source": [
    "### Предположим, в каком порядке происходят события. Все ли они выстраиваются в последовательную цепочку? Их не нужно учитывать при расчёте воронки"
   ]
  },
  {
   "cell_type": "markdown",
   "metadata": {},
   "source": [
    "В предыдущем пункте мы уже выяснили, в каком порядке происходят события. Посмотрим на графиках"
   ]
  },
  {
   "cell_type": "markdown",
   "metadata": {},
   "source": [
    "Построим график Cобытии по числу пользователей"
   ]
  },
  {
   "cell_type": "code",
   "execution_count": null,
   "metadata": {},
   "outputs": [],
   "source": [
    "plt.figure(figsize=(12,6))\n",
    "sns.barplot(y='users', x='event_name', data=events_users);\n",
    "plt.xlabel('СОБЫТИЕ')\n",
    "plt.ylabel('Количество пользователей')\n",
    "plt.title('События по числу пользователей')\n",
    "plt.show();"
   ]
  },
  {
   "cell_type": "markdown",
   "metadata": {},
   "source": [
    "Построим график по долям пользователей"
   ]
  },
  {
   "cell_type": "code",
   "execution_count": null,
   "metadata": {},
   "outputs": [],
   "source": [
    "plt.figure(figsize=(12,6))\n",
    "sns.barplot(y=('users_part_1event'), x='event_name', data=events_users);\n",
    "plt.xlabel('СОБЫТИЕ')\n",
    "plt.ylabel('ДОЛЯ, %')\n",
    "plt.title('Доли пользователей совершивших хоть одно событие от всех пользователей')\n",
    "plt.show();"
   ]
  },
  {
   "cell_type": "markdown",
   "metadata": {},
   "source": [
    "Предположим, что пользователь\n",
    "\n",
    "- сначала открывает главную страницу приложения(MainScreenAppear) \n",
    "\n",
    "- потом в каталоге выбирает товары(OffersScreenAppear)\n",
    "\n",
    "- кладёт их в корзину(CartScreenAppear) \n",
    "\n",
    "- и оплачивает(PaymentScreenSuccessful)\n",
    "\n",
    "Читает инструкцию (Tutorial) - единицы пользователей."
   ]
  },
  {
   "cell_type": "markdown",
   "metadata": {},
   "source": [
    "### По воронке событий посчитаем, какая доля пользователей проходит на следующий шаг воронки (от числа пользователей на предыдущем). То есть для последовательности событий A → B → C посчитаем отношение числа пользователей с событием B к количеству пользователей с событием A, а также отношение числа пользователей с событием C к количеству пользователей с событием B"
   ]
  },
  {
   "cell_type": "markdown",
   "metadata": {},
   "source": [
    "***Поскольку событие Tutorial по всей видимости не оказывает влияние на практические результаты и непонятно, какая от него польза, и на какое участие он принимает в последовательности. Уберем его из таблицы. Для дальнейшего расчета перезапишем logs и снова events_users без Tutorial***"
   ]
  },
  {
   "cell_type": "code",
   "execution_count": null,
   "metadata": {},
   "outputs": [],
   "source": [
    "logs = logs.query('event_name != \"Tutorial\"')\n",
    "events_users = logs.groupby('event_name').agg({'event_name':'count', 'user_id':'nunique'}).sort_values(by='user_id', ascending=False)\n",
    "events_users.columns = ['n_events', 'users']\n",
    "events_users = events_users.reset_index()\n",
    "events_users['users_part_1event'] = (events_users['users'] / logs['user_id'].nunique() * 100).round(1) # доля хотя бы раз совершивших событие\n",
    "events_users"
   ]
  },
  {
   "cell_type": "code",
   "execution_count": null,
   "metadata": {},
   "outputs": [],
   "source": [
    "logs1 = logs.groupby('event_name')['user_id'].nunique().sort_values(ascending=False).to_list()\n",
    "logs1"
   ]
  },
  {
   "cell_type": "code",
   "execution_count": null,
   "metadata": {},
   "outputs": [],
   "source": [
    "print(f'С главного экрана в каталог товаров перешло - {round(logs1[1]/logs1[0] *100, 2)} % пользователей')\n",
    "print(f'С каталога товаров в корзину перешло - {round(logs1[2]/logs1[1] *100, 2)} % пользователей')\n",
    "print(f'С корзины до экрана успешной оплаты перешло - {round(logs1[3]/logs1[2] *100, 2)} % пользователей')"
   ]
  },
  {
   "cell_type": "markdown",
   "metadata": {},
   "source": [
    "Напишем функцию для того, чтобы посмотреть по воронке, какая доля пользователей переходит на следующий шаг воронки в разрезе групп."
   ]
  },
  {
   "cell_type": "code",
   "execution_count": null,
   "metadata": {},
   "outputs": [],
   "source": [
    "prev_users = events_users.loc[0,'users']\n",
    "start_users = prev_users\n",
    "\n",
    "for i in events_users.index:\n",
    "    events_users.loc[i,'from_last'] = (events_users.loc[i,'users'] / prev_users * 100).round(2)\n",
    "    events_users.loc[i,'from_start'] = (events_users.loc[i,'users'] / start_users * 100).round(2)\n",
    "    prev_users = events_users.loc[i,'users']\n",
    "events_users "
   ]
  },
  {
   "cell_type": "markdown",
   "metadata": {},
   "source": [
    "- `from_last` - доля пользователей перешедших с предыдущего этапа\n",
    "\n",
    "- `welcome_from_start` - доля пользователей с первоначального этапа"
   ]
  },
  {
   "cell_type": "markdown",
   "metadata": {},
   "source": [
    "Посмотрим как это выглядит на воронке"
   ]
  },
  {
   "cell_type": "code",
   "execution_count": null,
   "metadata": {},
   "outputs": [],
   "source": [
    "fig = go.Figure(go.Funnel(x = events_users['from_last'], y = events_users['event_name']))\n",
    "fig.show()\n"
   ]
  },
  {
   "cell_type": "markdown",
   "metadata": {},
   "source": [
    "- С главного экрана в каталог товаров перешло - 61.93 % пользователей\n",
    "\n",
    "- С каталога товаров в корзину перешло - 81.27 % пользователей\n",
    "\n",
    "- С корзины до экрана успешной оплаты перешло - 94.75 % пользователей"
   ]
  },
  {
   "cell_type": "markdown",
   "metadata": {},
   "source": [
    "### На каком шаге теряем больше всего пользователей?"
   ]
  },
  {
   "cell_type": "code",
   "execution_count": null,
   "metadata": {},
   "outputs": [],
   "source": [
    "print(f'При переходе с главного экрана в каталог товаров теряется  - {100 - round(logs1[1]/logs1[0] *100, 2)} % пользователей')\n",
    "print(f'При переходе из каталога товаров в корзину  - {100 - round(logs1[2]/logs1[1] *100, 2)} % пользователей')\n",
    "print(f'При переходе из корзины до экрана успешной оплаты  - {100 - round(logs1[3]/logs1[2] *100, 2)} % пользователей')"
   ]
  },
  {
   "cell_type": "markdown",
   "metadata": {},
   "source": [
    "***Больше всего пользователей теряется при переходе с главного экрана в каталог товаров.***"
   ]
  },
  {
   "cell_type": "markdown",
   "metadata": {},
   "source": [
    "### Какая доля пользователей доходит от первого события до оплаты?"
   ]
  },
  {
   "cell_type": "code",
   "execution_count": null,
   "metadata": {},
   "outputs": [],
   "source": [
    "print(f'Доля пользователей доходит от первого события до оплаты  - {round(logs1[3]/logs1[0] *100, 2)} % пользователей')"
   ]
  },
  {
   "cell_type": "markdown",
   "metadata": {},
   "source": [
    "## Изучим результаты эксперимента"
   ]
  },
  {
   "cell_type": "markdown",
   "metadata": {},
   "source": [
    "***Поскольку событие \"Tutorial\" по всей видимости не оказывает влияние на практические результаты и непонятно, какая от него польза, уберем его из таблицы***"
   ]
  },
  {
   "cell_type": "code",
   "execution_count": null,
   "metadata": {},
   "outputs": [],
   "source": [
    "logs = logs.query('event_name != \"Tutorial\"')"
   ]
  },
  {
   "cell_type": "markdown",
   "metadata": {},
   "source": [
    "### Сколько пользователей в каждой экспериментальной группе?"
   ]
  },
  {
   "cell_type": "code",
   "execution_count": null,
   "metadata": {},
   "outputs": [],
   "source": [
    "logs.groupby('group')['user_id'].nunique()"
   ]
  },
  {
   "cell_type": "markdown",
   "metadata": {},
   "source": [
    "В двух контрольных группах 246 и 247 - 2483 и 2516 пользователей соответственно, в экспереминтальной 248 - 2535 пользователя."
   ]
  },
  {
   "cell_type": "markdown",
   "metadata": {},
   "source": [
    "### Есть 2 контрольные группы для А/А-эксперимента, чтобы проверить корректность всех механизмов и расчётов. Проверим, находят ли статистические критерии разницу между выборками 246 и 247."
   ]
  },
  {
   "cell_type": "markdown",
   "metadata": {},
   "source": [
    "Выделим группы "
   ]
  },
  {
   "cell_type": "code",
   "execution_count": null,
   "metadata": {},
   "outputs": [],
   "source": [
    "logs_246 = logs.query('group == 246')\n",
    "logs_247 = logs.query('group == 247')\n",
    "logs_248 = logs.query('group == 248')"
   ]
  },
  {
   "cell_type": "code",
   "execution_count": null,
   "metadata": {},
   "outputs": [],
   "source": [
    "count_user246 = logs_246['user_id'].nunique()\n",
    "count_user246"
   ]
  },
  {
   "cell_type": "code",
   "execution_count": null,
   "metadata": {},
   "outputs": [],
   "source": [
    "count_user247 = logs_247['user_id'].nunique()\n",
    "count_user247"
   ]
  },
  {
   "cell_type": "code",
   "execution_count": null,
   "metadata": {},
   "outputs": [],
   "source": [
    "count_user248 = logs_248['user_id'].nunique()\n",
    "count_user248"
   ]
  },
  {
   "cell_type": "markdown",
   "metadata": {},
   "source": [
    "Сгруппиируем данные по группам"
   ]
  },
  {
   "cell_type": "code",
   "execution_count": null,
   "metadata": {},
   "outputs": [],
   "source": [
    "logs_group246 = logs_246.groupby('event_name')['user_id'].nunique().sort_values(ascending=False).to_list()\n",
    "logs_group246"
   ]
  },
  {
   "cell_type": "code",
   "execution_count": null,
   "metadata": {},
   "outputs": [],
   "source": [
    "logs_group247 = logs_247.groupby('event_name')['user_id'].nunique().sort_values(ascending=False).to_list()\n",
    "logs_group247"
   ]
  },
  {
   "cell_type": "code",
   "execution_count": null,
   "metadata": {},
   "outputs": [],
   "source": [
    "logs_group248 = logs_248.groupby('event_name')['user_id'].nunique().sort_values(ascending=False).to_list()\n",
    "logs_group248"
   ]
  },
  {
   "cell_type": "code",
   "execution_count": null,
   "metadata": {},
   "outputs": [],
   "source": [
    "purchases = logs_group246[1], logs_group247[1]\n",
    "purchases[0]"
   ]
  },
  {
   "cell_type": "code",
   "execution_count": null,
   "metadata": {},
   "outputs": [],
   "source": [
    "logs_group = logs.pivot_table(index='event_name', values='user_id', columns='group',aggfunc=lambda x: len(x.unique()))\n",
    "logs_group = logs_group.reset_index().sort_values(by=246, ascending=False).reset_index(drop=True)\n",
    "logs_group"
   ]
  },
  {
   "cell_type": "markdown",
   "metadata": {},
   "source": [
    "Запишем функцию и применим поправку Бонферрони"
   ]
  },
  {
   "cell_type": "code",
   "execution_count": null,
   "metadata": {},
   "outputs": [],
   "source": [
    "def hypothesis_testing(purchasesA,purchasesB,leadsA,leadsB, event_name, alpha = 0.05/4):\n",
    "    \n",
    "    p1 = purchasesA/leadsA\n",
    "    p2 = purchasesB/leadsB\n",
    "\n",
    "    p_combined = (purchasesA + purchasesB) / (leadsA + leadsB)\n",
    "    # считаем статистику в ст.отклонениях стандартного нормального распределения\n",
    "    difference = p1 - p2\n",
    "    z_value = difference / mth.sqrt(p_combined * (1 - p_combined) * (1/leadsA + 1/leadsB))\n",
    "    # задаем стандартное нормальное распределение (среднее 0, ст.отклонение 1)\n",
    "    distr = st.norm(0, 1)\n",
    "    p_value =(1 - distr.cdf(abs(z_value))) * 2\n",
    "    print(f'Расчет теста для действия пользователей {event_name}')\n",
    "    print('p-значение: ', p_value)\n",
    "\n",
    "    if p_value < alpha:\n",
    "\n",
    "        print('Отвергаем нулевую гипотезу: между долями есть значимая разница')\n",
    "    else:\n",
    "        print(\n",
    "            'Не получилось отвергнуть нулевую гипотезу, нет оснований считать доли разными')\n",
    "        print('---------------------------------------------------------------------------')"
   ]
  },
  {
   "cell_type": "markdown",
   "metadata": {},
   "source": [
    "### Выберем самое популярное событие. Посчитаем число пользователей, совершивших это событие в каждой из контрольных групп. Посчитаем долю пользователей, совершивших это событие. Проверим, будет ли отличие между группами статистически достоверным. Проделаем то же самое для всех других событий (удобно обернуть проверку в отдельную функцию). Можно ли сказать, что разбиение на группы работает корректно?"
   ]
  },
  {
   "cell_type": "markdown",
   "metadata": {},
   "source": [
    "Посмотрим на число пользователей, совершивших самое популярное событие в каждой группе, и на долю пользователей, совершивших это событие"
   ]
  },
  {
   "cell_type": "code",
   "execution_count": null,
   "metadata": {},
   "outputs": [],
   "source": [
    "logs_group = logs.pivot_table(index='event_name', values='user_id', columns='group',aggfunc=lambda x: len(x.unique()))\n",
    "logs_group = logs_group.sort_values(by=246, ascending=False)\n",
    "logs_group['246/247'] = 1 - (logs_group[246]/ logs_group[247]) * 100\n",
    "logs_group = logs_group.reset_index()\n",
    "logs_group.style.highlight_max()"
   ]
  },
  {
   "cell_type": "code",
   "execution_count": null,
   "metadata": {},
   "outputs": [],
   "source": [
    "fig = go.Figure()\n",
    "\n",
    "fig.add_trace(go.Funnel(name = '246 группа',\n",
    "    y = logs_group[\"event_name\"],\n",
    "    x = logs_group[246],textposition = \"inside\", \n",
    "    textinfo = \"value+percent previous\",\n",
    "    marker = {\"color\": \"#39A388\"}))\n",
    "\n",
    "fig.add_trace(go.Funnel(name = '247 группа',\n",
    "    y = logs_group[\"event_name\"],\n",
    "    x = logs_group[247],textposition = \"inside\", \n",
    "    textinfo = \"value+percent previous\",\n",
    "    marker = {\"color\": \"#2C2891\"}))\n",
    "fig.update_layout(title='Распределение количества пользователей по их действиям в группах 246 и 247',height=600, width=1000)\n",
    "fig.show()"
   ]
  },
  {
   "cell_type": "markdown",
   "metadata": {},
   "source": [
    "MainScreenAppear самое популярное событие"
   ]
  },
  {
   "cell_type": "markdown",
   "metadata": {},
   "source": [
    "Сформулируем гипотезы \n",
    "\n",
    "Н0 - В значениях групп 246 и 247 нет существенной разницы \n",
    "\n",
    "Н1 - В значениях групп 246 и 247 есть существенная разница\n",
    "\n",
    "Проведем тест"
   ]
  },
  {
   "cell_type": "code",
   "execution_count": null,
   "metadata": {},
   "outputs": [],
   "source": [
    "t = [hypothesis_testing(logs_group[246][i],logs_group[247][i], count_user246,\n",
    "                    count_user247,logs_group['event_name'][i], alpha = 0.05/len(logs_group[246])) for i in range(len(logs_group[246]))]"
   ]
  },
  {
   "cell_type": "markdown",
   "metadata": {},
   "source": [
    "***Не получилось отвергнуть нулевую гипотезу, в значениях групп 246 и 247 нет существенной разницы, контрольные группы сформированны правильно.***"
   ]
  },
  {
   "cell_type": "markdown",
   "metadata": {},
   "source": [
    "### Аналогично поступим с группой с изменённым шрифтом. Сравним результаты с каждой из контрольных групп в отдельности по каждому событию. Сравним результаты с объединённой контрольной группой. Какие выводы из эксперимента можно сделать?"
   ]
  },
  {
   "cell_type": "code",
   "execution_count": null,
   "metadata": {},
   "outputs": [],
   "source": [
    "fig = go.Figure()\n",
    "\n",
    "fig.add_trace(go.Funnel(name = '246 группа',\n",
    "    y = logs_group[\"event_name\"],\n",
    "    x = logs_group[246],textposition = \"inside\", \n",
    "    textinfo = \"value+percent previous\",\n",
    "    marker = {\"color\": \"#39A388\"}))\n",
    "\n",
    "fig.add_trace(go.Funnel(name = '248 группа',\n",
    "    y = logs_group[\"event_name\"],\n",
    "    x = logs_group[248],textposition = \"inside\", \n",
    "    textinfo = \"value+percent previous\",\n",
    "    marker = {\"color\": \"#FFFD95\"}))\n",
    "\n",
    "fig.add_trace(go.Funnel(name = '247 группа',\n",
    "    y = logs_group[\"event_name\"],\n",
    "    x = logs_group[247],textposition = \"inside\", \n",
    "    textinfo = \"value+percent previous\",\n",
    "    marker = {\"color\": \"#2C2891\"}))\n",
    "fig.update_layout(title='Распределение количества пользователей по их действиям в группах 246,247,248',height=600, width=1000)\n",
    "fig.show()"
   ]
  },
  {
   "cell_type": "markdown",
   "metadata": {},
   "source": [
    "Сформулируем гипотезы. \n",
    "\n",
    "Н0 - В значениях групп 248 и 247 нет существенной разницы\n",
    "\n",
    "Н1 - В значениях групп 248 и 247 есть существенная разница\n",
    "\n",
    "Проведем тест"
   ]
  },
  {
   "cell_type": "code",
   "execution_count": null,
   "metadata": {},
   "outputs": [],
   "source": [
    "t1 = [hypothesis_testing(logs_group[248][i],logs_group[247][i],count_user248,\n",
    "                    count_user247,logs_group['event_name'][i], alpha =  0.05/len(logs_group[248])) for i in range(len(logs_group[248]))]"
   ]
  },
  {
   "cell_type": "markdown",
   "metadata": {},
   "source": [
    "***Не получилось отвергнуть нулевую гипотезу, в значениях групп 247 и 248 нет существенной разницы***"
   ]
  },
  {
   "cell_type": "markdown",
   "metadata": {},
   "source": [
    "Сформулируем гипотезы \n",
    "\n",
    "Н0 - В значениях групп 248 и 246 нет существенной разницы\n",
    "\n",
    "Н1 - В значениях групп 248 и 246 есть существенная разница \n",
    "\n",
    "Проведем тест"
   ]
  },
  {
   "cell_type": "code",
   "execution_count": null,
   "metadata": {},
   "outputs": [],
   "source": [
    "t2 = [hypothesis_testing(logs_group[248][i],logs_group[246][i],count_user248,\n",
    "                    count_user246,logs_group['event_name'][i], alpha =  0.05/len(logs_group[248])) for i in range(len(logs_group[248]))]"
   ]
  },
  {
   "cell_type": "markdown",
   "metadata": {},
   "source": [
    "***Не получилось отвергнуть нулевую гипотезу, в значениях групп 246 и 248 нет существенной разницы***"
   ]
  },
  {
   "cell_type": "code",
   "execution_count": null,
   "metadata": {},
   "outputs": [],
   "source": [
    "fig = go.Figure()\n",
    "\n",
    "fig.add_trace(go.Funnel(name = '248 группа',\n",
    "    y = logs_group[\"event_name\"],\n",
    "    x = logs_group[248],textposition = \"inside\", \n",
    "    textinfo = \"value+percent previous\",\n",
    "    marker = {\"color\": \"#8CA1A5\"}))\n",
    "\n",
    "fig.add_trace(go.Funnel(name = '247 и 246 группы',\n",
    "    y = logs_group[\"event_name\"],\n",
    "    x = logs_group[247]+logs_group[246],textposition = \"inside\", \n",
    "    textinfo = \"value+percent previous\",\n",
    "    marker = {\"color\": \"#316B83\"}))\n",
    "fig.update_layout(title='Распределение количества пользователей по их действиям в группах 248 и объединённой контрольной группой ',height=500, width=900)\n",
    "fig.show()"
   ]
  },
  {
   "cell_type": "markdown",
   "metadata": {},
   "source": [
    "Сформулируем гипотезы \n",
    "\n",
    "Н0 - В значениях групп 248 и объединенной группы нет существенной разницы \n",
    "\n",
    "Н1 - В значениях групп 248 и объединенной группы есть существенная разница \n",
    "\n",
    "Проведем тест."
   ]
  },
  {
   "cell_type": "code",
   "execution_count": null,
   "metadata": {},
   "outputs": [],
   "source": [
    "logs_group"
   ]
  },
  {
   "cell_type": "code",
   "execution_count": null,
   "metadata": {},
   "outputs": [],
   "source": [
    "t3 = [hypothesis_testing(logs_group[248][i],logs_group[246][i]+logs_group[247][i],count_user248,\n",
    "                    (count_user246+count_user247),logs_group['event_name'][i], alpha =  0.05/len(logs_group[248])) for i in range(len(logs_group[248]))]"
   ]
  },
  {
   "cell_type": "markdown",
   "metadata": {},
   "source": [
    "***Не получилось отвергнуть нулевую гипотезу, тест не зафиксировал существенной разницы между группой 248 и объединенной группой***"
   ]
  },
  {
   "cell_type": "markdown",
   "metadata": {},
   "source": [
    "### Какой уровень значимости мы выбрали при проверке статистических гипотез выше? Посчитаем, сколько проверок статистических гипотез вы сделали. При уровне значимости 0.1 каждый десятый раз можно получать ложный результат. Какой уровень значимости стоит применить? Если мы хотите изменить его, проделаем предыдущие пункты и проверим свои выводы."
   ]
  },
  {
   "cell_type": "markdown",
   "metadata": {},
   "source": [
    "Я выбрала уровень значимости 0,05 и провела 16 проверок статистических гипотез. .\n",
    "\n",
    "Считаю, что в данном случае самый оптимальный уровень значимости - 0.05, так как выборки примерно равны между собой и, следовательно, достаточно чувствительны. При выборе уровня значимости в 0.1 увеличиваются шансы получить ложноположительные результаты и найти различия там, где их нет."
   ]
  },
  {
   "cell_type": "markdown",
   "metadata": {},
   "source": [
    "## Вывод"
   ]
  },
  {
   "cell_type": "markdown",
   "metadata": {},
   "source": [
    "Анализируя гистограмму по дате и времени, мы приняли решение отбросить неполные данные и оставить только период с 2019-07-31 21:00.\n",
    "\n",
    "При исследовании воронки событий мы выяснили\n",
    "\n",
    "- от первого события до оплаты доходит меньше половины пользователей - 47,69%\n",
    "\n",
    "- 7423 пользователей (98,5%) хотя бы раз открывали главную страницу приложения (1,5% не смогли войти на главную страницу, видимо имеются какие-то технические неполадки)\n",
    "\n",
    "- 4597 пользователей (61%) хотя бы раз открывали страницу с каталогом товаров (39% пользователей не увидели даже каталог товаров необходимо выяснить причину, возможно приложение не на всех устройствах работает корректно)\n",
    "\n",
    "- 3736 пользователей (49,6%) положили товар в корзину\n",
    "\n",
    "- и только 3540 пользователя (47%) оплатили товар.\n",
    "\n",
    "Мы провели 16 проверок статистических гипотез с уровнем значимости 0.05 (12 из них проверяли разницу между контрольными группами и группой с изменённым шрифтом) и ни одна из них не выявила значимой разницы.\n",
    "При уровне значимости 0,1 результаты практически не меняются, но при этом каждый десятый раз можно получать ложноположительный результат.\n",
    "\n",
    "В результате всех и каждого A/A/B эксперемента значимой разницы между группами не выявлено. Поэтому можно утверждать, что на поведение пользователей изменение шрифта значимого эффекта не оказало. Тестирование можно назвать успешным."
   ]
  },
  {
   "cell_type": "code",
   "execution_count": null,
   "metadata": {},
   "outputs": [],
   "source": []
  }
 ],
 "metadata": {
  "ExecuteTimeLog": [
   {
    "duration": 1378,
    "start_time": "2023-03-15T18:40:27.185Z"
   },
   {
    "duration": 166,
    "start_time": "2023-03-15T18:40:45.049Z"
   },
   {
    "duration": 815,
    "start_time": "2023-03-15T18:41:11.817Z"
   },
   {
    "duration": 155,
    "start_time": "2023-03-15T18:41:29.604Z"
   },
   {
    "duration": 149,
    "start_time": "2023-03-15T18:41:35.976Z"
   },
   {
    "duration": 155,
    "start_time": "2023-03-15T18:41:43.621Z"
   },
   {
    "duration": 17,
    "start_time": "2023-03-15T18:42:11.286Z"
   },
   {
    "duration": 112,
    "start_time": "2023-03-15T18:46:51.995Z"
   },
   {
    "duration": 3,
    "start_time": "2023-03-15T18:47:00.306Z"
   },
   {
    "duration": 11,
    "start_time": "2023-03-15T18:47:07.220Z"
   },
   {
    "duration": 8,
    "start_time": "2023-03-15T18:47:30.036Z"
   },
   {
    "duration": 10,
    "start_time": "2023-03-15T18:49:41.062Z"
   },
   {
    "duration": 17,
    "start_time": "2023-03-15T18:49:50.146Z"
   },
   {
    "duration": 12,
    "start_time": "2023-03-15T18:50:00.275Z"
   },
   {
    "duration": 10,
    "start_time": "2023-03-15T18:50:05.962Z"
   },
   {
    "duration": 22,
    "start_time": "2023-03-15T18:50:06.634Z"
   },
   {
    "duration": 12,
    "start_time": "2023-03-15T18:50:07.338Z"
   },
   {
    "duration": 1134,
    "start_time": "2023-03-15T18:50:27.327Z"
   },
   {
    "duration": 160,
    "start_time": "2023-03-15T18:50:28.463Z"
   },
   {
    "duration": 19,
    "start_time": "2023-03-15T18:50:28.624Z"
   },
   {
    "duration": 14,
    "start_time": "2023-03-15T18:50:28.644Z"
   },
   {
    "duration": 35,
    "start_time": "2023-03-15T18:50:28.659Z"
   },
   {
    "duration": 18,
    "start_time": "2023-03-15T18:50:28.696Z"
   },
   {
    "duration": 10,
    "start_time": "2023-03-15T18:50:28.716Z"
   },
   {
    "duration": 28,
    "start_time": "2023-03-15T18:52:00.496Z"
   },
   {
    "duration": 26,
    "start_time": "2023-03-15T18:55:21.393Z"
   },
   {
    "duration": 16,
    "start_time": "2023-03-15T18:55:33.028Z"
   },
   {
    "duration": 16,
    "start_time": "2023-03-15T18:55:54.782Z"
   },
   {
    "duration": 1100,
    "start_time": "2023-03-15T18:56:06.765Z"
   },
   {
    "duration": 161,
    "start_time": "2023-03-15T18:56:07.867Z"
   },
   {
    "duration": 20,
    "start_time": "2023-03-15T18:56:08.029Z"
   },
   {
    "duration": 9,
    "start_time": "2023-03-15T18:56:08.050Z"
   },
   {
    "duration": 48,
    "start_time": "2023-03-15T18:56:08.061Z"
   },
   {
    "duration": 16,
    "start_time": "2023-03-15T18:56:29.037Z"
   },
   {
    "duration": 4,
    "start_time": "2023-03-15T18:56:49.201Z"
   },
   {
    "duration": 161,
    "start_time": "2023-03-15T18:56:53.887Z"
   },
   {
    "duration": 18,
    "start_time": "2023-03-15T18:56:55.314Z"
   },
   {
    "duration": 19,
    "start_time": "2023-03-15T18:56:57.650Z"
   },
   {
    "duration": 16,
    "start_time": "2023-03-15T18:56:58.981Z"
   },
   {
    "duration": 1049,
    "start_time": "2023-03-15T18:57:22.001Z"
   },
   {
    "duration": 173,
    "start_time": "2023-03-15T18:57:23.052Z"
   },
   {
    "duration": 18,
    "start_time": "2023-03-15T18:57:23.227Z"
   },
   {
    "duration": 23,
    "start_time": "2023-03-15T18:57:23.246Z"
   },
   {
    "duration": 16,
    "start_time": "2023-03-15T18:57:23.271Z"
   },
   {
    "duration": 1165,
    "start_time": "2023-03-15T18:57:33.670Z"
   },
   {
    "duration": 167,
    "start_time": "2023-03-15T18:57:34.837Z"
   },
   {
    "duration": 18,
    "start_time": "2023-03-15T18:57:35.005Z"
   },
   {
    "duration": 7,
    "start_time": "2023-03-15T18:57:35.025Z"
   },
   {
    "duration": 59,
    "start_time": "2023-03-15T18:57:35.034Z"
   },
   {
    "duration": 16,
    "start_time": "2023-03-15T18:57:40.917Z"
   },
   {
    "duration": 1098,
    "start_time": "2023-03-15T18:57:47.409Z"
   },
   {
    "duration": 169,
    "start_time": "2023-03-15T18:57:48.509Z"
   },
   {
    "duration": 17,
    "start_time": "2023-03-15T18:57:48.679Z"
   },
   {
    "duration": 7,
    "start_time": "2023-03-15T18:57:48.698Z"
   },
   {
    "duration": 18,
    "start_time": "2023-03-15T18:57:48.707Z"
   },
   {
    "duration": 23,
    "start_time": "2023-03-15T18:59:22.051Z"
   },
   {
    "duration": 34,
    "start_time": "2023-03-15T19:00:09.631Z"
   },
   {
    "duration": 13,
    "start_time": "2023-03-15T19:01:25.936Z"
   },
   {
    "duration": 71,
    "start_time": "2023-03-15T19:02:49.698Z"
   },
   {
    "duration": 79,
    "start_time": "2023-03-15T19:04:50.903Z"
   },
   {
    "duration": 123,
    "start_time": "2023-03-15T19:04:58.530Z"
   },
   {
    "duration": 1030,
    "start_time": "2023-03-15T19:05:58.516Z"
   },
   {
    "duration": 8,
    "start_time": "2023-03-15T19:06:10.536Z"
   },
   {
    "duration": 39,
    "start_time": "2023-03-15T19:06:19.265Z"
   },
   {
    "duration": 1712,
    "start_time": "2023-03-15T19:06:49.238Z"
   },
   {
    "duration": 0,
    "start_time": "2023-03-15T19:06:50.951Z"
   },
   {
    "duration": 1090,
    "start_time": "2023-03-15T19:07:00.499Z"
   },
   {
    "duration": 9,
    "start_time": "2023-03-15T19:07:02.812Z"
   },
   {
    "duration": 19,
    "start_time": "2023-03-15T19:07:03.766Z"
   },
   {
    "duration": 1170,
    "start_time": "2023-03-15T19:07:17.751Z"
   },
   {
    "duration": 166,
    "start_time": "2023-03-15T19:07:18.923Z"
   },
   {
    "duration": 19,
    "start_time": "2023-03-15T19:07:19.090Z"
   },
   {
    "duration": 8,
    "start_time": "2023-03-15T19:07:19.111Z"
   },
   {
    "duration": 56,
    "start_time": "2023-03-15T19:07:19.120Z"
   },
   {
    "duration": 15,
    "start_time": "2023-03-15T19:07:19.178Z"
   },
   {
    "duration": 82,
    "start_time": "2023-03-15T19:07:19.195Z"
   },
   {
    "duration": 135,
    "start_time": "2023-03-15T19:07:19.279Z"
   },
   {
    "duration": 1089,
    "start_time": "2023-03-15T19:07:19.415Z"
   },
   {
    "duration": 7,
    "start_time": "2023-03-15T19:07:20.507Z"
   },
   {
    "duration": 19,
    "start_time": "2023-03-15T19:07:20.516Z"
   },
   {
    "duration": 2,
    "start_time": "2023-03-15T19:10:00.512Z"
   },
   {
    "duration": 3,
    "start_time": "2023-03-15T19:13:12.317Z"
   },
   {
    "duration": 4,
    "start_time": "2023-03-15T19:13:16.428Z"
   },
   {
    "duration": 2,
    "start_time": "2023-03-15T19:13:42.013Z"
   },
   {
    "duration": 3,
    "start_time": "2023-03-15T19:14:22.151Z"
   },
   {
    "duration": 1257,
    "start_time": "2023-03-15T19:14:23.347Z"
   },
   {
    "duration": 7,
    "start_time": "2023-03-15T19:14:34.145Z"
   },
   {
    "duration": 17,
    "start_time": "2023-03-15T19:15:42.855Z"
   },
   {
    "duration": 8,
    "start_time": "2023-03-15T19:16:08.686Z"
   },
   {
    "duration": 14,
    "start_time": "2023-03-15T19:16:24.299Z"
   },
   {
    "duration": 12,
    "start_time": "2023-03-15T19:16:32.219Z"
   },
   {
    "duration": 10,
    "start_time": "2023-03-15T19:16:36.420Z"
   },
   {
    "duration": 18,
    "start_time": "2023-03-15T19:16:47.812Z"
   },
   {
    "duration": 17,
    "start_time": "2023-03-15T19:17:28.660Z"
   },
   {
    "duration": 3,
    "start_time": "2023-03-15T19:17:49.010Z"
   },
   {
    "duration": 7,
    "start_time": "2023-03-15T19:17:50.020Z"
   },
   {
    "duration": 30,
    "start_time": "2023-03-15T19:17:51.022Z"
   },
   {
    "duration": 16,
    "start_time": "2023-03-15T19:18:05.785Z"
   },
   {
    "duration": 17,
    "start_time": "2023-03-15T19:18:28.588Z"
   },
   {
    "duration": 16,
    "start_time": "2023-03-15T19:18:58.880Z"
   },
   {
    "duration": 72,
    "start_time": "2023-03-15T19:19:22.156Z"
   },
   {
    "duration": 17,
    "start_time": "2023-03-15T19:19:28.543Z"
   },
   {
    "duration": 17,
    "start_time": "2023-03-15T19:19:48.517Z"
   },
   {
    "duration": 57,
    "start_time": "2023-03-17T18:13:12.444Z"
   },
   {
    "duration": 1436,
    "start_time": "2023-03-17T18:13:20.149Z"
   },
   {
    "duration": 328,
    "start_time": "2023-03-17T18:13:21.587Z"
   },
   {
    "duration": 30,
    "start_time": "2023-03-17T18:13:21.916Z"
   },
   {
    "duration": 10,
    "start_time": "2023-03-17T18:13:21.948Z"
   },
   {
    "duration": 32,
    "start_time": "2023-03-17T18:13:21.960Z"
   },
   {
    "duration": 17,
    "start_time": "2023-03-17T18:13:21.994Z"
   },
   {
    "duration": 99,
    "start_time": "2023-03-17T18:13:22.013Z"
   },
   {
    "duration": 159,
    "start_time": "2023-03-17T18:13:22.113Z"
   },
   {
    "duration": 1033,
    "start_time": "2023-03-17T18:13:22.274Z"
   },
   {
    "duration": 10,
    "start_time": "2023-03-17T18:13:23.308Z"
   },
   {
    "duration": 35,
    "start_time": "2023-03-17T18:13:23.320Z"
   },
   {
    "duration": 3,
    "start_time": "2023-03-17T18:13:23.356Z"
   },
   {
    "duration": 10,
    "start_time": "2023-03-17T18:13:23.361Z"
   },
   {
    "duration": 35,
    "start_time": "2023-03-17T18:13:23.373Z"
   },
   {
    "duration": 5,
    "start_time": "2023-03-17T18:13:23.409Z"
   },
   {
    "duration": 8,
    "start_time": "2023-03-17T18:14:39.762Z"
   },
   {
    "duration": 9822,
    "start_time": "2023-03-17T18:14:51.745Z"
   },
   {
    "duration": 120,
    "start_time": "2023-03-17T18:15:50.175Z"
   },
   {
    "duration": 23,
    "start_time": "2023-03-17T18:22:05.963Z"
   },
   {
    "duration": 37,
    "start_time": "2023-03-17T18:22:50.647Z"
   },
   {
    "duration": 5627,
    "start_time": "2023-03-17T18:23:26.113Z"
   },
   {
    "duration": 37,
    "start_time": "2023-03-17T18:24:23.022Z"
   },
   {
    "duration": 32,
    "start_time": "2023-03-17T18:24:41.962Z"
   },
   {
    "duration": 5554,
    "start_time": "2023-03-17T18:24:44.720Z"
   },
   {
    "duration": 45,
    "start_time": "2023-03-17T18:26:30.146Z"
   },
   {
    "duration": 6435,
    "start_time": "2023-03-17T18:26:31.346Z"
   },
   {
    "duration": 6091,
    "start_time": "2023-03-17T18:28:31.581Z"
   },
   {
    "duration": 35,
    "start_time": "2023-03-17T18:35:35.393Z"
   },
   {
    "duration": 3,
    "start_time": "2023-03-17T18:45:36.368Z"
   },
   {
    "duration": 1140,
    "start_time": "2023-03-17T18:57:09.566Z"
   },
   {
    "duration": 174,
    "start_time": "2023-03-17T18:57:10.708Z"
   },
   {
    "duration": 22,
    "start_time": "2023-03-17T18:57:10.885Z"
   },
   {
    "duration": 22,
    "start_time": "2023-03-17T18:57:10.909Z"
   },
   {
    "duration": 39,
    "start_time": "2023-03-17T18:57:10.934Z"
   },
   {
    "duration": 15,
    "start_time": "2023-03-17T18:57:10.975Z"
   },
   {
    "duration": 83,
    "start_time": "2023-03-17T18:57:10.992Z"
   },
   {
    "duration": 161,
    "start_time": "2023-03-17T18:57:11.077Z"
   },
   {
    "duration": 990,
    "start_time": "2023-03-17T18:57:11.240Z"
   },
   {
    "duration": 9,
    "start_time": "2023-03-17T18:57:12.232Z"
   },
   {
    "duration": 29,
    "start_time": "2023-03-17T18:57:12.243Z"
   },
   {
    "duration": 4,
    "start_time": "2023-03-17T18:57:12.274Z"
   },
   {
    "duration": 16,
    "start_time": "2023-03-17T18:57:12.279Z"
   },
   {
    "duration": 42,
    "start_time": "2023-03-17T18:57:12.298Z"
   },
   {
    "duration": 5,
    "start_time": "2023-03-17T18:57:12.342Z"
   },
   {
    "duration": 9286,
    "start_time": "2023-03-17T18:57:12.349Z"
   },
   {
    "duration": 39,
    "start_time": "2023-03-17T18:57:21.637Z"
   },
   {
    "duration": 5399,
    "start_time": "2023-03-17T18:57:21.678Z"
   },
   {
    "duration": 33,
    "start_time": "2023-03-17T18:57:27.079Z"
   },
   {
    "duration": 871,
    "start_time": "2023-03-17T18:58:23.950Z"
   },
   {
    "duration": 25,
    "start_time": "2023-03-17T18:58:45.045Z"
   },
   {
    "duration": 25,
    "start_time": "2023-03-17T19:00:33.248Z"
   },
   {
    "duration": 28,
    "start_time": "2023-03-17T19:00:40.262Z"
   },
   {
    "duration": 30,
    "start_time": "2023-03-17T19:00:56.736Z"
   },
   {
    "duration": 31,
    "start_time": "2023-03-17T19:01:09.412Z"
   },
   {
    "duration": 29,
    "start_time": "2023-03-17T19:01:14.430Z"
   },
   {
    "duration": 1279,
    "start_time": "2023-03-17T19:01:25.452Z"
   },
   {
    "duration": 204,
    "start_time": "2023-03-17T19:01:26.734Z"
   },
   {
    "duration": 23,
    "start_time": "2023-03-17T19:01:26.939Z"
   },
   {
    "duration": 11,
    "start_time": "2023-03-17T19:01:26.964Z"
   },
   {
    "duration": 55,
    "start_time": "2023-03-17T19:01:26.977Z"
   },
   {
    "duration": 26,
    "start_time": "2023-03-17T19:01:27.034Z"
   },
   {
    "duration": 107,
    "start_time": "2023-03-17T19:01:27.062Z"
   },
   {
    "duration": 152,
    "start_time": "2023-03-17T19:01:27.171Z"
   },
   {
    "duration": 972,
    "start_time": "2023-03-17T19:01:27.330Z"
   },
   {
    "duration": 9,
    "start_time": "2023-03-17T19:01:28.305Z"
   },
   {
    "duration": 34,
    "start_time": "2023-03-17T19:01:28.315Z"
   },
   {
    "duration": 3,
    "start_time": "2023-03-17T19:01:28.351Z"
   },
   {
    "duration": 11,
    "start_time": "2023-03-17T19:01:28.355Z"
   },
   {
    "duration": 21,
    "start_time": "2023-03-17T19:01:28.368Z"
   },
   {
    "duration": 40,
    "start_time": "2023-03-17T19:01:28.391Z"
   },
   {
    "duration": 9326,
    "start_time": "2023-03-17T19:01:28.433Z"
   },
   {
    "duration": 43,
    "start_time": "2023-03-17T19:01:37.761Z"
   },
   {
    "duration": 5388,
    "start_time": "2023-03-17T19:01:37.807Z"
   },
   {
    "duration": 54,
    "start_time": "2023-03-17T19:01:43.197Z"
   },
   {
    "duration": 31,
    "start_time": "2023-03-17T19:01:43.253Z"
   },
   {
    "duration": 109,
    "start_time": "2023-03-17T19:09:42.331Z"
   },
   {
    "duration": 1246,
    "start_time": "2023-03-17T19:09:58.221Z"
   },
   {
    "duration": 19,
    "start_time": "2023-03-17T19:10:14.714Z"
   },
   {
    "duration": 13,
    "start_time": "2023-03-17T19:10:25.898Z"
   },
   {
    "duration": 15,
    "start_time": "2023-03-17T19:10:34.991Z"
   },
   {
    "duration": 16,
    "start_time": "2023-03-17T19:10:41.399Z"
   },
   {
    "duration": 4,
    "start_time": "2023-03-17T19:11:12.364Z"
   },
   {
    "duration": 15,
    "start_time": "2023-03-17T19:11:16.293Z"
   },
   {
    "duration": 8,
    "start_time": "2023-03-17T19:12:26.576Z"
   },
   {
    "duration": 14,
    "start_time": "2023-03-17T19:12:36.815Z"
   },
   {
    "duration": 1728,
    "start_time": "2023-03-18T14:29:40.761Z"
   },
   {
    "duration": 1238,
    "start_time": "2023-03-18T14:29:42.496Z"
   },
   {
    "duration": 35,
    "start_time": "2023-03-18T14:29:43.736Z"
   },
   {
    "duration": 14,
    "start_time": "2023-03-18T14:29:43.775Z"
   },
   {
    "duration": 57,
    "start_time": "2023-03-18T14:29:43.792Z"
   },
   {
    "duration": 38,
    "start_time": "2023-03-18T14:29:43.854Z"
   },
   {
    "duration": 108,
    "start_time": "2023-03-18T14:29:43.901Z"
   },
   {
    "duration": 200,
    "start_time": "2023-03-18T14:29:44.011Z"
   },
   {
    "duration": 1791,
    "start_time": "2023-03-18T14:29:44.214Z"
   },
   {
    "duration": 18,
    "start_time": "2023-03-18T14:29:46.008Z"
   },
   {
    "duration": 40,
    "start_time": "2023-03-18T14:29:46.030Z"
   },
   {
    "duration": 4,
    "start_time": "2023-03-18T14:29:46.074Z"
   },
   {
    "duration": 23,
    "start_time": "2023-03-18T14:29:46.087Z"
   },
   {
    "duration": 50,
    "start_time": "2023-03-18T14:29:46.121Z"
   },
   {
    "duration": 11,
    "start_time": "2023-03-18T14:29:46.177Z"
   },
   {
    "duration": 13512,
    "start_time": "2023-03-18T14:29:46.195Z"
   },
   {
    "duration": 69,
    "start_time": "2023-03-18T14:29:59.710Z"
   },
   {
    "duration": 7006,
    "start_time": "2023-03-18T14:29:59.783Z"
   },
   {
    "duration": 53,
    "start_time": "2023-03-18T14:30:06.796Z"
   },
   {
    "duration": 49,
    "start_time": "2023-03-18T14:30:06.851Z"
   },
   {
    "duration": 4,
    "start_time": "2023-03-18T14:30:06.902Z"
   },
   {
    "duration": 157,
    "start_time": "2023-03-18T14:30:06.908Z"
   },
   {
    "duration": 24,
    "start_time": "2023-03-18T14:30:07.068Z"
   },
   {
    "duration": 209,
    "start_time": "2023-03-18T14:42:42.525Z"
   },
   {
    "duration": 5,
    "start_time": "2023-03-18T14:46:21.417Z"
   },
   {
    "duration": 124,
    "start_time": "2023-03-18T14:46:21.905Z"
   },
   {
    "duration": 10,
    "start_time": "2023-03-18T14:46:24.862Z"
   },
   {
    "duration": 141,
    "start_time": "2023-03-18T15:02:53.903Z"
   },
   {
    "duration": 104,
    "start_time": "2023-03-18T15:03:00.652Z"
   },
   {
    "duration": 82,
    "start_time": "2023-03-18T15:04:00.351Z"
   },
   {
    "duration": 72,
    "start_time": "2023-03-18T15:06:51.716Z"
   },
   {
    "duration": 13,
    "start_time": "2023-03-18T15:21:36.006Z"
   },
   {
    "duration": 16,
    "start_time": "2023-03-18T15:22:26.416Z"
   },
   {
    "duration": 237,
    "start_time": "2023-03-18T15:24:49.938Z"
   },
   {
    "duration": 219,
    "start_time": "2023-03-18T15:24:59.545Z"
   },
   {
    "duration": 230,
    "start_time": "2023-03-18T15:25:04.210Z"
   },
   {
    "duration": 235,
    "start_time": "2023-03-18T15:25:10.416Z"
   },
   {
    "duration": 429,
    "start_time": "2023-03-18T15:25:22.471Z"
   },
   {
    "duration": 186,
    "start_time": "2023-03-18T15:26:10.138Z"
   },
   {
    "duration": 18,
    "start_time": "2023-03-18T15:27:14.518Z"
   },
   {
    "duration": 1169,
    "start_time": "2023-03-18T15:28:24.120Z"
   },
   {
    "duration": 121,
    "start_time": "2023-03-18T15:28:39.963Z"
   },
   {
    "duration": 1266,
    "start_time": "2023-03-18T15:29:51.854Z"
   },
   {
    "duration": 182,
    "start_time": "2023-03-18T15:29:53.122Z"
   },
   {
    "duration": 32,
    "start_time": "2023-03-18T15:29:53.306Z"
   },
   {
    "duration": 13,
    "start_time": "2023-03-18T15:29:53.340Z"
   },
   {
    "duration": 62,
    "start_time": "2023-03-18T15:29:53.354Z"
   },
   {
    "duration": 26,
    "start_time": "2023-03-18T15:29:53.418Z"
   },
   {
    "duration": 93,
    "start_time": "2023-03-18T15:29:53.445Z"
   },
   {
    "duration": 171,
    "start_time": "2023-03-18T15:29:53.540Z"
   },
   {
    "duration": 1227,
    "start_time": "2023-03-18T15:29:53.713Z"
   },
   {
    "duration": 11,
    "start_time": "2023-03-18T15:29:54.943Z"
   },
   {
    "duration": 48,
    "start_time": "2023-03-18T15:29:54.956Z"
   },
   {
    "duration": 5,
    "start_time": "2023-03-18T15:29:55.006Z"
   },
   {
    "duration": 27,
    "start_time": "2023-03-18T15:29:55.014Z"
   },
   {
    "duration": 51,
    "start_time": "2023-03-18T15:29:55.043Z"
   },
   {
    "duration": 6,
    "start_time": "2023-03-18T15:29:55.096Z"
   },
   {
    "duration": 10855,
    "start_time": "2023-03-18T15:29:55.104Z"
   },
   {
    "duration": 63,
    "start_time": "2023-03-18T15:30:05.960Z"
   },
   {
    "duration": 6271,
    "start_time": "2023-03-18T15:30:06.025Z"
   },
   {
    "duration": 44,
    "start_time": "2023-03-18T15:30:12.299Z"
   },
   {
    "duration": 51,
    "start_time": "2023-03-18T15:30:12.344Z"
   },
   {
    "duration": 253,
    "start_time": "2023-03-18T15:30:12.397Z"
   },
   {
    "duration": 180,
    "start_time": "2023-03-18T15:30:12.652Z"
   },
   {
    "duration": 191,
    "start_time": "2023-03-18T15:30:12.888Z"
   },
   {
    "duration": 274,
    "start_time": "2023-03-18T15:30:13.081Z"
   },
   {
    "duration": 247,
    "start_time": "2023-03-18T15:30:13.357Z"
   },
   {
    "duration": 0,
    "start_time": "2023-03-18T15:30:13.607Z"
   },
   {
    "duration": 108,
    "start_time": "2023-03-18T15:35:39.616Z"
   },
   {
    "duration": 70,
    "start_time": "2023-03-18T15:35:59.207Z"
   },
   {
    "duration": 15,
    "start_time": "2023-03-18T15:36:06.594Z"
   },
   {
    "duration": 183,
    "start_time": "2023-03-18T15:41:19.516Z"
   },
   {
    "duration": 19,
    "start_time": "2023-03-18T16:32:27.425Z"
   },
   {
    "duration": 24,
    "start_time": "2023-03-18T16:33:51.917Z"
   },
   {
    "duration": 53,
    "start_time": "2023-03-18T16:37:50.479Z"
   },
   {
    "duration": 57,
    "start_time": "2023-03-18T16:38:58.547Z"
   },
   {
    "duration": 57,
    "start_time": "2023-03-18T16:39:04.092Z"
   },
   {
    "duration": 79,
    "start_time": "2023-03-18T16:39:24.769Z"
   },
   {
    "duration": 5,
    "start_time": "2023-03-18T16:40:29.802Z"
   },
   {
    "duration": 4,
    "start_time": "2023-03-18T16:40:57.476Z"
   },
   {
    "duration": 3,
    "start_time": "2023-03-18T16:47:33.071Z"
   },
   {
    "duration": 4,
    "start_time": "2023-03-18T16:48:47.928Z"
   },
   {
    "duration": 5,
    "start_time": "2023-03-18T16:49:03.389Z"
   },
   {
    "duration": 4,
    "start_time": "2023-03-18T16:49:15.604Z"
   },
   {
    "duration": 4,
    "start_time": "2023-03-18T16:49:20.428Z"
   },
   {
    "duration": 4,
    "start_time": "2023-03-18T16:49:41.917Z"
   },
   {
    "duration": 5,
    "start_time": "2023-03-18T16:49:43.276Z"
   },
   {
    "duration": 4,
    "start_time": "2023-03-18T16:51:27.108Z"
   },
   {
    "duration": 4,
    "start_time": "2023-03-18T16:51:47.577Z"
   },
   {
    "duration": 4,
    "start_time": "2023-03-18T16:51:53.540Z"
   },
   {
    "duration": 47,
    "start_time": "2023-03-18T16:58:04.838Z"
   },
   {
    "duration": 15,
    "start_time": "2023-03-18T17:02:02.157Z"
   },
   {
    "duration": 11,
    "start_time": "2023-03-18T17:02:06.326Z"
   },
   {
    "duration": 10,
    "start_time": "2023-03-18T17:02:38.845Z"
   },
   {
    "duration": 1154,
    "start_time": "2023-03-18T17:02:43.825Z"
   },
   {
    "duration": 10,
    "start_time": "2023-03-18T17:02:52.925Z"
   },
   {
    "duration": 18,
    "start_time": "2023-03-18T17:03:33.747Z"
   },
   {
    "duration": 11,
    "start_time": "2023-03-18T17:04:20.231Z"
   },
   {
    "duration": 11,
    "start_time": "2023-03-18T17:04:25.513Z"
   },
   {
    "duration": 24,
    "start_time": "2023-03-18T17:10:25.332Z"
   },
   {
    "duration": 29,
    "start_time": "2023-03-18T17:11:06.360Z"
   },
   {
    "duration": 23,
    "start_time": "2023-03-18T17:11:33.101Z"
   },
   {
    "duration": 29,
    "start_time": "2023-03-18T17:12:19.751Z"
   },
   {
    "duration": 27,
    "start_time": "2023-03-18T17:12:20.316Z"
   },
   {
    "duration": 22,
    "start_time": "2023-03-18T17:12:31.955Z"
   },
   {
    "duration": 13,
    "start_time": "2023-03-18T17:15:04.304Z"
   },
   {
    "duration": 4,
    "start_time": "2023-03-18T17:15:15.970Z"
   },
   {
    "duration": 929,
    "start_time": "2023-03-18T17:16:26.048Z"
   },
   {
    "duration": 957,
    "start_time": "2023-03-18T17:18:30.840Z"
   },
   {
    "duration": 10,
    "start_time": "2023-03-18T17:19:18.543Z"
   },
   {
    "duration": 53,
    "start_time": "2023-03-18T17:19:26.802Z"
   },
   {
    "duration": 67,
    "start_time": "2023-03-18T17:19:59.072Z"
   },
   {
    "duration": 5,
    "start_time": "2023-03-18T17:21:25.701Z"
   },
   {
    "duration": 1164,
    "start_time": "2023-03-18T17:21:42.013Z"
   },
   {
    "duration": 13,
    "start_time": "2023-03-18T17:22:35.447Z"
   },
   {
    "duration": 5,
    "start_time": "2023-03-18T17:22:55.399Z"
   },
   {
    "duration": 11,
    "start_time": "2023-03-18T17:22:56.662Z"
   },
   {
    "duration": 5,
    "start_time": "2023-03-18T17:24:07.340Z"
   },
   {
    "duration": 1217,
    "start_time": "2023-03-18T17:24:17.099Z"
   },
   {
    "duration": 190,
    "start_time": "2023-03-18T17:24:18.318Z"
   },
   {
    "duration": 36,
    "start_time": "2023-03-18T17:24:18.510Z"
   },
   {
    "duration": 12,
    "start_time": "2023-03-18T17:24:18.549Z"
   },
   {
    "duration": 55,
    "start_time": "2023-03-18T17:24:18.563Z"
   },
   {
    "duration": 28,
    "start_time": "2023-03-18T17:24:18.620Z"
   },
   {
    "duration": 90,
    "start_time": "2023-03-18T17:24:18.653Z"
   },
   {
    "duration": 171,
    "start_time": "2023-03-18T17:24:18.745Z"
   },
   {
    "duration": 1051,
    "start_time": "2023-03-18T17:24:18.918Z"
   },
   {
    "duration": 9,
    "start_time": "2023-03-18T17:24:19.972Z"
   },
   {
    "duration": 20,
    "start_time": "2023-03-18T17:24:19.989Z"
   },
   {
    "duration": 4,
    "start_time": "2023-03-18T17:24:20.011Z"
   },
   {
    "duration": 32,
    "start_time": "2023-03-18T17:24:20.016Z"
   },
   {
    "duration": 33,
    "start_time": "2023-03-18T17:24:20.049Z"
   },
   {
    "duration": 6,
    "start_time": "2023-03-18T17:24:20.084Z"
   },
   {
    "duration": 9078,
    "start_time": "2023-03-18T17:24:20.092Z"
   },
   {
    "duration": 63,
    "start_time": "2023-03-18T17:24:29.172Z"
   },
   {
    "duration": 5346,
    "start_time": "2023-03-18T17:24:29.237Z"
   },
   {
    "duration": 42,
    "start_time": "2023-03-18T17:24:34.589Z"
   },
   {
    "duration": 28,
    "start_time": "2023-03-18T17:24:34.633Z"
   },
   {
    "duration": 218,
    "start_time": "2023-03-18T17:24:34.663Z"
   },
   {
    "duration": 218,
    "start_time": "2023-03-18T17:24:34.888Z"
   },
   {
    "duration": 218,
    "start_time": "2023-03-18T17:24:35.108Z"
   },
   {
    "duration": 170,
    "start_time": "2023-03-18T17:24:35.329Z"
   },
   {
    "duration": 52,
    "start_time": "2023-03-18T17:24:35.501Z"
   },
   {
    "duration": 4,
    "start_time": "2023-03-18T17:24:35.554Z"
   },
   {
    "duration": 29,
    "start_time": "2023-03-18T17:24:35.560Z"
   },
   {
    "duration": 4,
    "start_time": "2023-03-18T17:24:35.594Z"
   },
   {
    "duration": 35,
    "start_time": "2023-03-18T17:24:35.599Z"
   },
   {
    "duration": 21,
    "start_time": "2023-03-18T17:24:35.636Z"
   },
   {
    "duration": 51,
    "start_time": "2023-03-18T17:24:35.658Z"
   },
   {
    "duration": 22,
    "start_time": "2023-03-18T17:24:35.711Z"
   },
   {
    "duration": 21,
    "start_time": "2023-03-18T17:24:35.735Z"
   },
   {
    "duration": 32,
    "start_time": "2023-03-18T17:24:35.758Z"
   },
   {
    "duration": 61,
    "start_time": "2023-03-18T17:24:35.792Z"
   },
   {
    "duration": 5,
    "start_time": "2023-03-18T17:24:35.855Z"
   },
   {
    "duration": 37,
    "start_time": "2023-03-18T17:24:35.862Z"
   },
   {
    "duration": 114,
    "start_time": "2023-03-18T17:28:59.019Z"
   },
   {
    "duration": 14,
    "start_time": "2023-03-18T17:32:52.521Z"
   },
   {
    "duration": 11,
    "start_time": "2023-03-18T17:33:04.339Z"
   },
   {
    "duration": 5,
    "start_time": "2023-03-18T17:33:59.952Z"
   },
   {
    "duration": 5,
    "start_time": "2023-03-18T17:34:19.035Z"
   },
   {
    "duration": 5,
    "start_time": "2023-03-18T17:35:15.334Z"
   },
   {
    "duration": 13,
    "start_time": "2023-03-18T17:35:17.304Z"
   },
   {
    "duration": 1229,
    "start_time": "2023-03-18T17:36:43.097Z"
   },
   {
    "duration": 184,
    "start_time": "2023-03-18T17:36:44.328Z"
   },
   {
    "duration": 24,
    "start_time": "2023-03-18T17:36:44.514Z"
   },
   {
    "duration": 9,
    "start_time": "2023-03-18T17:36:44.541Z"
   },
   {
    "duration": 56,
    "start_time": "2023-03-18T17:36:44.551Z"
   },
   {
    "duration": 29,
    "start_time": "2023-03-18T17:36:44.609Z"
   },
   {
    "duration": 123,
    "start_time": "2023-03-18T17:36:44.640Z"
   },
   {
    "duration": 167,
    "start_time": "2023-03-18T17:36:44.765Z"
   },
   {
    "duration": 1069,
    "start_time": "2023-03-18T17:36:44.934Z"
   },
   {
    "duration": 9,
    "start_time": "2023-03-18T17:36:46.006Z"
   },
   {
    "duration": 28,
    "start_time": "2023-03-18T17:36:46.016Z"
   },
   {
    "duration": 4,
    "start_time": "2023-03-18T17:36:46.046Z"
   },
   {
    "duration": 11,
    "start_time": "2023-03-18T17:36:46.051Z"
   },
   {
    "duration": 42,
    "start_time": "2023-03-18T17:36:46.063Z"
   },
   {
    "duration": 6,
    "start_time": "2023-03-18T17:36:46.106Z"
   },
   {
    "duration": 9108,
    "start_time": "2023-03-18T17:36:46.114Z"
   },
   {
    "duration": 52,
    "start_time": "2023-03-18T17:36:55.224Z"
   },
   {
    "duration": 5398,
    "start_time": "2023-03-18T17:36:55.278Z"
   },
   {
    "duration": 44,
    "start_time": "2023-03-18T17:37:00.678Z"
   },
   {
    "duration": 35,
    "start_time": "2023-03-18T17:37:00.724Z"
   },
   {
    "duration": 209,
    "start_time": "2023-03-18T17:37:00.761Z"
   },
   {
    "duration": 130,
    "start_time": "2023-03-18T17:37:00.972Z"
   },
   {
    "duration": 223,
    "start_time": "2023-03-18T17:37:01.105Z"
   },
   {
    "duration": 169,
    "start_time": "2023-03-18T17:37:01.330Z"
   },
   {
    "duration": 68,
    "start_time": "2023-03-18T17:37:01.501Z"
   },
   {
    "duration": 19,
    "start_time": "2023-03-18T17:37:01.570Z"
   },
   {
    "duration": 56,
    "start_time": "2023-03-18T17:37:01.591Z"
   },
   {
    "duration": 71,
    "start_time": "2023-03-18T17:37:01.650Z"
   },
   {
    "duration": 73,
    "start_time": "2023-03-18T17:37:01.722Z"
   },
   {
    "duration": 47,
    "start_time": "2023-03-18T17:37:01.798Z"
   },
   {
    "duration": 41,
    "start_time": "2023-03-18T17:37:01.847Z"
   },
   {
    "duration": 90,
    "start_time": "2023-03-18T17:37:01.890Z"
   },
   {
    "duration": 90,
    "start_time": "2023-03-18T17:37:01.982Z"
   },
   {
    "duration": 111,
    "start_time": "2023-03-18T17:37:02.074Z"
   },
   {
    "duration": 28,
    "start_time": "2023-03-18T17:37:02.187Z"
   },
   {
    "duration": 54,
    "start_time": "2023-03-18T17:37:02.216Z"
   },
   {
    "duration": 70,
    "start_time": "2023-03-18T17:37:02.272Z"
   },
   {
    "duration": 141,
    "start_time": "2023-03-18T17:43:03.714Z"
   },
   {
    "duration": 54,
    "start_time": "2023-03-18T17:43:12.958Z"
   },
   {
    "duration": 107,
    "start_time": "2023-03-18T17:43:27.766Z"
   },
   {
    "duration": 8,
    "start_time": "2023-03-18T17:43:50.161Z"
   },
   {
    "duration": 11,
    "start_time": "2023-03-18T17:43:56.465Z"
   },
   {
    "duration": 57,
    "start_time": "2023-03-18T17:44:30.242Z"
   },
   {
    "duration": 67,
    "start_time": "2023-03-18T17:44:59.737Z"
   },
   {
    "duration": 57,
    "start_time": "2023-03-18T17:45:10.123Z"
   },
   {
    "duration": 58,
    "start_time": "2023-03-18T17:45:24.423Z"
   },
   {
    "duration": 59,
    "start_time": "2023-03-18T17:46:00.071Z"
   },
   {
    "duration": 83,
    "start_time": "2023-03-18T17:52:57.436Z"
   },
   {
    "duration": 20,
    "start_time": "2023-03-18T17:53:56.819Z"
   },
   {
    "duration": 14,
    "start_time": "2023-03-18T17:57:04.732Z"
   },
   {
    "duration": 12,
    "start_time": "2023-03-18T18:00:35.664Z"
   },
   {
    "duration": 79,
    "start_time": "2023-03-18T18:02:09.444Z"
   },
   {
    "duration": 18,
    "start_time": "2023-03-18T18:03:48.134Z"
   },
   {
    "duration": 20,
    "start_time": "2023-03-18T18:04:50.775Z"
   },
   {
    "duration": 17,
    "start_time": "2023-03-18T18:05:11.716Z"
   },
   {
    "duration": 13,
    "start_time": "2023-03-18T18:07:37.637Z"
   },
   {
    "duration": 13,
    "start_time": "2023-03-18T18:11:42.862Z"
   },
   {
    "duration": 17,
    "start_time": "2023-03-18T18:11:46.854Z"
   },
   {
    "duration": 19,
    "start_time": "2023-03-18T18:13:52.564Z"
   },
   {
    "duration": 17,
    "start_time": "2023-03-18T18:14:03.836Z"
   },
   {
    "duration": 73,
    "start_time": "2023-03-18T18:15:24.386Z"
   },
   {
    "duration": 71,
    "start_time": "2023-03-18T18:15:36.012Z"
   },
   {
    "duration": 17,
    "start_time": "2023-03-18T18:16:23.144Z"
   },
   {
    "duration": 11,
    "start_time": "2023-03-18T18:24:21.032Z"
   },
   {
    "duration": 11,
    "start_time": "2023-03-18T18:24:56.605Z"
   },
   {
    "duration": 13,
    "start_time": "2023-03-18T18:25:03.963Z"
   },
   {
    "duration": 12,
    "start_time": "2023-03-18T18:25:15.579Z"
   },
   {
    "duration": 5,
    "start_time": "2023-03-18T18:26:34.681Z"
   },
   {
    "duration": 12,
    "start_time": "2023-03-18T18:26:39.651Z"
   },
   {
    "duration": 1256,
    "start_time": "2023-03-18T18:26:54.068Z"
   },
   {
    "duration": 187,
    "start_time": "2023-03-18T18:26:55.326Z"
   },
   {
    "duration": 22,
    "start_time": "2023-03-18T18:26:55.515Z"
   },
   {
    "duration": 8,
    "start_time": "2023-03-18T18:26:55.538Z"
   },
   {
    "duration": 50,
    "start_time": "2023-03-18T18:26:55.549Z"
   },
   {
    "duration": 28,
    "start_time": "2023-03-18T18:26:55.601Z"
   },
   {
    "duration": 111,
    "start_time": "2023-03-18T18:26:55.631Z"
   },
   {
    "duration": 149,
    "start_time": "2023-03-18T18:26:55.744Z"
   },
   {
    "duration": 1035,
    "start_time": "2023-03-18T18:26:55.895Z"
   },
   {
    "duration": 11,
    "start_time": "2023-03-18T18:26:56.933Z"
   },
   {
    "duration": 52,
    "start_time": "2023-03-18T18:26:56.946Z"
   },
   {
    "duration": 14,
    "start_time": "2023-03-18T18:26:57.000Z"
   },
   {
    "duration": 12,
    "start_time": "2023-03-18T18:26:57.016Z"
   },
   {
    "duration": 17,
    "start_time": "2023-03-18T18:26:57.031Z"
   },
   {
    "duration": 5,
    "start_time": "2023-03-18T18:26:57.050Z"
   },
   {
    "duration": 9321,
    "start_time": "2023-03-18T18:26:57.057Z"
   },
   {
    "duration": 44,
    "start_time": "2023-03-18T18:27:06.380Z"
   },
   {
    "duration": 5584,
    "start_time": "2023-03-18T18:27:06.426Z"
   },
   {
    "duration": 31,
    "start_time": "2023-03-18T18:27:12.012Z"
   },
   {
    "duration": 43,
    "start_time": "2023-03-18T18:27:12.045Z"
   },
   {
    "duration": 170,
    "start_time": "2023-03-18T18:27:12.090Z"
   },
   {
    "duration": 155,
    "start_time": "2023-03-18T18:27:12.262Z"
   },
   {
    "duration": 197,
    "start_time": "2023-03-18T18:27:12.418Z"
   },
   {
    "duration": 159,
    "start_time": "2023-03-18T18:27:12.617Z"
   },
   {
    "duration": 57,
    "start_time": "2023-03-18T18:27:12.777Z"
   },
   {
    "duration": 5,
    "start_time": "2023-03-18T18:27:12.836Z"
   },
   {
    "duration": 6,
    "start_time": "2023-03-18T18:27:12.843Z"
   },
   {
    "duration": 4,
    "start_time": "2023-03-18T18:27:12.851Z"
   },
   {
    "duration": 69,
    "start_time": "2023-03-18T18:27:12.857Z"
   },
   {
    "duration": 26,
    "start_time": "2023-03-18T18:27:12.928Z"
   },
   {
    "duration": 35,
    "start_time": "2023-03-18T18:27:12.956Z"
   },
   {
    "duration": 18,
    "start_time": "2023-03-18T18:27:12.993Z"
   },
   {
    "duration": 3,
    "start_time": "2023-03-18T18:27:13.013Z"
   },
   {
    "duration": 83,
    "start_time": "2023-03-18T18:27:13.018Z"
   },
   {
    "duration": 8,
    "start_time": "2023-03-18T18:27:13.105Z"
   },
   {
    "duration": 5,
    "start_time": "2023-03-18T18:27:13.114Z"
   },
   {
    "duration": 10,
    "start_time": "2023-03-18T18:27:13.121Z"
   },
   {
    "duration": 113,
    "start_time": "2023-03-18T18:27:13.133Z"
   },
   {
    "duration": 17,
    "start_time": "2023-03-18T18:27:13.248Z"
   },
   {
    "duration": 25,
    "start_time": "2023-03-18T18:27:13.267Z"
   },
   {
    "duration": 14,
    "start_time": "2023-03-18T18:27:13.295Z"
   },
   {
    "duration": 13,
    "start_time": "2023-03-18T18:27:13.310Z"
   },
   {
    "duration": 12,
    "start_time": "2023-03-18T18:27:13.325Z"
   },
   {
    "duration": 57,
    "start_time": "2023-03-18T18:27:13.338Z"
   },
   {
    "duration": 18,
    "start_time": "2023-03-18T18:27:13.397Z"
   },
   {
    "duration": 139,
    "start_time": "2023-03-18T18:28:04.911Z"
   },
   {
    "duration": 55,
    "start_time": "2023-03-18T18:28:11.908Z"
   },
   {
    "duration": 52,
    "start_time": "2023-03-18T18:28:59.865Z"
   },
   {
    "duration": 50,
    "start_time": "2023-03-18T18:29:21.570Z"
   },
   {
    "duration": 6,
    "start_time": "2023-03-18T18:29:23.817Z"
   },
   {
    "duration": 1144,
    "start_time": "2023-03-18T18:29:24.756Z"
   },
   {
    "duration": 39,
    "start_time": "2023-03-18T18:29:55.005Z"
   },
   {
    "duration": 39,
    "start_time": "2023-03-18T18:30:16.029Z"
   },
   {
    "duration": 66,
    "start_time": "2023-03-18T18:30:21.267Z"
   },
   {
    "duration": 1238,
    "start_time": "2023-03-18T18:30:47.581Z"
   },
   {
    "duration": 173,
    "start_time": "2023-03-18T18:30:48.821Z"
   },
   {
    "duration": 33,
    "start_time": "2023-03-18T18:30:48.999Z"
   },
   {
    "duration": 9,
    "start_time": "2023-03-18T18:30:49.034Z"
   },
   {
    "duration": 55,
    "start_time": "2023-03-18T18:30:49.044Z"
   },
   {
    "duration": 18,
    "start_time": "2023-03-18T18:30:49.100Z"
   },
   {
    "duration": 84,
    "start_time": "2023-03-18T18:30:49.119Z"
   },
   {
    "duration": 139,
    "start_time": "2023-03-18T18:30:49.205Z"
   },
   {
    "duration": 1008,
    "start_time": "2023-03-18T18:30:49.347Z"
   },
   {
    "duration": 10,
    "start_time": "2023-03-18T18:30:50.357Z"
   },
   {
    "duration": 33,
    "start_time": "2023-03-18T18:30:50.369Z"
   },
   {
    "duration": 4,
    "start_time": "2023-03-18T18:30:50.404Z"
   },
   {
    "duration": 8,
    "start_time": "2023-03-18T18:30:50.410Z"
   },
   {
    "duration": 19,
    "start_time": "2023-03-18T18:30:50.420Z"
   },
   {
    "duration": 6,
    "start_time": "2023-03-18T18:30:50.440Z"
   },
   {
    "duration": 9070,
    "start_time": "2023-03-18T18:30:50.448Z"
   },
   {
    "duration": 43,
    "start_time": "2023-03-18T18:30:59.520Z"
   },
   {
    "duration": 5259,
    "start_time": "2023-03-18T18:30:59.564Z"
   },
   {
    "duration": 31,
    "start_time": "2023-03-18T18:31:04.825Z"
   },
   {
    "duration": 48,
    "start_time": "2023-03-18T18:31:04.858Z"
   },
   {
    "duration": 238,
    "start_time": "2023-03-18T18:31:04.907Z"
   },
   {
    "duration": 169,
    "start_time": "2023-03-18T18:31:05.147Z"
   },
   {
    "duration": 235,
    "start_time": "2023-03-18T18:31:05.318Z"
   },
   {
    "duration": 165,
    "start_time": "2023-03-18T18:31:05.555Z"
   },
   {
    "duration": 53,
    "start_time": "2023-03-18T18:31:05.723Z"
   },
   {
    "duration": 4,
    "start_time": "2023-03-18T18:31:05.790Z"
   },
   {
    "duration": 8,
    "start_time": "2023-03-18T18:31:05.797Z"
   },
   {
    "duration": 15,
    "start_time": "2023-03-18T18:31:05.807Z"
   },
   {
    "duration": 37,
    "start_time": "2023-03-18T18:31:05.824Z"
   },
   {
    "duration": 39,
    "start_time": "2023-03-18T18:31:05.863Z"
   },
   {
    "duration": 21,
    "start_time": "2023-03-18T18:31:05.904Z"
   },
   {
    "duration": 22,
    "start_time": "2023-03-18T18:31:05.927Z"
   },
   {
    "duration": 6,
    "start_time": "2023-03-18T18:31:05.952Z"
   },
   {
    "duration": 89,
    "start_time": "2023-03-18T18:31:05.959Z"
   },
   {
    "duration": 6,
    "start_time": "2023-03-18T18:31:06.050Z"
   },
   {
    "duration": 21,
    "start_time": "2023-03-18T18:31:06.058Z"
   },
   {
    "duration": 109,
    "start_time": "2023-03-18T18:31:06.081Z"
   },
   {
    "duration": 23,
    "start_time": "2023-03-18T18:31:06.192Z"
   },
   {
    "duration": 22,
    "start_time": "2023-03-18T18:31:06.217Z"
   },
   {
    "duration": 20,
    "start_time": "2023-03-18T18:31:06.241Z"
   },
   {
    "duration": 51,
    "start_time": "2023-03-18T18:31:06.263Z"
   },
   {
    "duration": 16,
    "start_time": "2023-03-18T18:31:06.316Z"
   },
   {
    "duration": 12,
    "start_time": "2023-03-18T18:31:06.334Z"
   },
   {
    "duration": 29,
    "start_time": "2023-03-18T18:31:06.348Z"
   },
   {
    "duration": 4,
    "start_time": "2023-03-18T18:33:26.844Z"
   },
   {
    "duration": 11,
    "start_time": "2023-03-18T18:33:27.528Z"
   },
   {
    "duration": 14,
    "start_time": "2023-03-18T18:36:33.607Z"
   },
   {
    "duration": 5,
    "start_time": "2023-03-18T18:36:35.846Z"
   },
   {
    "duration": 14,
    "start_time": "2023-03-18T18:36:36.818Z"
   },
   {
    "duration": 14,
    "start_time": "2023-03-18T18:37:38.114Z"
   },
   {
    "duration": 33,
    "start_time": "2023-03-18T18:37:42.914Z"
   },
   {
    "duration": 1303,
    "start_time": "2023-03-18T18:38:00.930Z"
   },
   {
    "duration": 178,
    "start_time": "2023-03-18T18:38:02.235Z"
   },
   {
    "duration": 29,
    "start_time": "2023-03-18T18:38:02.415Z"
   },
   {
    "duration": 9,
    "start_time": "2023-03-18T18:38:02.446Z"
   },
   {
    "duration": 66,
    "start_time": "2023-03-18T18:38:02.458Z"
   },
   {
    "duration": 17,
    "start_time": "2023-03-18T18:38:02.527Z"
   },
   {
    "duration": 88,
    "start_time": "2023-03-18T18:38:02.546Z"
   },
   {
    "duration": 159,
    "start_time": "2023-03-18T18:38:02.637Z"
   },
   {
    "duration": 1022,
    "start_time": "2023-03-18T18:38:02.798Z"
   },
   {
    "duration": 13,
    "start_time": "2023-03-18T18:38:03.822Z"
   },
   {
    "duration": 23,
    "start_time": "2023-03-18T18:38:03.837Z"
   },
   {
    "duration": 3,
    "start_time": "2023-03-18T18:38:03.862Z"
   },
   {
    "duration": 8,
    "start_time": "2023-03-18T18:38:03.888Z"
   },
   {
    "duration": 25,
    "start_time": "2023-03-18T18:38:03.899Z"
   },
   {
    "duration": 5,
    "start_time": "2023-03-18T18:38:03.925Z"
   },
   {
    "duration": 9150,
    "start_time": "2023-03-18T18:38:03.932Z"
   },
   {
    "duration": 46,
    "start_time": "2023-03-18T18:38:13.084Z"
   },
   {
    "duration": 5243,
    "start_time": "2023-03-18T18:38:13.131Z"
   },
   {
    "duration": 39,
    "start_time": "2023-03-18T18:38:18.376Z"
   },
   {
    "duration": 26,
    "start_time": "2023-03-18T18:38:18.417Z"
   },
   {
    "duration": 192,
    "start_time": "2023-03-18T18:38:18.446Z"
   },
   {
    "duration": 172,
    "start_time": "2023-03-18T18:38:18.640Z"
   },
   {
    "duration": 218,
    "start_time": "2023-03-18T18:38:18.814Z"
   },
   {
    "duration": 170,
    "start_time": "2023-03-18T18:38:19.033Z"
   },
   {
    "duration": 53,
    "start_time": "2023-03-18T18:38:19.205Z"
   },
   {
    "duration": 5,
    "start_time": "2023-03-18T18:38:19.260Z"
   },
   {
    "duration": 101,
    "start_time": "2023-03-18T18:38:19.288Z"
   },
   {
    "duration": 8,
    "start_time": "2023-03-18T18:38:19.391Z"
   },
   {
    "duration": 19,
    "start_time": "2023-03-18T18:38:19.401Z"
   },
   {
    "duration": 32,
    "start_time": "2023-03-18T18:38:19.422Z"
   },
   {
    "duration": 46,
    "start_time": "2023-03-18T18:38:19.455Z"
   },
   {
    "duration": 19,
    "start_time": "2023-03-18T18:38:19.503Z"
   },
   {
    "duration": 27,
    "start_time": "2023-03-18T18:38:19.524Z"
   },
   {
    "duration": 4,
    "start_time": "2023-03-18T18:38:19.553Z"
   },
   {
    "duration": 80,
    "start_time": "2023-03-18T18:38:19.559Z"
   },
   {
    "duration": 5,
    "start_time": "2023-03-18T18:38:19.641Z"
   },
   {
    "duration": 13,
    "start_time": "2023-03-18T18:38:19.648Z"
   },
   {
    "duration": 156,
    "start_time": "2023-03-18T18:38:19.663Z"
   },
   {
    "duration": 23,
    "start_time": "2023-03-18T18:38:19.821Z"
   },
   {
    "duration": 16,
    "start_time": "2023-03-18T18:38:19.846Z"
   },
   {
    "duration": 17,
    "start_time": "2023-03-18T18:38:19.891Z"
   },
   {
    "duration": 15,
    "start_time": "2023-03-18T18:38:19.910Z"
   },
   {
    "duration": 17,
    "start_time": "2023-03-18T18:38:19.927Z"
   },
   {
    "duration": 47,
    "start_time": "2023-03-18T18:38:19.946Z"
   },
   {
    "duration": 23,
    "start_time": "2023-03-18T18:38:19.995Z"
   },
   {
    "duration": 14,
    "start_time": "2023-03-18T18:41:43.081Z"
   },
   {
    "duration": 11,
    "start_time": "2023-03-18T18:41:54.497Z"
   },
   {
    "duration": 12,
    "start_time": "2023-03-18T18:42:08.354Z"
   },
   {
    "duration": 10,
    "start_time": "2023-03-18T18:42:16.315Z"
   },
   {
    "duration": 16,
    "start_time": "2023-03-18T18:42:23.866Z"
   },
   {
    "duration": 16,
    "start_time": "2023-03-18T18:42:29.714Z"
   },
   {
    "duration": 15,
    "start_time": "2023-03-18T18:42:46.083Z"
   },
   {
    "duration": 14,
    "start_time": "2023-03-18T18:42:50.061Z"
   },
   {
    "duration": 1235,
    "start_time": "2023-03-18T18:44:58.981Z"
   },
   {
    "duration": 180,
    "start_time": "2023-03-18T18:45:00.218Z"
   },
   {
    "duration": 21,
    "start_time": "2023-03-18T18:45:00.400Z"
   },
   {
    "duration": 18,
    "start_time": "2023-03-18T18:45:00.424Z"
   },
   {
    "duration": 51,
    "start_time": "2023-03-18T18:45:00.444Z"
   },
   {
    "duration": 17,
    "start_time": "2023-03-18T18:45:00.497Z"
   },
   {
    "duration": 109,
    "start_time": "2023-03-18T18:45:00.515Z"
   },
   {
    "duration": 151,
    "start_time": "2023-03-18T18:45:00.626Z"
   },
   {
    "duration": 1055,
    "start_time": "2023-03-18T18:45:00.778Z"
   },
   {
    "duration": 9,
    "start_time": "2023-03-18T18:45:01.836Z"
   },
   {
    "duration": 43,
    "start_time": "2023-03-18T18:45:01.847Z"
   },
   {
    "duration": 23,
    "start_time": "2023-03-18T18:45:01.892Z"
   },
   {
    "duration": 97,
    "start_time": "2023-03-18T18:45:01.917Z"
   },
   {
    "duration": 92,
    "start_time": "2023-03-18T18:45:02.017Z"
   },
   {
    "duration": 6,
    "start_time": "2023-03-18T18:45:02.111Z"
   },
   {
    "duration": 9536,
    "start_time": "2023-03-18T18:45:02.118Z"
   },
   {
    "duration": 48,
    "start_time": "2023-03-18T18:45:11.656Z"
   },
   {
    "duration": 5286,
    "start_time": "2023-03-18T18:45:11.706Z"
   },
   {
    "duration": 34,
    "start_time": "2023-03-18T18:45:16.994Z"
   },
   {
    "duration": 27,
    "start_time": "2023-03-18T18:45:17.029Z"
   },
   {
    "duration": 191,
    "start_time": "2023-03-18T18:45:17.058Z"
   },
   {
    "duration": 144,
    "start_time": "2023-03-18T18:45:17.251Z"
   },
   {
    "duration": 214,
    "start_time": "2023-03-18T18:45:17.397Z"
   },
   {
    "duration": 159,
    "start_time": "2023-03-18T18:45:17.613Z"
   },
   {
    "duration": 61,
    "start_time": "2023-03-18T18:45:17.775Z"
   },
   {
    "duration": 4,
    "start_time": "2023-03-18T18:45:17.838Z"
   },
   {
    "duration": 5,
    "start_time": "2023-03-18T18:45:17.844Z"
   },
   {
    "duration": 4,
    "start_time": "2023-03-18T18:45:17.853Z"
   },
   {
    "duration": 44,
    "start_time": "2023-03-18T18:45:17.859Z"
   },
   {
    "duration": 43,
    "start_time": "2023-03-18T18:45:17.905Z"
   },
   {
    "duration": 41,
    "start_time": "2023-03-18T18:45:17.950Z"
   },
   {
    "duration": 28,
    "start_time": "2023-03-18T18:45:17.994Z"
   },
   {
    "duration": 20,
    "start_time": "2023-03-18T18:45:18.024Z"
   },
   {
    "duration": 4,
    "start_time": "2023-03-18T18:45:18.047Z"
   },
   {
    "duration": 100,
    "start_time": "2023-03-18T18:45:18.053Z"
   },
   {
    "duration": 5,
    "start_time": "2023-03-18T18:45:18.155Z"
   },
   {
    "duration": 38,
    "start_time": "2023-03-18T18:45:18.162Z"
   },
   {
    "duration": 98,
    "start_time": "2023-03-18T18:45:18.202Z"
   },
   {
    "duration": 18,
    "start_time": "2023-03-18T18:45:18.302Z"
   },
   {
    "duration": 13,
    "start_time": "2023-03-18T18:45:18.323Z"
   },
   {
    "duration": 13,
    "start_time": "2023-03-18T18:45:18.338Z"
   },
   {
    "duration": 45,
    "start_time": "2023-03-18T18:45:18.352Z"
   },
   {
    "duration": 13,
    "start_time": "2023-03-18T18:45:18.398Z"
   },
   {
    "duration": 15,
    "start_time": "2023-03-18T18:45:18.412Z"
   },
   {
    "duration": 13,
    "start_time": "2023-03-18T18:45:18.429Z"
   },
   {
    "duration": 11,
    "start_time": "2023-03-18T18:45:30.548Z"
   },
   {
    "duration": 12,
    "start_time": "2023-03-18T18:45:37.609Z"
   },
   {
    "duration": 12,
    "start_time": "2023-03-18T18:45:48.541Z"
   },
   {
    "duration": 12,
    "start_time": "2023-03-18T18:45:52.812Z"
   },
   {
    "duration": 5,
    "start_time": "2023-03-18T18:47:48.073Z"
   },
   {
    "duration": 10,
    "start_time": "2023-03-18T18:47:50.405Z"
   },
   {
    "duration": 9,
    "start_time": "2023-03-18T18:47:54.846Z"
   },
   {
    "duration": 6,
    "start_time": "2023-03-18T18:48:10.122Z"
   },
   {
    "duration": 7,
    "start_time": "2023-03-18T18:48:45.632Z"
   },
   {
    "duration": 12,
    "start_time": "2023-03-18T18:48:47.670Z"
   },
   {
    "duration": 7,
    "start_time": "2023-03-18T18:48:59.382Z"
   },
   {
    "duration": 14,
    "start_time": "2023-03-18T18:49:06.625Z"
   },
   {
    "duration": 2,
    "start_time": "2023-03-18T18:57:53.709Z"
   },
   {
    "duration": 3,
    "start_time": "2023-03-18T19:06:03.237Z"
   },
   {
    "duration": 1270,
    "start_time": "2023-03-18T19:14:01.571Z"
   },
   {
    "duration": 195,
    "start_time": "2023-03-18T19:14:02.844Z"
   },
   {
    "duration": 23,
    "start_time": "2023-03-18T19:14:03.041Z"
   },
   {
    "duration": 29,
    "start_time": "2023-03-18T19:14:03.067Z"
   },
   {
    "duration": 88,
    "start_time": "2023-03-18T19:14:03.099Z"
   },
   {
    "duration": 27,
    "start_time": "2023-03-18T19:14:03.191Z"
   },
   {
    "duration": 99,
    "start_time": "2023-03-18T19:14:03.220Z"
   },
   {
    "duration": 172,
    "start_time": "2023-03-18T19:14:03.322Z"
   },
   {
    "duration": 1063,
    "start_time": "2023-03-18T19:14:03.496Z"
   },
   {
    "duration": 10,
    "start_time": "2023-03-18T19:14:04.562Z"
   },
   {
    "duration": 31,
    "start_time": "2023-03-18T19:14:04.574Z"
   },
   {
    "duration": 4,
    "start_time": "2023-03-18T19:14:04.608Z"
   },
   {
    "duration": 10,
    "start_time": "2023-03-18T19:14:04.614Z"
   },
   {
    "duration": 61,
    "start_time": "2023-03-18T19:14:04.626Z"
   },
   {
    "duration": 7,
    "start_time": "2023-03-18T19:14:04.690Z"
   },
   {
    "duration": 9543,
    "start_time": "2023-03-18T19:14:04.699Z"
   },
   {
    "duration": 50,
    "start_time": "2023-03-18T19:14:14.245Z"
   },
   {
    "duration": 5372,
    "start_time": "2023-03-18T19:14:14.297Z"
   },
   {
    "duration": 54,
    "start_time": "2023-03-18T19:14:19.671Z"
   },
   {
    "duration": 66,
    "start_time": "2023-03-18T19:14:19.727Z"
   },
   {
    "duration": 252,
    "start_time": "2023-03-18T19:14:19.795Z"
   },
   {
    "duration": 174,
    "start_time": "2023-03-18T19:14:20.049Z"
   },
   {
    "duration": 246,
    "start_time": "2023-03-18T19:14:20.225Z"
   },
   {
    "duration": 159,
    "start_time": "2023-03-18T19:14:20.472Z"
   },
   {
    "duration": 64,
    "start_time": "2023-03-18T19:14:20.633Z"
   },
   {
    "duration": 6,
    "start_time": "2023-03-18T19:14:20.699Z"
   },
   {
    "duration": 6,
    "start_time": "2023-03-18T19:14:20.707Z"
   },
   {
    "duration": 9,
    "start_time": "2023-03-18T19:14:20.718Z"
   },
   {
    "duration": 16,
    "start_time": "2023-03-18T19:14:20.730Z"
   },
   {
    "duration": 68,
    "start_time": "2023-03-18T19:14:20.748Z"
   },
   {
    "duration": 23,
    "start_time": "2023-03-18T19:14:20.817Z"
   },
   {
    "duration": 48,
    "start_time": "2023-03-18T19:14:20.842Z"
   },
   {
    "duration": 22,
    "start_time": "2023-03-18T19:14:20.893Z"
   },
   {
    "duration": 6,
    "start_time": "2023-03-18T19:14:20.917Z"
   },
   {
    "duration": 84,
    "start_time": "2023-03-18T19:14:20.925Z"
   },
   {
    "duration": 7,
    "start_time": "2023-03-18T19:14:21.011Z"
   },
   {
    "duration": 20,
    "start_time": "2023-03-18T19:14:21.020Z"
   },
   {
    "duration": 157,
    "start_time": "2023-03-18T19:14:21.043Z"
   },
   {
    "duration": 21,
    "start_time": "2023-03-18T19:14:21.202Z"
   },
   {
    "duration": 15,
    "start_time": "2023-03-18T19:14:21.225Z"
   },
   {
    "duration": 47,
    "start_time": "2023-03-18T19:14:21.242Z"
   },
   {
    "duration": 16,
    "start_time": "2023-03-18T19:14:21.291Z"
   },
   {
    "duration": 17,
    "start_time": "2023-03-18T19:14:21.309Z"
   },
   {
    "duration": 22,
    "start_time": "2023-03-18T19:14:21.329Z"
   },
   {
    "duration": 47,
    "start_time": "2023-03-18T19:14:21.353Z"
   },
   {
    "duration": 1226,
    "start_time": "2023-03-18T19:16:41.801Z"
   },
   {
    "duration": 180,
    "start_time": "2023-03-18T19:16:43.030Z"
   },
   {
    "duration": 36,
    "start_time": "2023-03-18T19:16:43.212Z"
   },
   {
    "duration": 9,
    "start_time": "2023-03-18T19:16:43.250Z"
   },
   {
    "duration": 53,
    "start_time": "2023-03-18T19:16:43.262Z"
   },
   {
    "duration": 18,
    "start_time": "2023-03-18T19:16:43.317Z"
   },
   {
    "duration": 97,
    "start_time": "2023-03-18T19:16:43.336Z"
   },
   {
    "duration": 157,
    "start_time": "2023-03-18T19:16:43.435Z"
   },
   {
    "duration": 1039,
    "start_time": "2023-03-18T19:16:43.594Z"
   },
   {
    "duration": 9,
    "start_time": "2023-03-18T19:16:44.635Z"
   },
   {
    "duration": 23,
    "start_time": "2023-03-18T19:16:44.646Z"
   },
   {
    "duration": 19,
    "start_time": "2023-03-18T19:16:44.671Z"
   },
   {
    "duration": 17,
    "start_time": "2023-03-18T19:16:44.692Z"
   },
   {
    "duration": 24,
    "start_time": "2023-03-18T19:16:44.713Z"
   },
   {
    "duration": 6,
    "start_time": "2023-03-18T19:16:44.740Z"
   },
   {
    "duration": 9631,
    "start_time": "2023-03-18T19:16:44.747Z"
   },
   {
    "duration": 53,
    "start_time": "2023-03-18T19:16:54.381Z"
   },
   {
    "duration": 5610,
    "start_time": "2023-03-18T19:16:54.437Z"
   },
   {
    "duration": 65,
    "start_time": "2023-03-18T19:17:00.050Z"
   },
   {
    "duration": 46,
    "start_time": "2023-03-18T19:17:00.117Z"
   },
   {
    "duration": 202,
    "start_time": "2023-03-18T19:17:00.165Z"
   },
   {
    "duration": 142,
    "start_time": "2023-03-18T19:17:00.369Z"
   },
   {
    "duration": 259,
    "start_time": "2023-03-18T19:17:00.513Z"
   },
   {
    "duration": 217,
    "start_time": "2023-03-18T19:17:00.774Z"
   },
   {
    "duration": 85,
    "start_time": "2023-03-18T19:17:00.996Z"
   },
   {
    "duration": 6,
    "start_time": "2023-03-18T19:17:01.088Z"
   },
   {
    "duration": 25,
    "start_time": "2023-03-18T19:17:01.096Z"
   },
   {
    "duration": 32,
    "start_time": "2023-03-18T19:17:01.123Z"
   },
   {
    "duration": 52,
    "start_time": "2023-03-18T19:17:01.157Z"
   },
   {
    "duration": 50,
    "start_time": "2023-03-18T19:17:01.212Z"
   },
   {
    "duration": 35,
    "start_time": "2023-03-18T19:17:01.264Z"
   },
   {
    "duration": 22,
    "start_time": "2023-03-18T19:17:01.301Z"
   },
   {
    "duration": 50,
    "start_time": "2023-03-18T19:17:01.325Z"
   },
   {
    "duration": 4,
    "start_time": "2023-03-18T19:17:01.377Z"
   },
   {
    "duration": 79,
    "start_time": "2023-03-18T19:17:01.389Z"
   },
   {
    "duration": 6,
    "start_time": "2023-03-18T19:17:01.470Z"
   },
   {
    "duration": 61,
    "start_time": "2023-03-18T19:17:01.478Z"
   },
   {
    "duration": 136,
    "start_time": "2023-03-18T19:17:01.541Z"
   },
   {
    "duration": 19,
    "start_time": "2023-03-18T19:17:01.679Z"
   },
   {
    "duration": 60,
    "start_time": "2023-03-18T19:17:01.701Z"
   },
   {
    "duration": 127,
    "start_time": "2023-03-18T19:17:01.766Z"
   },
   {
    "duration": 55,
    "start_time": "2023-03-18T19:17:01.894Z"
   },
   {
    "duration": 128,
    "start_time": "2023-03-18T19:17:01.951Z"
   },
   {
    "duration": 82,
    "start_time": "2023-03-18T19:17:02.081Z"
   },
   {
    "duration": 27,
    "start_time": "2023-03-18T19:17:02.166Z"
   },
   {
    "duration": 1193,
    "start_time": "2023-03-18T20:50:03.519Z"
   },
   {
    "duration": 177,
    "start_time": "2023-03-18T20:50:04.714Z"
   },
   {
    "duration": 24,
    "start_time": "2023-03-18T20:50:04.892Z"
   },
   {
    "duration": 9,
    "start_time": "2023-03-18T20:50:04.918Z"
   },
   {
    "duration": 55,
    "start_time": "2023-03-18T20:50:04.929Z"
   },
   {
    "duration": 22,
    "start_time": "2023-03-18T20:50:04.986Z"
   },
   {
    "duration": 106,
    "start_time": "2023-03-18T20:50:05.013Z"
   },
   {
    "duration": 159,
    "start_time": "2023-03-18T20:50:05.121Z"
   },
   {
    "duration": 1088,
    "start_time": "2023-03-18T20:50:05.282Z"
   },
   {
    "duration": 10,
    "start_time": "2023-03-18T20:50:06.371Z"
   },
   {
    "duration": 21,
    "start_time": "2023-03-18T20:50:06.383Z"
   },
   {
    "duration": 7,
    "start_time": "2023-03-18T20:50:06.406Z"
   },
   {
    "duration": 12,
    "start_time": "2023-03-18T20:50:06.415Z"
   },
   {
    "duration": 41,
    "start_time": "2023-03-18T20:50:06.430Z"
   },
   {
    "duration": 6,
    "start_time": "2023-03-18T20:50:06.472Z"
   },
   {
    "duration": 8856,
    "start_time": "2023-03-18T20:50:06.480Z"
   },
   {
    "duration": 51,
    "start_time": "2023-03-18T20:50:15.338Z"
   },
   {
    "duration": 4926,
    "start_time": "2023-03-18T20:50:15.391Z"
   },
   {
    "duration": 46,
    "start_time": "2023-03-18T20:50:20.320Z"
   },
   {
    "duration": 24,
    "start_time": "2023-03-18T20:50:20.367Z"
   },
   {
    "duration": 366,
    "start_time": "2023-03-18T20:50:20.393Z"
   },
   {
    "duration": 121,
    "start_time": "2023-03-18T20:50:20.760Z"
   },
   {
    "duration": 184,
    "start_time": "2023-03-18T20:50:20.883Z"
   },
   {
    "duration": 177,
    "start_time": "2023-03-18T20:50:21.069Z"
   },
   {
    "duration": 52,
    "start_time": "2023-03-18T20:50:21.248Z"
   },
   {
    "duration": 7,
    "start_time": "2023-03-18T20:50:21.302Z"
   },
   {
    "duration": 34,
    "start_time": "2023-03-18T20:50:21.311Z"
   },
   {
    "duration": 16,
    "start_time": "2023-03-18T20:50:21.347Z"
   },
   {
    "duration": 20,
    "start_time": "2023-03-18T20:50:21.365Z"
   },
   {
    "duration": 37,
    "start_time": "2023-03-18T20:50:21.387Z"
   },
   {
    "duration": 36,
    "start_time": "2023-03-18T20:50:21.426Z"
   },
   {
    "duration": 17,
    "start_time": "2023-03-18T20:50:21.464Z"
   },
   {
    "duration": 18,
    "start_time": "2023-03-18T20:50:21.484Z"
   },
   {
    "duration": 4,
    "start_time": "2023-03-18T20:50:21.504Z"
   },
   {
    "duration": 80,
    "start_time": "2023-03-18T20:50:21.510Z"
   },
   {
    "duration": 6,
    "start_time": "2023-03-18T20:50:21.592Z"
   },
   {
    "duration": 12,
    "start_time": "2023-03-18T20:50:21.599Z"
   },
   {
    "duration": 106,
    "start_time": "2023-03-18T20:50:21.612Z"
   },
   {
    "duration": 17,
    "start_time": "2023-03-18T20:50:21.720Z"
   },
   {
    "duration": 23,
    "start_time": "2023-03-18T20:50:21.738Z"
   },
   {
    "duration": 14,
    "start_time": "2023-03-18T20:50:21.765Z"
   },
   {
    "duration": 11,
    "start_time": "2023-03-18T20:50:21.781Z"
   },
   {
    "duration": 14,
    "start_time": "2023-03-18T20:50:21.793Z"
   },
   {
    "duration": 12,
    "start_time": "2023-03-18T20:50:21.809Z"
   },
   {
    "duration": 43,
    "start_time": "2023-03-18T20:50:21.823Z"
   },
   {
    "duration": 4,
    "start_time": "2023-03-18T20:52:38.756Z"
   },
   {
    "duration": 4,
    "start_time": "2023-03-18T20:52:43.327Z"
   },
   {
    "duration": 4,
    "start_time": "2023-03-18T20:53:44.136Z"
   },
   {
    "duration": 4,
    "start_time": "2023-03-18T21:30:28.627Z"
   },
   {
    "duration": 6,
    "start_time": "2023-03-18T21:30:44.984Z"
   },
   {
    "duration": 5,
    "start_time": "2023-03-18T21:30:59.575Z"
   },
   {
    "duration": 55,
    "start_time": "2023-03-19T08:12:51.337Z"
   },
   {
    "duration": 1607,
    "start_time": "2023-03-19T08:12:57.936Z"
   },
   {
    "duration": 886,
    "start_time": "2023-03-19T08:12:59.545Z"
   },
   {
    "duration": 22,
    "start_time": "2023-03-19T08:13:00.432Z"
   },
   {
    "duration": 85,
    "start_time": "2023-03-19T08:13:00.456Z"
   },
   {
    "duration": 69,
    "start_time": "2023-03-19T08:13:00.542Z"
   },
   {
    "duration": 42,
    "start_time": "2023-03-19T08:13:00.612Z"
   },
   {
    "duration": 86,
    "start_time": "2023-03-19T08:13:00.656Z"
   },
   {
    "duration": 139,
    "start_time": "2023-03-19T08:13:00.743Z"
   },
   {
    "duration": 981,
    "start_time": "2023-03-19T08:13:00.883Z"
   },
   {
    "duration": 10,
    "start_time": "2023-03-19T08:13:01.866Z"
   },
   {
    "duration": 50,
    "start_time": "2023-03-19T08:13:01.888Z"
   },
   {
    "duration": 28,
    "start_time": "2023-03-19T08:13:01.940Z"
   },
   {
    "duration": 51,
    "start_time": "2023-03-19T08:13:01.969Z"
   },
   {
    "duration": 39,
    "start_time": "2023-03-19T08:13:02.021Z"
   },
   {
    "duration": 116,
    "start_time": "2023-03-19T08:13:02.061Z"
   },
   {
    "duration": 51,
    "start_time": "2023-03-19T08:13:02.179Z"
   },
   {
    "duration": 13002,
    "start_time": "2023-03-19T08:13:02.232Z"
   },
   {
    "duration": 42,
    "start_time": "2023-03-19T08:13:15.236Z"
   },
   {
    "duration": 5438,
    "start_time": "2023-03-19T08:13:15.279Z"
   },
   {
    "duration": 45,
    "start_time": "2023-03-19T08:13:20.719Z"
   },
   {
    "duration": 43,
    "start_time": "2023-03-19T08:13:20.766Z"
   },
   {
    "duration": 195,
    "start_time": "2023-03-19T08:13:20.811Z"
   },
   {
    "duration": 205,
    "start_time": "2023-03-19T08:13:21.008Z"
   },
   {
    "duration": 239,
    "start_time": "2023-03-19T08:13:21.215Z"
   },
   {
    "duration": 219,
    "start_time": "2023-03-19T08:13:21.457Z"
   },
   {
    "duration": 65,
    "start_time": "2023-03-19T08:13:21.678Z"
   },
   {
    "duration": 5,
    "start_time": "2023-03-19T08:13:21.745Z"
   },
   {
    "duration": 5,
    "start_time": "2023-03-19T08:13:21.755Z"
   },
   {
    "duration": 5,
    "start_time": "2023-03-19T08:13:21.762Z"
   },
   {
    "duration": 16,
    "start_time": "2023-03-19T08:13:21.791Z"
   },
   {
    "duration": 31,
    "start_time": "2023-03-19T08:13:21.809Z"
   },
   {
    "duration": 47,
    "start_time": "2023-03-19T08:13:21.842Z"
   },
   {
    "duration": 19,
    "start_time": "2023-03-19T08:13:21.892Z"
   },
   {
    "duration": 19,
    "start_time": "2023-03-19T08:13:21.915Z"
   },
   {
    "duration": 4,
    "start_time": "2023-03-19T08:13:21.936Z"
   },
   {
    "duration": 83,
    "start_time": "2023-03-19T08:13:21.942Z"
   },
   {
    "duration": 5,
    "start_time": "2023-03-19T08:13:22.026Z"
   },
   {
    "duration": 15,
    "start_time": "2023-03-19T08:13:22.033Z"
   },
   {
    "duration": 328,
    "start_time": "2023-03-19T08:13:22.050Z"
   },
   {
    "duration": 25,
    "start_time": "2023-03-19T08:13:22.379Z"
   },
   {
    "duration": 25,
    "start_time": "2023-03-19T08:13:22.406Z"
   },
   {
    "duration": 18,
    "start_time": "2023-03-19T08:13:22.434Z"
   },
   {
    "duration": 39,
    "start_time": "2023-03-19T08:13:22.455Z"
   },
   {
    "duration": 16,
    "start_time": "2023-03-19T08:13:22.497Z"
   },
   {
    "duration": 19,
    "start_time": "2023-03-19T08:13:22.515Z"
   },
   {
    "duration": 11,
    "start_time": "2023-03-19T08:13:22.536Z"
   },
   {
    "duration": 29,
    "start_time": "2023-03-19T08:17:26.775Z"
   },
   {
    "duration": 29,
    "start_time": "2023-03-19T08:18:21.471Z"
   },
   {
    "duration": 36,
    "start_time": "2023-03-19T08:18:47.537Z"
   },
   {
    "duration": 90,
    "start_time": "2023-03-19T08:21:28.654Z"
   },
   {
    "duration": 79,
    "start_time": "2023-03-19T08:21:37.829Z"
   },
   {
    "duration": 86,
    "start_time": "2023-03-19T08:22:23.112Z"
   },
   {
    "duration": 30,
    "start_time": "2023-03-19T08:31:54.505Z"
   },
   {
    "duration": 32,
    "start_time": "2023-03-19T08:32:06.111Z"
   },
   {
    "duration": 32,
    "start_time": "2023-03-19T08:32:15.050Z"
   },
   {
    "duration": 34,
    "start_time": "2023-03-19T08:32:17.730Z"
   },
   {
    "duration": 33,
    "start_time": "2023-03-19T08:32:50.825Z"
   },
   {
    "duration": 5306,
    "start_time": "2023-03-19T08:33:06.945Z"
   },
   {
    "duration": 15,
    "start_time": "2023-03-19T08:34:01.506Z"
   },
   {
    "duration": 74,
    "start_time": "2023-03-19T08:34:45.608Z"
   },
   {
    "duration": 92,
    "start_time": "2023-03-19T08:37:40.098Z"
   },
   {
    "duration": 73,
    "start_time": "2023-03-19T08:39:13.133Z"
   },
   {
    "duration": 28,
    "start_time": "2023-03-19T08:40:30.061Z"
   },
   {
    "duration": 3,
    "start_time": "2023-03-19T08:40:43.361Z"
   },
   {
    "duration": 163,
    "start_time": "2023-03-19T08:40:44.530Z"
   },
   {
    "duration": 155,
    "start_time": "2023-03-19T08:40:47.422Z"
   },
   {
    "duration": 8,
    "start_time": "2023-03-19T08:40:50.307Z"
   },
   {
    "duration": 26,
    "start_time": "2023-03-19T08:40:53.159Z"
   },
   {
    "duration": 22,
    "start_time": "2023-03-19T08:40:54.761Z"
   },
   {
    "duration": 49,
    "start_time": "2023-03-19T08:40:55.876Z"
   },
   {
    "duration": 107,
    "start_time": "2023-03-19T08:40:57.824Z"
   },
   {
    "duration": 961,
    "start_time": "2023-03-19T08:40:59.195Z"
   },
   {
    "duration": 9,
    "start_time": "2023-03-19T08:41:00.158Z"
   },
   {
    "duration": 21,
    "start_time": "2023-03-19T08:41:00.370Z"
   },
   {
    "duration": 6,
    "start_time": "2023-03-19T08:41:01.047Z"
   },
   {
    "duration": 22,
    "start_time": "2023-03-19T08:41:01.592Z"
   },
   {
    "duration": 4,
    "start_time": "2023-03-19T08:41:06.849Z"
   },
   {
    "duration": 7,
    "start_time": "2023-03-19T08:41:07.850Z"
   },
   {
    "duration": 20,
    "start_time": "2023-03-19T08:41:10.761Z"
   },
   {
    "duration": 5,
    "start_time": "2023-03-19T08:41:12.467Z"
   },
   {
    "duration": 9072,
    "start_time": "2023-03-19T08:41:13.249Z"
   },
   {
    "duration": 34,
    "start_time": "2023-03-19T08:41:27.145Z"
   },
   {
    "duration": 5346,
    "start_time": "2023-03-19T08:41:41.507Z"
   },
   {
    "duration": 14,
    "start_time": "2023-03-19T08:41:50.151Z"
   },
   {
    "duration": 30,
    "start_time": "2023-03-19T08:41:52.152Z"
   },
   {
    "duration": 30,
    "start_time": "2023-03-19T08:47:11.296Z"
   },
   {
    "duration": 37,
    "start_time": "2023-03-19T08:47:14.632Z"
   },
   {
    "duration": 28,
    "start_time": "2023-03-19T08:47:22.292Z"
   },
   {
    "duration": 57,
    "start_time": "2023-03-19T08:47:36.594Z"
   },
   {
    "duration": 54,
    "start_time": "2023-03-19T08:48:28.670Z"
   },
   {
    "duration": 53,
    "start_time": "2023-03-19T08:48:34.512Z"
   },
   {
    "duration": 124,
    "start_time": "2023-03-19T08:49:18.984Z"
   },
   {
    "duration": 53,
    "start_time": "2023-03-19T08:49:22.194Z"
   },
   {
    "duration": 6,
    "start_time": "2023-03-19T08:49:22.942Z"
   },
   {
    "duration": 11,
    "start_time": "2023-03-19T08:49:37.492Z"
   },
   {
    "duration": 10,
    "start_time": "2023-03-19T08:49:49.625Z"
   },
   {
    "duration": 4,
    "start_time": "2023-03-19T08:49:50.458Z"
   },
   {
    "duration": 1203,
    "start_time": "2023-03-19T08:50:13.016Z"
   },
   {
    "duration": 171,
    "start_time": "2023-03-19T08:50:14.221Z"
   },
   {
    "duration": 22,
    "start_time": "2023-03-19T08:50:14.394Z"
   },
   {
    "duration": 8,
    "start_time": "2023-03-19T08:50:14.418Z"
   },
   {
    "duration": 32,
    "start_time": "2023-03-19T08:50:14.428Z"
   },
   {
    "duration": 17,
    "start_time": "2023-03-19T08:50:14.489Z"
   },
   {
    "duration": 90,
    "start_time": "2023-03-19T08:50:14.508Z"
   },
   {
    "duration": 154,
    "start_time": "2023-03-19T08:50:14.600Z"
   },
   {
    "duration": 1014,
    "start_time": "2023-03-19T08:50:14.755Z"
   },
   {
    "duration": 19,
    "start_time": "2023-03-19T08:50:15.772Z"
   },
   {
    "duration": 24,
    "start_time": "2023-03-19T08:50:15.793Z"
   },
   {
    "duration": 7,
    "start_time": "2023-03-19T08:50:15.819Z"
   },
   {
    "duration": 64,
    "start_time": "2023-03-19T08:50:15.828Z"
   },
   {
    "duration": 4,
    "start_time": "2023-03-19T08:50:15.894Z"
   },
   {
    "duration": 10,
    "start_time": "2023-03-19T08:50:15.899Z"
   },
   {
    "duration": 28,
    "start_time": "2023-03-19T08:50:15.911Z"
   },
   {
    "duration": 6,
    "start_time": "2023-03-19T08:50:15.940Z"
   },
   {
    "duration": 9343,
    "start_time": "2023-03-19T08:50:15.947Z"
   },
   {
    "duration": 40,
    "start_time": "2023-03-19T08:50:25.291Z"
   },
   {
    "duration": 5457,
    "start_time": "2023-03-19T08:50:25.332Z"
   },
   {
    "duration": 32,
    "start_time": "2023-03-19T08:50:30.791Z"
   },
   {
    "duration": 71,
    "start_time": "2023-03-19T08:50:30.826Z"
   },
   {
    "duration": 40,
    "start_time": "2023-03-19T08:50:30.899Z"
   },
   {
    "duration": 219,
    "start_time": "2023-03-19T08:50:30.941Z"
   },
   {
    "duration": 141,
    "start_time": "2023-03-19T08:50:31.162Z"
   },
   {
    "duration": 233,
    "start_time": "2023-03-19T08:50:31.306Z"
   },
   {
    "duration": 173,
    "start_time": "2023-03-19T08:50:31.541Z"
   },
   {
    "duration": 52,
    "start_time": "2023-03-19T08:50:31.718Z"
   },
   {
    "duration": 59,
    "start_time": "2023-03-19T08:50:31.772Z"
   },
   {
    "duration": 1321,
    "start_time": "2023-03-19T08:50:31.833Z"
   },
   {
    "duration": 0,
    "start_time": "2023-03-19T08:50:33.155Z"
   },
   {
    "duration": 0,
    "start_time": "2023-03-19T08:50:33.157Z"
   },
   {
    "duration": 0,
    "start_time": "2023-03-19T08:50:33.158Z"
   },
   {
    "duration": 0,
    "start_time": "2023-03-19T08:50:33.159Z"
   },
   {
    "duration": 0,
    "start_time": "2023-03-19T08:50:33.161Z"
   },
   {
    "duration": 0,
    "start_time": "2023-03-19T08:50:33.161Z"
   },
   {
    "duration": 1,
    "start_time": "2023-03-19T08:50:33.162Z"
   },
   {
    "duration": 0,
    "start_time": "2023-03-19T08:50:33.164Z"
   },
   {
    "duration": 0,
    "start_time": "2023-03-19T08:50:33.165Z"
   },
   {
    "duration": 0,
    "start_time": "2023-03-19T08:50:33.166Z"
   },
   {
    "duration": 0,
    "start_time": "2023-03-19T08:50:33.167Z"
   },
   {
    "duration": 0,
    "start_time": "2023-03-19T08:50:33.168Z"
   },
   {
    "duration": 0,
    "start_time": "2023-03-19T08:50:33.169Z"
   },
   {
    "duration": 0,
    "start_time": "2023-03-19T08:50:33.170Z"
   },
   {
    "duration": 0,
    "start_time": "2023-03-19T08:50:33.172Z"
   },
   {
    "duration": 0,
    "start_time": "2023-03-19T08:50:33.173Z"
   },
   {
    "duration": 0,
    "start_time": "2023-03-19T08:50:33.174Z"
   },
   {
    "duration": 0,
    "start_time": "2023-03-19T08:50:33.176Z"
   },
   {
    "duration": 3,
    "start_time": "2023-03-19T08:51:55.028Z"
   },
   {
    "duration": 164,
    "start_time": "2023-03-19T08:51:56.513Z"
   },
   {
    "duration": 20,
    "start_time": "2023-03-19T08:52:01.806Z"
   },
   {
    "duration": 8,
    "start_time": "2023-03-19T08:52:13.832Z"
   },
   {
    "duration": 35,
    "start_time": "2023-03-19T08:52:28.591Z"
   },
   {
    "duration": 18,
    "start_time": "2023-03-19T08:52:33.878Z"
   },
   {
    "duration": 56,
    "start_time": "2023-03-19T08:52:38.217Z"
   },
   {
    "duration": 97,
    "start_time": "2023-03-19T08:52:55.129Z"
   },
   {
    "duration": 981,
    "start_time": "2023-03-19T08:53:13.423Z"
   },
   {
    "duration": 10,
    "start_time": "2023-03-19T08:53:18.153Z"
   },
   {
    "duration": 21,
    "start_time": "2023-03-19T08:53:23.378Z"
   },
   {
    "duration": 11,
    "start_time": "2023-03-19T08:53:27.709Z"
   },
   {
    "duration": 24,
    "start_time": "2023-03-19T08:54:03.259Z"
   },
   {
    "duration": 9,
    "start_time": "2023-03-19T08:54:13.345Z"
   },
   {
    "duration": 4,
    "start_time": "2023-03-19T08:54:18.592Z"
   },
   {
    "duration": 8,
    "start_time": "2023-03-19T08:54:25.650Z"
   },
   {
    "duration": 20,
    "start_time": "2023-03-19T08:54:35.571Z"
   },
   {
    "duration": 21,
    "start_time": "2023-03-19T08:54:38.274Z"
   },
   {
    "duration": 5,
    "start_time": "2023-03-19T08:54:54.458Z"
   },
   {
    "duration": 9166,
    "start_time": "2023-03-19T08:55:11.444Z"
   },
   {
    "duration": 33,
    "start_time": "2023-03-19T08:56:12.812Z"
   },
   {
    "duration": 5133,
    "start_time": "2023-03-19T08:56:58.376Z"
   },
   {
    "duration": 30,
    "start_time": "2023-03-19T08:57:54.832Z"
   },
   {
    "duration": 30,
    "start_time": "2023-03-19T08:58:06.200Z"
   },
   {
    "duration": 25,
    "start_time": "2023-03-19T08:58:14.908Z"
   },
   {
    "duration": 48,
    "start_time": "2023-03-19T08:58:27.998Z"
   },
   {
    "duration": 68,
    "start_time": "2023-03-19T08:58:50.793Z"
   },
   {
    "duration": 158,
    "start_time": "2023-03-19T08:59:25.476Z"
   },
   {
    "duration": 151,
    "start_time": "2023-03-19T08:59:31.889Z"
   },
   {
    "duration": 52,
    "start_time": "2023-03-19T08:59:49.177Z"
   },
   {
    "duration": 5,
    "start_time": "2023-03-19T09:00:04.663Z"
   },
   {
    "duration": 4,
    "start_time": "2023-03-19T09:01:16.414Z"
   },
   {
    "duration": 3,
    "start_time": "2023-03-19T09:04:28.397Z"
   },
   {
    "duration": 17,
    "start_time": "2023-03-19T09:06:56.669Z"
   },
   {
    "duration": 32,
    "start_time": "2023-03-19T09:06:59.510Z"
   },
   {
    "duration": 21,
    "start_time": "2023-03-19T09:08:16.133Z"
   },
   {
    "duration": 21,
    "start_time": "2023-03-19T09:08:18.709Z"
   },
   {
    "duration": 29,
    "start_time": "2023-03-19T09:08:19.670Z"
   },
   {
    "duration": 4,
    "start_time": "2023-03-19T09:08:20.581Z"
   },
   {
    "duration": 57,
    "start_time": "2023-03-19T09:08:23.562Z"
   },
   {
    "duration": 7,
    "start_time": "2023-03-19T09:08:27.406Z"
   },
   {
    "duration": 10,
    "start_time": "2023-03-19T09:08:28.960Z"
   },
   {
    "duration": 1219,
    "start_time": "2023-03-19T09:08:43.535Z"
   },
   {
    "duration": 195,
    "start_time": "2023-03-19T09:08:44.756Z"
   },
   {
    "duration": 22,
    "start_time": "2023-03-19T09:08:44.953Z"
   },
   {
    "duration": 14,
    "start_time": "2023-03-19T09:08:44.989Z"
   },
   {
    "duration": 61,
    "start_time": "2023-03-19T09:08:45.006Z"
   },
   {
    "duration": 21,
    "start_time": "2023-03-19T09:08:45.069Z"
   },
   {
    "duration": 88,
    "start_time": "2023-03-19T09:08:45.096Z"
   },
   {
    "duration": 155,
    "start_time": "2023-03-19T09:08:45.185Z"
   },
   {
    "duration": 1024,
    "start_time": "2023-03-19T09:08:45.341Z"
   },
   {
    "duration": 9,
    "start_time": "2023-03-19T09:08:46.367Z"
   },
   {
    "duration": 37,
    "start_time": "2023-03-19T09:08:46.377Z"
   },
   {
    "duration": 13,
    "start_time": "2023-03-19T09:08:46.416Z"
   },
   {
    "duration": 25,
    "start_time": "2023-03-19T09:08:46.431Z"
   },
   {
    "duration": 3,
    "start_time": "2023-03-19T09:08:46.459Z"
   },
   {
    "duration": 28,
    "start_time": "2023-03-19T09:08:46.463Z"
   },
   {
    "duration": 29,
    "start_time": "2023-03-19T09:08:46.493Z"
   },
   {
    "duration": 5,
    "start_time": "2023-03-19T09:08:46.523Z"
   },
   {
    "duration": 9829,
    "start_time": "2023-03-19T09:08:46.529Z"
   },
   {
    "duration": 50,
    "start_time": "2023-03-19T09:08:56.360Z"
   },
   {
    "duration": 5724,
    "start_time": "2023-03-19T09:08:56.412Z"
   },
   {
    "duration": 29,
    "start_time": "2023-03-19T09:09:02.138Z"
   },
   {
    "duration": 55,
    "start_time": "2023-03-19T09:09:02.169Z"
   },
   {
    "duration": 25,
    "start_time": "2023-03-19T09:09:02.225Z"
   },
   {
    "duration": 204,
    "start_time": "2023-03-19T09:09:02.251Z"
   },
   {
    "duration": 159,
    "start_time": "2023-03-19T09:09:02.456Z"
   },
   {
    "duration": 207,
    "start_time": "2023-03-19T09:09:02.617Z"
   },
   {
    "duration": 183,
    "start_time": "2023-03-19T09:09:02.826Z"
   },
   {
    "duration": 53,
    "start_time": "2023-03-19T09:09:03.010Z"
   },
   {
    "duration": 4,
    "start_time": "2023-03-19T09:09:03.065Z"
   },
   {
    "duration": 26,
    "start_time": "2023-03-19T09:09:03.070Z"
   },
   {
    "duration": 6,
    "start_time": "2023-03-19T09:09:03.099Z"
   },
   {
    "duration": 21,
    "start_time": "2023-03-19T09:09:03.108Z"
   },
   {
    "duration": 38,
    "start_time": "2023-03-19T09:09:03.132Z"
   },
   {
    "duration": 21,
    "start_time": "2023-03-19T09:09:03.190Z"
   },
   {
    "duration": 20,
    "start_time": "2023-03-19T09:09:03.212Z"
   },
   {
    "duration": 18,
    "start_time": "2023-03-19T09:09:03.234Z"
   },
   {
    "duration": 4,
    "start_time": "2023-03-19T09:09:03.254Z"
   },
   {
    "duration": 89,
    "start_time": "2023-03-19T09:09:03.259Z"
   },
   {
    "duration": 5,
    "start_time": "2023-03-19T09:09:03.350Z"
   },
   {
    "duration": 33,
    "start_time": "2023-03-19T09:09:03.356Z"
   },
   {
    "duration": 111,
    "start_time": "2023-03-19T09:09:03.393Z"
   },
   {
    "duration": 16,
    "start_time": "2023-03-19T09:09:03.506Z"
   },
   {
    "duration": 10,
    "start_time": "2023-03-19T09:09:03.524Z"
   },
   {
    "duration": 12,
    "start_time": "2023-03-19T09:09:03.535Z"
   },
   {
    "duration": 11,
    "start_time": "2023-03-19T09:09:03.548Z"
   },
   {
    "duration": 10,
    "start_time": "2023-03-19T09:09:03.590Z"
   },
   {
    "duration": 15,
    "start_time": "2023-03-19T09:09:03.602Z"
   },
   {
    "duration": 12,
    "start_time": "2023-03-19T09:09:03.618Z"
   },
   {
    "duration": 125,
    "start_time": "2023-03-19T09:50:05.803Z"
   },
   {
    "duration": 20,
    "start_time": "2023-03-19T09:51:22.106Z"
   },
   {
    "duration": 21,
    "start_time": "2023-03-19T09:52:06.903Z"
   },
   {
    "duration": 247,
    "start_time": "2023-03-19T09:52:13.060Z"
   },
   {
    "duration": 102,
    "start_time": "2023-03-19T09:53:16.429Z"
   },
   {
    "duration": 225,
    "start_time": "2023-03-19T09:53:20.299Z"
   },
   {
    "duration": 267,
    "start_time": "2023-03-19T09:54:03.573Z"
   },
   {
    "duration": 6,
    "start_time": "2023-03-19T09:54:22.595Z"
   },
   {
    "duration": 107,
    "start_time": "2023-03-19T09:54:43.437Z"
   },
   {
    "duration": 236,
    "start_time": "2023-03-19T09:54:44.160Z"
   },
   {
    "duration": 357,
    "start_time": "2023-03-19T09:55:38.751Z"
   },
   {
    "duration": 72,
    "start_time": "2023-03-19T09:56:42.309Z"
   },
   {
    "duration": 316,
    "start_time": "2023-03-19T09:59:44.210Z"
   },
   {
    "duration": 317,
    "start_time": "2023-03-19T09:59:51.507Z"
   },
   {
    "duration": 16,
    "start_time": "2023-03-19T10:00:49.699Z"
   },
   {
    "duration": 1161,
    "start_time": "2023-03-19T10:01:15.020Z"
   },
   {
    "duration": 9,
    "start_time": "2023-03-19T10:01:27.807Z"
   },
   {
    "duration": 3,
    "start_time": "2023-03-19T10:02:03.051Z"
   },
   {
    "duration": 10,
    "start_time": "2023-03-19T10:02:11.223Z"
   },
   {
    "duration": 10,
    "start_time": "2023-03-19T10:03:32.825Z"
   },
   {
    "duration": 1220,
    "start_time": "2023-03-19T10:04:15.639Z"
   },
   {
    "duration": 180,
    "start_time": "2023-03-19T10:04:16.862Z"
   },
   {
    "duration": 23,
    "start_time": "2023-03-19T10:04:17.044Z"
   },
   {
    "duration": 25,
    "start_time": "2023-03-19T10:04:17.069Z"
   },
   {
    "duration": 47,
    "start_time": "2023-03-19T10:04:17.097Z"
   },
   {
    "duration": 18,
    "start_time": "2023-03-19T10:04:17.146Z"
   },
   {
    "duration": 80,
    "start_time": "2023-03-19T10:04:17.166Z"
   },
   {
    "duration": 149,
    "start_time": "2023-03-19T10:04:17.248Z"
   },
   {
    "duration": 1120,
    "start_time": "2023-03-19T10:04:17.399Z"
   },
   {
    "duration": 9,
    "start_time": "2023-03-19T10:04:18.521Z"
   },
   {
    "duration": 29,
    "start_time": "2023-03-19T10:04:18.532Z"
   },
   {
    "duration": 15,
    "start_time": "2023-03-19T10:04:18.564Z"
   },
   {
    "duration": 25,
    "start_time": "2023-03-19T10:04:18.588Z"
   },
   {
    "duration": 3,
    "start_time": "2023-03-19T10:04:18.617Z"
   },
   {
    "duration": 10,
    "start_time": "2023-03-19T10:04:18.623Z"
   },
   {
    "duration": 40,
    "start_time": "2023-03-19T10:04:18.634Z"
   },
   {
    "duration": 17,
    "start_time": "2023-03-19T10:04:18.676Z"
   },
   {
    "duration": 8860,
    "start_time": "2023-03-19T10:04:18.694Z"
   },
   {
    "duration": 46,
    "start_time": "2023-03-19T10:04:27.556Z"
   },
   {
    "duration": 5437,
    "start_time": "2023-03-19T10:04:27.603Z"
   },
   {
    "duration": 31,
    "start_time": "2023-03-19T10:04:33.041Z"
   },
   {
    "duration": 44,
    "start_time": "2023-03-19T10:04:33.073Z"
   },
   {
    "duration": 27,
    "start_time": "2023-03-19T10:04:33.119Z"
   },
   {
    "duration": 179,
    "start_time": "2023-03-19T10:04:33.147Z"
   },
   {
    "duration": 178,
    "start_time": "2023-03-19T10:04:33.328Z"
   },
   {
    "duration": 179,
    "start_time": "2023-03-19T10:04:33.507Z"
   },
   {
    "duration": 157,
    "start_time": "2023-03-19T10:04:33.687Z"
   },
   {
    "duration": 65,
    "start_time": "2023-03-19T10:04:33.846Z"
   },
   {
    "duration": 3,
    "start_time": "2023-03-19T10:04:33.913Z"
   },
   {
    "duration": 347,
    "start_time": "2023-03-19T10:04:33.918Z"
   },
   {
    "duration": 23,
    "start_time": "2023-03-19T10:04:34.266Z"
   },
   {
    "duration": 19,
    "start_time": "2023-03-19T10:04:34.291Z"
   },
   {
    "duration": 4,
    "start_time": "2023-03-19T10:04:34.311Z"
   },
   {
    "duration": 18,
    "start_time": "2023-03-19T10:04:34.316Z"
   },
   {
    "duration": 14,
    "start_time": "2023-03-19T10:04:34.335Z"
   },
   {
    "duration": 28,
    "start_time": "2023-03-19T10:04:34.351Z"
   },
   {
    "duration": 21,
    "start_time": "2023-03-19T10:04:34.389Z"
   },
   {
    "duration": 18,
    "start_time": "2023-03-19T10:04:34.411Z"
   },
   {
    "duration": 18,
    "start_time": "2023-03-19T10:04:34.431Z"
   },
   {
    "duration": 4,
    "start_time": "2023-03-19T10:04:34.450Z"
   },
   {
    "duration": 84,
    "start_time": "2023-03-19T10:04:34.457Z"
   },
   {
    "duration": 5,
    "start_time": "2023-03-19T10:04:34.543Z"
   },
   {
    "duration": 12,
    "start_time": "2023-03-19T10:04:34.549Z"
   },
   {
    "duration": 112,
    "start_time": "2023-03-19T10:04:34.562Z"
   },
   {
    "duration": 21,
    "start_time": "2023-03-19T10:04:34.675Z"
   },
   {
    "duration": 10,
    "start_time": "2023-03-19T10:04:34.697Z"
   },
   {
    "duration": 15,
    "start_time": "2023-03-19T10:04:34.709Z"
   },
   {
    "duration": 11,
    "start_time": "2023-03-19T10:04:34.725Z"
   },
   {
    "duration": 10,
    "start_time": "2023-03-19T10:04:34.737Z"
   },
   {
    "duration": 45,
    "start_time": "2023-03-19T10:04:34.748Z"
   },
   {
    "duration": 12,
    "start_time": "2023-03-19T10:04:34.795Z"
   },
   {
    "duration": 74,
    "start_time": "2023-03-19T10:08:20.991Z"
   },
   {
    "duration": 19,
    "start_time": "2023-03-19T10:08:42.932Z"
   },
   {
    "duration": 20,
    "start_time": "2023-03-19T10:08:48.638Z"
   },
   {
    "duration": 1230,
    "start_time": "2023-03-19T10:09:00.001Z"
   },
   {
    "duration": 187,
    "start_time": "2023-03-19T10:09:01.234Z"
   },
   {
    "duration": 23,
    "start_time": "2023-03-19T10:09:01.423Z"
   },
   {
    "duration": 16,
    "start_time": "2023-03-19T10:09:01.449Z"
   },
   {
    "duration": 73,
    "start_time": "2023-03-19T10:09:01.467Z"
   },
   {
    "duration": 18,
    "start_time": "2023-03-19T10:09:01.542Z"
   },
   {
    "duration": 107,
    "start_time": "2023-03-19T10:09:01.562Z"
   },
   {
    "duration": 139,
    "start_time": "2023-03-19T10:09:01.671Z"
   },
   {
    "duration": 977,
    "start_time": "2023-03-19T10:09:01.812Z"
   },
   {
    "duration": 9,
    "start_time": "2023-03-19T10:09:02.791Z"
   },
   {
    "duration": 36,
    "start_time": "2023-03-19T10:09:02.801Z"
   },
   {
    "duration": 25,
    "start_time": "2023-03-19T10:09:02.838Z"
   },
   {
    "duration": 31,
    "start_time": "2023-03-19T10:09:02.865Z"
   },
   {
    "duration": 4,
    "start_time": "2023-03-19T10:09:02.898Z"
   },
   {
    "duration": 30,
    "start_time": "2023-03-19T10:09:02.904Z"
   },
   {
    "duration": 35,
    "start_time": "2023-03-19T10:09:02.936Z"
   },
   {
    "duration": 6,
    "start_time": "2023-03-19T10:09:02.974Z"
   },
   {
    "duration": 8824,
    "start_time": "2023-03-19T10:09:02.982Z"
   },
   {
    "duration": 42,
    "start_time": "2023-03-19T10:09:11.809Z"
   },
   {
    "duration": 5089,
    "start_time": "2023-03-19T10:09:11.853Z"
   },
   {
    "duration": 50,
    "start_time": "2023-03-19T10:09:16.943Z"
   },
   {
    "duration": 35,
    "start_time": "2023-03-19T10:09:16.995Z"
   },
   {
    "duration": 26,
    "start_time": "2023-03-19T10:09:17.032Z"
   },
   {
    "duration": 190,
    "start_time": "2023-03-19T10:09:17.061Z"
   },
   {
    "duration": 181,
    "start_time": "2023-03-19T10:09:17.253Z"
   },
   {
    "duration": 245,
    "start_time": "2023-03-19T10:09:17.436Z"
   },
   {
    "duration": 197,
    "start_time": "2023-03-19T10:09:17.683Z"
   },
   {
    "duration": 54,
    "start_time": "2023-03-19T10:09:17.888Z"
   },
   {
    "duration": 4,
    "start_time": "2023-03-19T10:09:17.943Z"
   },
   {
    "duration": 367,
    "start_time": "2023-03-19T10:09:17.950Z"
   },
   {
    "duration": 17,
    "start_time": "2023-03-19T10:09:18.318Z"
   },
   {
    "duration": 1298,
    "start_time": "2023-03-19T10:09:18.336Z"
   },
   {
    "duration": 0,
    "start_time": "2023-03-19T10:09:19.635Z"
   },
   {
    "duration": 0,
    "start_time": "2023-03-19T10:09:19.637Z"
   },
   {
    "duration": 0,
    "start_time": "2023-03-19T10:09:19.637Z"
   },
   {
    "duration": 0,
    "start_time": "2023-03-19T10:09:19.638Z"
   },
   {
    "duration": 0,
    "start_time": "2023-03-19T10:09:19.639Z"
   },
   {
    "duration": 0,
    "start_time": "2023-03-19T10:09:19.641Z"
   },
   {
    "duration": 0,
    "start_time": "2023-03-19T10:09:19.641Z"
   },
   {
    "duration": 0,
    "start_time": "2023-03-19T10:09:19.643Z"
   },
   {
    "duration": 0,
    "start_time": "2023-03-19T10:09:19.644Z"
   },
   {
    "duration": 0,
    "start_time": "2023-03-19T10:09:19.645Z"
   },
   {
    "duration": 0,
    "start_time": "2023-03-19T10:09:19.646Z"
   },
   {
    "duration": 0,
    "start_time": "2023-03-19T10:09:19.647Z"
   },
   {
    "duration": 0,
    "start_time": "2023-03-19T10:09:19.651Z"
   },
   {
    "duration": 0,
    "start_time": "2023-03-19T10:09:19.653Z"
   },
   {
    "duration": 0,
    "start_time": "2023-03-19T10:09:19.654Z"
   },
   {
    "duration": 0,
    "start_time": "2023-03-19T10:09:19.657Z"
   },
   {
    "duration": 0,
    "start_time": "2023-03-19T10:09:19.659Z"
   },
   {
    "duration": 0,
    "start_time": "2023-03-19T10:09:19.660Z"
   },
   {
    "duration": 0,
    "start_time": "2023-03-19T10:09:19.662Z"
   },
   {
    "duration": 1200,
    "start_time": "2023-03-19T10:12:38.500Z"
   },
   {
    "duration": 10,
    "start_time": "2023-03-19T10:12:42.353Z"
   },
   {
    "duration": 89,
    "start_time": "2023-03-19T10:13:58.697Z"
   },
   {
    "duration": 21,
    "start_time": "2023-03-19T10:15:28.572Z"
   },
   {
    "duration": 57,
    "start_time": "2023-03-19T10:15:29.299Z"
   },
   {
    "duration": 5,
    "start_time": "2023-03-19T10:15:31.798Z"
   },
   {
    "duration": 16,
    "start_time": "2023-03-19T10:15:34.239Z"
   },
   {
    "duration": 9,
    "start_time": "2023-03-19T10:15:38.492Z"
   },
   {
    "duration": 35,
    "start_time": "2023-03-19T10:16:21.728Z"
   },
   {
    "duration": 51,
    "start_time": "2023-03-19T10:16:22.394Z"
   },
   {
    "duration": 4,
    "start_time": "2023-03-19T10:16:23.206Z"
   },
   {
    "duration": 16,
    "start_time": "2023-03-19T10:16:24.493Z"
   },
   {
    "duration": 14,
    "start_time": "2023-03-19T10:16:26.894Z"
   },
   {
    "duration": 18,
    "start_time": "2023-03-19T10:17:37.527Z"
   },
   {
    "duration": 52,
    "start_time": "2023-03-19T10:17:38.128Z"
   },
   {
    "duration": 4,
    "start_time": "2023-03-19T10:17:39.649Z"
   },
   {
    "duration": 15,
    "start_time": "2023-03-19T10:17:42.175Z"
   },
   {
    "duration": 9,
    "start_time": "2023-03-19T10:17:47.439Z"
   },
   {
    "duration": 86,
    "start_time": "2023-03-19T10:18:30.800Z"
   },
   {
    "duration": 69,
    "start_time": "2023-03-19T10:18:32.598Z"
   },
   {
    "duration": 4,
    "start_time": "2023-03-19T10:18:33.642Z"
   },
   {
    "duration": 23,
    "start_time": "2023-03-19T10:18:35.542Z"
   },
   {
    "duration": 8,
    "start_time": "2023-03-19T10:18:38.529Z"
   },
   {
    "duration": 92,
    "start_time": "2023-03-19T10:21:28.242Z"
   },
   {
    "duration": 49,
    "start_time": "2023-03-19T10:21:36.195Z"
   },
   {
    "duration": 6,
    "start_time": "2023-03-19T10:21:37.363Z"
   },
   {
    "duration": 24,
    "start_time": "2023-03-19T10:21:54.266Z"
   },
   {
    "duration": 15,
    "start_time": "2023-03-19T10:21:57.007Z"
   },
   {
    "duration": 10,
    "start_time": "2023-03-19T10:24:45.385Z"
   },
   {
    "duration": 14,
    "start_time": "2023-03-19T10:27:51.444Z"
   },
   {
    "duration": 14,
    "start_time": "2023-03-19T10:27:59.831Z"
   },
   {
    "duration": 11,
    "start_time": "2023-03-19T10:28:01.748Z"
   },
   {
    "duration": 4,
    "start_time": "2023-03-19T10:28:24.955Z"
   },
   {
    "duration": 3,
    "start_time": "2023-03-19T10:28:28.806Z"
   },
   {
    "duration": 14,
    "start_time": "2023-03-19T10:28:36.171Z"
   },
   {
    "duration": 30,
    "start_time": "2023-03-19T10:28:37.939Z"
   },
   {
    "duration": 23,
    "start_time": "2023-03-19T10:28:40.874Z"
   },
   {
    "duration": 19,
    "start_time": "2023-03-19T10:28:41.947Z"
   },
   {
    "duration": 19,
    "start_time": "2023-03-19T10:28:42.465Z"
   },
   {
    "duration": 4,
    "start_time": "2023-03-19T10:28:42.937Z"
   },
   {
    "duration": 55,
    "start_time": "2023-03-19T10:28:43.426Z"
   },
   {
    "duration": 6,
    "start_time": "2023-03-19T10:28:45.128Z"
   },
   {
    "duration": 12,
    "start_time": "2023-03-19T10:28:47.633Z"
   },
   {
    "duration": 89,
    "start_time": "2023-03-19T10:28:52.449Z"
   },
   {
    "duration": 16,
    "start_time": "2023-03-19T10:28:53.792Z"
   },
   {
    "duration": 11,
    "start_time": "2023-03-19T10:28:57.129Z"
   },
   {
    "duration": 14,
    "start_time": "2023-03-19T10:28:58.990Z"
   },
   {
    "duration": 10,
    "start_time": "2023-03-19T10:29:00.491Z"
   },
   {
    "duration": 10,
    "start_time": "2023-03-19T10:29:03.507Z"
   },
   {
    "duration": 12,
    "start_time": "2023-03-19T10:29:04.844Z"
   },
   {
    "duration": 12,
    "start_time": "2023-03-19T10:29:06.114Z"
   },
   {
    "duration": 12,
    "start_time": "2023-03-19T10:39:20.669Z"
   },
   {
    "duration": 1165,
    "start_time": "2023-03-19T11:25:03.922Z"
   },
   {
    "duration": 1147,
    "start_time": "2023-03-19T11:25:16.192Z"
   },
   {
    "duration": 13,
    "start_time": "2023-03-19T11:25:28.142Z"
   },
   {
    "duration": 13,
    "start_time": "2023-03-19T11:32:32.302Z"
   },
   {
    "duration": 20,
    "start_time": "2023-03-19T11:33:08.102Z"
   },
   {
    "duration": 16,
    "start_time": "2023-03-19T11:33:54.403Z"
   },
   {
    "duration": 16,
    "start_time": "2023-03-19T11:34:26.180Z"
   },
   {
    "duration": 33,
    "start_time": "2023-03-19T11:35:41.952Z"
   },
   {
    "duration": 1210,
    "start_time": "2023-03-19T11:47:35.320Z"
   },
   {
    "duration": 32,
    "start_time": "2023-03-19T11:48:51.828Z"
   },
   {
    "duration": 24,
    "start_time": "2023-03-19T11:49:08.016Z"
   },
   {
    "duration": 14,
    "start_time": "2023-03-19T11:49:12.850Z"
   },
   {
    "duration": 15,
    "start_time": "2023-03-19T11:49:22.349Z"
   },
   {
    "duration": 21,
    "start_time": "2023-03-19T11:49:43.558Z"
   },
   {
    "duration": 12,
    "start_time": "2023-03-19T11:49:53.598Z"
   },
   {
    "duration": 15,
    "start_time": "2023-03-19T11:50:05.702Z"
   },
   {
    "duration": 10,
    "start_time": "2023-03-19T11:50:42.458Z"
   },
   {
    "duration": 14,
    "start_time": "2023-03-19T11:50:52.473Z"
   },
   {
    "duration": 10,
    "start_time": "2023-03-19T11:51:31.470Z"
   },
   {
    "duration": 13,
    "start_time": "2023-03-19T11:53:05.411Z"
   },
   {
    "duration": 10,
    "start_time": "2023-03-19T11:53:19.106Z"
   },
   {
    "duration": 23,
    "start_time": "2023-03-19T11:58:06.862Z"
   },
   {
    "duration": 3,
    "start_time": "2023-03-19T11:58:09.824Z"
   },
   {
    "duration": 61,
    "start_time": "2023-03-19T11:58:11.791Z"
   },
   {
    "duration": 75,
    "start_time": "2023-03-19T11:59:19.655Z"
   },
   {
    "duration": 5,
    "start_time": "2023-03-19T11:59:23.352Z"
   },
   {
    "duration": 71,
    "start_time": "2023-03-19T11:59:24.315Z"
   },
   {
    "duration": 75,
    "start_time": "2023-03-19T11:59:56.932Z"
   },
   {
    "duration": 1164,
    "start_time": "2023-03-19T12:00:13.043Z"
   },
   {
    "duration": 10,
    "start_time": "2023-03-19T12:00:21.469Z"
   },
   {
    "duration": 9,
    "start_time": "2023-03-19T12:00:30.943Z"
   },
   {
    "duration": 9,
    "start_time": "2023-03-19T12:00:35.422Z"
   },
   {
    "duration": 12,
    "start_time": "2023-03-19T12:01:41.981Z"
   },
   {
    "duration": 12,
    "start_time": "2023-03-19T12:02:34.602Z"
   },
   {
    "duration": 21,
    "start_time": "2023-03-19T12:02:55.391Z"
   },
   {
    "duration": 22,
    "start_time": "2023-03-19T12:03:25.480Z"
   },
   {
    "duration": 26,
    "start_time": "2023-03-19T12:03:34.788Z"
   },
   {
    "duration": 13,
    "start_time": "2023-03-19T12:03:44.967Z"
   },
   {
    "duration": 1139,
    "start_time": "2023-03-19T12:04:17.936Z"
   },
   {
    "duration": 15,
    "start_time": "2023-03-19T12:04:42.961Z"
   },
   {
    "duration": 1289,
    "start_time": "2023-03-19T12:05:30.339Z"
   },
   {
    "duration": 192,
    "start_time": "2023-03-19T12:05:31.630Z"
   },
   {
    "duration": 25,
    "start_time": "2023-03-19T12:05:31.823Z"
   },
   {
    "duration": 18,
    "start_time": "2023-03-19T12:05:31.850Z"
   },
   {
    "duration": 52,
    "start_time": "2023-03-19T12:05:31.870Z"
   },
   {
    "duration": 19,
    "start_time": "2023-03-19T12:05:31.924Z"
   },
   {
    "duration": 98,
    "start_time": "2023-03-19T12:05:31.945Z"
   },
   {
    "duration": 169,
    "start_time": "2023-03-19T12:05:32.045Z"
   },
   {
    "duration": 1074,
    "start_time": "2023-03-19T12:05:32.216Z"
   },
   {
    "duration": 10,
    "start_time": "2023-03-19T12:05:33.293Z"
   },
   {
    "duration": 23,
    "start_time": "2023-03-19T12:05:33.305Z"
   },
   {
    "duration": 8,
    "start_time": "2023-03-19T12:05:33.330Z"
   },
   {
    "duration": 62,
    "start_time": "2023-03-19T12:05:33.340Z"
   },
   {
    "duration": 3,
    "start_time": "2023-03-19T12:05:33.404Z"
   },
   {
    "duration": 10,
    "start_time": "2023-03-19T12:05:33.409Z"
   },
   {
    "duration": 21,
    "start_time": "2023-03-19T12:05:33.421Z"
   },
   {
    "duration": 7,
    "start_time": "2023-03-19T12:05:33.444Z"
   },
   {
    "duration": 9836,
    "start_time": "2023-03-19T12:05:33.489Z"
   },
   {
    "duration": 75,
    "start_time": "2023-03-19T12:05:43.327Z"
   },
   {
    "duration": 5582,
    "start_time": "2023-03-19T12:05:43.404Z"
   },
   {
    "duration": 34,
    "start_time": "2023-03-19T12:05:48.988Z"
   },
   {
    "duration": 37,
    "start_time": "2023-03-19T12:05:49.024Z"
   },
   {
    "duration": 51,
    "start_time": "2023-03-19T12:05:49.063Z"
   },
   {
    "duration": 193,
    "start_time": "2023-03-19T12:05:49.116Z"
   },
   {
    "duration": 131,
    "start_time": "2023-03-19T12:05:49.311Z"
   },
   {
    "duration": 224,
    "start_time": "2023-03-19T12:05:49.443Z"
   },
   {
    "duration": 175,
    "start_time": "2023-03-19T12:05:49.669Z"
   },
   {
    "duration": 96,
    "start_time": "2023-03-19T12:05:49.848Z"
   },
   {
    "duration": 66,
    "start_time": "2023-03-19T12:05:49.946Z"
   },
   {
    "duration": 5,
    "start_time": "2023-03-19T12:05:50.013Z"
   },
   {
    "duration": 28,
    "start_time": "2023-03-19T12:05:50.019Z"
   },
   {
    "duration": 18,
    "start_time": "2023-03-19T12:05:50.049Z"
   },
   {
    "duration": 21,
    "start_time": "2023-03-19T12:05:50.069Z"
   },
   {
    "duration": 12,
    "start_time": "2023-03-19T12:05:50.091Z"
   },
   {
    "duration": 20,
    "start_time": "2023-03-19T12:05:50.105Z"
   },
   {
    "duration": 36,
    "start_time": "2023-03-19T12:05:50.127Z"
   },
   {
    "duration": 41,
    "start_time": "2023-03-19T12:05:50.165Z"
   },
   {
    "duration": 23,
    "start_time": "2023-03-19T12:05:50.208Z"
   },
   {
    "duration": 34,
    "start_time": "2023-03-19T12:05:50.234Z"
   },
   {
    "duration": 35,
    "start_time": "2023-03-19T12:05:50.270Z"
   },
   {
    "duration": 39,
    "start_time": "2023-03-19T12:05:50.307Z"
   },
   {
    "duration": 145,
    "start_time": "2023-03-19T12:05:50.348Z"
   },
   {
    "duration": 6,
    "start_time": "2023-03-19T12:05:50.494Z"
   },
   {
    "duration": 154,
    "start_time": "2023-03-19T12:05:50.501Z"
   },
   {
    "duration": 22,
    "start_time": "2023-03-19T12:05:50.657Z"
   },
   {
    "duration": 38,
    "start_time": "2023-03-19T12:05:50.690Z"
   },
   {
    "duration": 52,
    "start_time": "2023-03-19T12:05:50.730Z"
   },
   {
    "duration": 40,
    "start_time": "2023-03-19T12:05:50.785Z"
   },
   {
    "duration": 54,
    "start_time": "2023-03-19T12:05:50.827Z"
   },
   {
    "duration": 52,
    "start_time": "2023-03-19T12:05:50.884Z"
   },
   {
    "duration": 35,
    "start_time": "2023-03-19T12:05:50.938Z"
   },
   {
    "duration": 69,
    "start_time": "2023-03-19T12:05:50.974Z"
   },
   {
    "duration": 6,
    "start_time": "2023-03-19T12:06:57.198Z"
   },
   {
    "duration": 62,
    "start_time": "2023-03-19T12:07:00.730Z"
   },
   {
    "duration": 15,
    "start_time": "2023-03-19T12:07:01.655Z"
   },
   {
    "duration": 15,
    "start_time": "2023-03-19T12:07:04.632Z"
   },
   {
    "duration": 128,
    "start_time": "2023-03-19T12:10:43.127Z"
   },
   {
    "duration": 16,
    "start_time": "2023-03-19T12:10:55.593Z"
   },
   {
    "duration": 11,
    "start_time": "2023-03-19T12:11:00.431Z"
   },
   {
    "duration": 17,
    "start_time": "2023-03-19T12:23:42.342Z"
   },
   {
    "duration": 122,
    "start_time": "2023-03-19T12:27:38.602Z"
   },
   {
    "duration": 100,
    "start_time": "2023-03-19T12:27:53.557Z"
   },
   {
    "duration": 901,
    "start_time": "2023-03-19T12:29:02.426Z"
   },
   {
    "duration": 5,
    "start_time": "2023-03-19T12:29:34.531Z"
   },
   {
    "duration": 940,
    "start_time": "2023-03-19T12:29:35.833Z"
   },
   {
    "duration": 97,
    "start_time": "2023-03-19T12:29:37.082Z"
   },
   {
    "duration": 19,
    "start_time": "2023-03-19T12:29:38.603Z"
   },
   {
    "duration": 15,
    "start_time": "2023-03-19T12:29:57.165Z"
   },
   {
    "duration": 31,
    "start_time": "2023-03-19T12:30:29.747Z"
   },
   {
    "duration": 844,
    "start_time": "2023-03-19T12:30:37.002Z"
   },
   {
    "duration": 33,
    "start_time": "2023-03-19T12:30:49.409Z"
   },
   {
    "duration": 31,
    "start_time": "2023-03-19T12:30:53.051Z"
   },
   {
    "duration": 32,
    "start_time": "2023-03-19T12:33:39.595Z"
   },
   {
    "duration": 94,
    "start_time": "2023-03-19T12:33:40.284Z"
   },
   {
    "duration": 1188,
    "start_time": "2023-03-19T12:33:49.164Z"
   },
   {
    "duration": 15,
    "start_time": "2023-03-19T12:39:27.282Z"
   },
   {
    "duration": 15,
    "start_time": "2023-03-19T12:39:35.247Z"
   },
   {
    "duration": 18,
    "start_time": "2023-03-19T12:39:44.846Z"
   },
   {
    "duration": 16,
    "start_time": "2023-03-19T12:40:00.939Z"
   },
   {
    "duration": 16,
    "start_time": "2023-03-19T12:40:20.420Z"
   },
   {
    "duration": 17,
    "start_time": "2023-03-19T12:40:26.729Z"
   },
   {
    "duration": 14,
    "start_time": "2023-03-19T12:42:31.724Z"
   },
   {
    "duration": 15,
    "start_time": "2023-03-19T12:43:05.153Z"
   },
   {
    "duration": 13,
    "start_time": "2023-03-19T12:43:12.306Z"
   },
   {
    "duration": 1148,
    "start_time": "2023-03-19T12:43:43.041Z"
   },
   {
    "duration": 167,
    "start_time": "2023-03-19T12:43:44.191Z"
   },
   {
    "duration": 20,
    "start_time": "2023-03-19T12:43:44.359Z"
   },
   {
    "duration": 17,
    "start_time": "2023-03-19T12:43:44.390Z"
   },
   {
    "duration": 54,
    "start_time": "2023-03-19T12:43:44.408Z"
   },
   {
    "duration": 17,
    "start_time": "2023-03-19T12:43:44.464Z"
   },
   {
    "duration": 85,
    "start_time": "2023-03-19T12:43:44.482Z"
   },
   {
    "duration": 137,
    "start_time": "2023-03-19T12:43:44.569Z"
   },
   {
    "duration": 962,
    "start_time": "2023-03-19T12:43:44.708Z"
   },
   {
    "duration": 9,
    "start_time": "2023-03-19T12:43:45.672Z"
   },
   {
    "duration": 22,
    "start_time": "2023-03-19T12:43:45.690Z"
   },
   {
    "duration": 7,
    "start_time": "2023-03-19T12:43:45.714Z"
   },
   {
    "duration": 46,
    "start_time": "2023-03-19T12:43:45.722Z"
   },
   {
    "duration": 17,
    "start_time": "2023-03-19T12:43:45.770Z"
   },
   {
    "duration": 10,
    "start_time": "2023-03-19T12:43:45.789Z"
   },
   {
    "duration": 20,
    "start_time": "2023-03-19T12:43:45.801Z"
   },
   {
    "duration": 6,
    "start_time": "2023-03-19T12:43:45.822Z"
   },
   {
    "duration": 8981,
    "start_time": "2023-03-19T12:43:45.829Z"
   },
   {
    "duration": 37,
    "start_time": "2023-03-19T12:43:54.812Z"
   },
   {
    "duration": 5278,
    "start_time": "2023-03-19T12:43:54.851Z"
   },
   {
    "duration": 27,
    "start_time": "2023-03-19T12:44:00.131Z"
   },
   {
    "duration": 49,
    "start_time": "2023-03-19T12:44:00.160Z"
   },
   {
    "duration": 25,
    "start_time": "2023-03-19T12:44:00.210Z"
   },
   {
    "duration": 184,
    "start_time": "2023-03-19T12:44:00.236Z"
   },
   {
    "duration": 110,
    "start_time": "2023-03-19T12:44:00.422Z"
   },
   {
    "duration": 194,
    "start_time": "2023-03-19T12:44:00.534Z"
   },
   {
    "duration": 147,
    "start_time": "2023-03-19T12:44:00.730Z"
   },
   {
    "duration": 83,
    "start_time": "2023-03-19T12:44:00.889Z"
   },
   {
    "duration": 59,
    "start_time": "2023-03-19T12:44:00.973Z"
   },
   {
    "duration": 118,
    "start_time": "2023-03-19T12:44:01.033Z"
   },
   {
    "duration": 128,
    "start_time": "2023-03-19T12:44:01.153Z"
   },
   {
    "duration": 144,
    "start_time": "2023-03-19T12:44:01.283Z"
   },
   {
    "duration": 55,
    "start_time": "2023-03-19T12:44:01.429Z"
   },
   {
    "duration": 44,
    "start_time": "2023-03-19T12:44:01.486Z"
   },
   {
    "duration": 29,
    "start_time": "2023-03-19T12:44:01.531Z"
   },
   {
    "duration": 61,
    "start_time": "2023-03-19T12:44:01.563Z"
   },
   {
    "duration": 35,
    "start_time": "2023-03-19T12:44:01.626Z"
   },
   {
    "duration": 43,
    "start_time": "2023-03-19T12:44:01.663Z"
   },
   {
    "duration": 32,
    "start_time": "2023-03-19T12:44:01.707Z"
   },
   {
    "duration": 22,
    "start_time": "2023-03-19T12:44:01.740Z"
   },
   {
    "duration": 21,
    "start_time": "2023-03-19T12:44:01.764Z"
   },
   {
    "duration": 74,
    "start_time": "2023-03-19T12:44:01.786Z"
   },
   {
    "duration": 5,
    "start_time": "2023-03-19T12:44:01.862Z"
   },
   {
    "duration": 100,
    "start_time": "2023-03-19T12:44:01.868Z"
   },
   {
    "duration": 23,
    "start_time": "2023-03-19T12:44:01.970Z"
   },
   {
    "duration": 14,
    "start_time": "2023-03-19T12:44:01.995Z"
   },
   {
    "duration": 127,
    "start_time": "2023-03-19T12:44:02.011Z"
   },
   {
    "duration": 0,
    "start_time": "2023-03-19T12:44:02.140Z"
   },
   {
    "duration": 0,
    "start_time": "2023-03-19T12:44:02.141Z"
   },
   {
    "duration": 0,
    "start_time": "2023-03-19T12:44:02.142Z"
   },
   {
    "duration": 0,
    "start_time": "2023-03-19T12:44:02.143Z"
   },
   {
    "duration": 0,
    "start_time": "2023-03-19T12:44:02.144Z"
   },
   {
    "duration": 0,
    "start_time": "2023-03-19T12:44:02.145Z"
   },
   {
    "duration": 14,
    "start_time": "2023-03-19T12:44:50.257Z"
   },
   {
    "duration": 11,
    "start_time": "2023-03-19T12:45:38.351Z"
   },
   {
    "duration": 10,
    "start_time": "2023-03-19T12:45:50.281Z"
   },
   {
    "duration": 12,
    "start_time": "2023-03-19T12:46:00.552Z"
   },
   {
    "duration": 16,
    "start_time": "2023-03-19T12:46:08.780Z"
   },
   {
    "duration": 11,
    "start_time": "2023-03-19T12:46:09.721Z"
   },
   {
    "duration": 10,
    "start_time": "2023-03-19T12:46:10.936Z"
   },
   {
    "duration": 13,
    "start_time": "2023-03-19T12:46:11.702Z"
   },
   {
    "duration": 8,
    "start_time": "2023-03-19T12:46:12.550Z"
   },
   {
    "duration": 13,
    "start_time": "2023-03-19T12:46:12.985Z"
   },
   {
    "duration": 4,
    "start_time": "2023-03-19T12:46:52.275Z"
   },
   {
    "duration": 25,
    "start_time": "2023-03-19T12:47:34.865Z"
   },
   {
    "duration": 20,
    "start_time": "2023-03-19T12:47:48.292Z"
   },
   {
    "duration": 5,
    "start_time": "2023-03-19T12:48:17.795Z"
   },
   {
    "duration": 5,
    "start_time": "2023-03-19T12:48:30.344Z"
   },
   {
    "duration": 19,
    "start_time": "2023-03-19T12:49:17.499Z"
   },
   {
    "duration": 5,
    "start_time": "2023-03-19T12:49:40.931Z"
   },
   {
    "duration": 5,
    "start_time": "2023-03-19T12:51:26.992Z"
   },
   {
    "duration": 5,
    "start_time": "2023-03-19T12:51:32.612Z"
   },
   {
    "duration": 4,
    "start_time": "2023-03-19T12:51:40.691Z"
   },
   {
    "duration": 10,
    "start_time": "2023-03-19T12:53:19.033Z"
   },
   {
    "duration": 7,
    "start_time": "2023-03-19T12:53:40.854Z"
   },
   {
    "duration": 6,
    "start_time": "2023-03-19T12:53:45.716Z"
   },
   {
    "duration": 10,
    "start_time": "2023-03-19T12:54:09.191Z"
   },
   {
    "duration": 12,
    "start_time": "2023-03-19T12:56:10.034Z"
   },
   {
    "duration": 5,
    "start_time": "2023-03-19T12:56:19.987Z"
   },
   {
    "duration": 6,
    "start_time": "2023-03-19T12:56:33.256Z"
   },
   {
    "duration": 6,
    "start_time": "2023-03-19T12:56:37.681Z"
   },
   {
    "duration": 19,
    "start_time": "2023-03-19T12:56:43.522Z"
   },
   {
    "duration": 19,
    "start_time": "2023-03-19T12:56:43.910Z"
   },
   {
    "duration": 22,
    "start_time": "2023-03-19T12:56:44.306Z"
   },
   {
    "duration": 4,
    "start_time": "2023-03-19T12:56:44.685Z"
   },
   {
    "duration": 53,
    "start_time": "2023-03-19T12:56:45.320Z"
   },
   {
    "duration": 5,
    "start_time": "2023-03-19T12:56:46.236Z"
   },
   {
    "duration": 57,
    "start_time": "2023-03-19T12:56:49.084Z"
   },
   {
    "duration": 13,
    "start_time": "2023-03-19T12:56:49.683Z"
   },
   {
    "duration": 12,
    "start_time": "2023-03-19T12:56:52.307Z"
   },
   {
    "duration": 10,
    "start_time": "2023-03-19T12:56:54.381Z"
   },
   {
    "duration": 13,
    "start_time": "2023-03-19T12:57:13.243Z"
   },
   {
    "duration": 24,
    "start_time": "2023-03-19T12:57:36.824Z"
   },
   {
    "duration": 15,
    "start_time": "2023-03-19T12:57:43.511Z"
   },
   {
    "duration": 11,
    "start_time": "2023-03-19T12:57:51.366Z"
   },
   {
    "duration": 17,
    "start_time": "2023-03-19T12:57:54.518Z"
   },
   {
    "duration": 11,
    "start_time": "2023-03-19T12:58:27.783Z"
   },
   {
    "duration": 10,
    "start_time": "2023-03-19T12:58:53.721Z"
   },
   {
    "duration": 13,
    "start_time": "2023-03-19T12:59:00.263Z"
   },
   {
    "duration": 8,
    "start_time": "2023-03-19T12:59:02.482Z"
   },
   {
    "duration": 11,
    "start_time": "2023-03-19T12:59:42.683Z"
   },
   {
    "duration": 10,
    "start_time": "2023-03-19T13:04:11.306Z"
   },
   {
    "duration": 14,
    "start_time": "2023-03-19T13:04:18.877Z"
   },
   {
    "duration": 12,
    "start_time": "2023-03-19T13:04:25.200Z"
   },
   {
    "duration": 12,
    "start_time": "2023-03-19T13:09:45.710Z"
   },
   {
    "duration": 10,
    "start_time": "2023-03-19T13:09:51.898Z"
   },
   {
    "duration": 11,
    "start_time": "2023-03-19T13:09:55.680Z"
   },
   {
    "duration": 11,
    "start_time": "2023-03-19T13:10:11.800Z"
   },
   {
    "duration": 10,
    "start_time": "2023-03-19T13:10:19.880Z"
   },
   {
    "duration": 11,
    "start_time": "2023-03-19T13:10:36.345Z"
   },
   {
    "duration": 10,
    "start_time": "2023-03-19T13:10:41.932Z"
   },
   {
    "duration": 12,
    "start_time": "2023-03-19T13:11:12.128Z"
   },
   {
    "duration": 7,
    "start_time": "2023-03-19T13:11:41.619Z"
   },
   {
    "duration": 10,
    "start_time": "2023-03-19T13:11:58.845Z"
   },
   {
    "duration": 10,
    "start_time": "2023-03-19T13:12:09.623Z"
   },
   {
    "duration": 11,
    "start_time": "2023-03-19T13:12:15.217Z"
   },
   {
    "duration": 11,
    "start_time": "2023-03-19T13:12:19.153Z"
   },
   {
    "duration": 5,
    "start_time": "2023-03-19T13:12:31.778Z"
   },
   {
    "duration": 10,
    "start_time": "2023-03-19T13:12:43.483Z"
   },
   {
    "duration": 5,
    "start_time": "2023-03-19T13:14:25.580Z"
   },
   {
    "duration": 5,
    "start_time": "2023-03-19T13:14:33.054Z"
   },
   {
    "duration": 10,
    "start_time": "2023-03-19T13:14:41.084Z"
   },
   {
    "duration": 9,
    "start_time": "2023-03-19T13:14:45.684Z"
   },
   {
    "duration": 13,
    "start_time": "2023-03-19T13:14:57.384Z"
   },
   {
    "duration": 11,
    "start_time": "2023-03-19T13:15:11.053Z"
   },
   {
    "duration": 5,
    "start_time": "2023-03-19T13:15:37.394Z"
   },
   {
    "duration": 58,
    "start_time": "2023-03-19T13:15:40.451Z"
   },
   {
    "duration": 13,
    "start_time": "2023-03-19T13:15:40.938Z"
   },
   {
    "duration": 11,
    "start_time": "2023-03-19T13:15:44.161Z"
   },
   {
    "duration": 11,
    "start_time": "2023-03-19T13:15:53.415Z"
   },
   {
    "duration": 9,
    "start_time": "2023-03-19T13:16:01.001Z"
   },
   {
    "duration": 11,
    "start_time": "2023-03-19T13:16:12.881Z"
   },
   {
    "duration": 12,
    "start_time": "2023-03-19T13:16:22.712Z"
   },
   {
    "duration": 6,
    "start_time": "2023-03-19T13:16:30.874Z"
   },
   {
    "duration": 54,
    "start_time": "2023-03-19T13:16:33.145Z"
   },
   {
    "duration": 13,
    "start_time": "2023-03-19T13:16:34.509Z"
   },
   {
    "duration": 11,
    "start_time": "2023-03-19T13:16:36.525Z"
   },
   {
    "duration": 14,
    "start_time": "2023-03-19T13:16:43.710Z"
   },
   {
    "duration": 9,
    "start_time": "2023-03-19T13:16:44.586Z"
   },
   {
    "duration": 12,
    "start_time": "2023-03-19T13:16:45.847Z"
   },
   {
    "duration": 16,
    "start_time": "2023-03-19T13:16:46.903Z"
   },
   {
    "duration": 9,
    "start_time": "2023-03-19T13:16:48.013Z"
   },
   {
    "duration": 11,
    "start_time": "2023-03-19T13:16:48.562Z"
   },
   {
    "duration": 6,
    "start_time": "2023-03-19T13:17:14.890Z"
   },
   {
    "duration": 69,
    "start_time": "2023-03-19T13:23:33.956Z"
   },
   {
    "duration": 1216,
    "start_time": "2023-03-19T13:29:25.727Z"
   },
   {
    "duration": 179,
    "start_time": "2023-03-19T13:29:26.945Z"
   },
   {
    "duration": 22,
    "start_time": "2023-03-19T13:29:27.126Z"
   },
   {
    "duration": 8,
    "start_time": "2023-03-19T13:29:27.150Z"
   },
   {
    "duration": 61,
    "start_time": "2023-03-19T13:29:27.160Z"
   },
   {
    "duration": 18,
    "start_time": "2023-03-19T13:29:27.223Z"
   },
   {
    "duration": 81,
    "start_time": "2023-03-19T13:29:27.243Z"
   },
   {
    "duration": 184,
    "start_time": "2023-03-19T13:29:27.326Z"
   },
   {
    "duration": 1071,
    "start_time": "2023-03-19T13:29:27.512Z"
   },
   {
    "duration": 11,
    "start_time": "2023-03-19T13:29:28.585Z"
   },
   {
    "duration": 25,
    "start_time": "2023-03-19T13:29:28.597Z"
   },
   {
    "duration": 7,
    "start_time": "2023-03-19T13:29:28.624Z"
   },
   {
    "duration": 67,
    "start_time": "2023-03-19T13:29:28.633Z"
   },
   {
    "duration": 4,
    "start_time": "2023-03-19T13:29:28.704Z"
   },
   {
    "duration": 9,
    "start_time": "2023-03-19T13:29:28.710Z"
   },
   {
    "duration": 21,
    "start_time": "2023-03-19T13:29:28.721Z"
   },
   {
    "duration": 5,
    "start_time": "2023-03-19T13:29:28.744Z"
   },
   {
    "duration": 9103,
    "start_time": "2023-03-19T13:29:28.751Z"
   },
   {
    "duration": 69,
    "start_time": "2023-03-19T13:29:37.856Z"
   },
   {
    "duration": 5334,
    "start_time": "2023-03-19T13:29:37.927Z"
   },
   {
    "duration": 65,
    "start_time": "2023-03-19T13:29:43.263Z"
   },
   {
    "duration": 39,
    "start_time": "2023-03-19T13:29:43.330Z"
   },
   {
    "duration": 38,
    "start_time": "2023-03-19T13:29:43.371Z"
   },
   {
    "duration": 199,
    "start_time": "2023-03-19T13:29:43.410Z"
   },
   {
    "duration": 131,
    "start_time": "2023-03-19T13:29:43.611Z"
   },
   {
    "duration": 211,
    "start_time": "2023-03-19T13:29:43.743Z"
   },
   {
    "duration": 166,
    "start_time": "2023-03-19T13:29:43.956Z"
   },
   {
    "duration": 98,
    "start_time": "2023-03-19T13:29:44.124Z"
   },
   {
    "duration": 66,
    "start_time": "2023-03-19T13:29:44.224Z"
   },
   {
    "duration": 5,
    "start_time": "2023-03-19T13:29:44.292Z"
   },
   {
    "duration": 17,
    "start_time": "2023-03-19T13:29:44.299Z"
   },
   {
    "duration": 13,
    "start_time": "2023-03-19T13:29:44.318Z"
   },
   {
    "duration": 5,
    "start_time": "2023-03-19T13:29:44.332Z"
   },
   {
    "duration": 7,
    "start_time": "2023-03-19T13:29:44.339Z"
   },
   {
    "duration": 50,
    "start_time": "2023-03-19T13:29:44.348Z"
   },
   {
    "duration": 33,
    "start_time": "2023-03-19T13:29:44.400Z"
   },
   {
    "duration": 22,
    "start_time": "2023-03-19T13:29:44.435Z"
   },
   {
    "duration": 30,
    "start_time": "2023-03-19T13:29:44.460Z"
   },
   {
    "duration": 7,
    "start_time": "2023-03-19T13:29:44.492Z"
   },
   {
    "duration": 14,
    "start_time": "2023-03-19T13:29:44.501Z"
   },
   {
    "duration": 20,
    "start_time": "2023-03-19T13:29:44.519Z"
   },
   {
    "duration": 18,
    "start_time": "2023-03-19T13:29:44.540Z"
   },
   {
    "duration": 44,
    "start_time": "2023-03-19T13:29:44.560Z"
   },
   {
    "duration": 4,
    "start_time": "2023-03-19T13:29:44.606Z"
   },
   {
    "duration": 97,
    "start_time": "2023-03-19T13:29:44.612Z"
   },
   {
    "duration": 5,
    "start_time": "2023-03-19T13:29:44.712Z"
   },
   {
    "duration": 110,
    "start_time": "2023-03-19T13:29:44.719Z"
   },
   {
    "duration": 18,
    "start_time": "2023-03-19T13:29:44.830Z"
   },
   {
    "duration": 10,
    "start_time": "2023-03-19T13:29:44.850Z"
   },
   {
    "duration": 36,
    "start_time": "2023-03-19T13:29:44.862Z"
   },
   {
    "duration": 17,
    "start_time": "2023-03-19T13:29:44.900Z"
   },
   {
    "duration": 13,
    "start_time": "2023-03-19T13:29:44.919Z"
   },
   {
    "duration": 15,
    "start_time": "2023-03-19T13:29:44.934Z"
   },
   {
    "duration": 38,
    "start_time": "2023-03-19T13:29:44.951Z"
   },
   {
    "duration": 11,
    "start_time": "2023-03-19T13:29:44.991Z"
   },
   {
    "duration": 1779,
    "start_time": "2023-03-20T10:40:55.839Z"
   },
   {
    "duration": 374,
    "start_time": "2023-03-20T10:40:57.621Z"
   },
   {
    "duration": 27,
    "start_time": "2023-03-20T10:40:57.998Z"
   },
   {
    "duration": 9,
    "start_time": "2023-03-20T10:40:58.028Z"
   },
   {
    "duration": 56,
    "start_time": "2023-03-20T10:40:58.040Z"
   },
   {
    "duration": 21,
    "start_time": "2023-03-20T10:40:58.099Z"
   },
   {
    "duration": 114,
    "start_time": "2023-03-20T10:40:58.122Z"
   },
   {
    "duration": 187,
    "start_time": "2023-03-20T10:40:58.238Z"
   },
   {
    "duration": 1288,
    "start_time": "2023-03-20T10:40:58.427Z"
   },
   {
    "duration": 11,
    "start_time": "2023-03-20T10:40:59.717Z"
   },
   {
    "duration": 42,
    "start_time": "2023-03-20T10:40:59.730Z"
   },
   {
    "duration": 14,
    "start_time": "2023-03-20T10:40:59.774Z"
   },
   {
    "duration": 32,
    "start_time": "2023-03-20T10:40:59.790Z"
   },
   {
    "duration": 4,
    "start_time": "2023-03-20T10:40:59.825Z"
   },
   {
    "duration": 9,
    "start_time": "2023-03-20T10:40:59.831Z"
   },
   {
    "duration": 33,
    "start_time": "2023-03-20T10:40:59.870Z"
   },
   {
    "duration": 6,
    "start_time": "2023-03-20T10:40:59.905Z"
   },
   {
    "duration": 11181,
    "start_time": "2023-03-20T10:40:59.913Z"
   },
   {
    "duration": 45,
    "start_time": "2023-03-20T10:41:11.096Z"
   },
   {
    "duration": 6503,
    "start_time": "2023-03-20T10:41:11.143Z"
   },
   {
    "duration": 59,
    "start_time": "2023-03-20T10:41:17.648Z"
   },
   {
    "duration": 34,
    "start_time": "2023-03-20T10:41:17.710Z"
   },
   {
    "duration": 44,
    "start_time": "2023-03-20T10:41:17.765Z"
   },
   {
    "duration": 446,
    "start_time": "2023-03-20T10:41:17.810Z"
   },
   {
    "duration": 214,
    "start_time": "2023-03-20T10:41:18.258Z"
   },
   {
    "duration": 213,
    "start_time": "2023-03-20T10:41:18.479Z"
   },
   {
    "duration": 200,
    "start_time": "2023-03-20T10:41:18.699Z"
   },
   {
    "duration": 115,
    "start_time": "2023-03-20T10:41:18.901Z"
   },
   {
    "duration": 79,
    "start_time": "2023-03-20T10:41:19.018Z"
   },
   {
    "duration": 4,
    "start_time": "2023-03-20T10:41:19.100Z"
   },
   {
    "duration": 20,
    "start_time": "2023-03-20T10:41:19.106Z"
   },
   {
    "duration": 37,
    "start_time": "2023-03-20T10:41:19.128Z"
   },
   {
    "duration": 9,
    "start_time": "2023-03-20T10:41:19.173Z"
   },
   {
    "duration": 62,
    "start_time": "2023-03-20T10:41:19.191Z"
   },
   {
    "duration": 55,
    "start_time": "2023-03-20T10:41:19.255Z"
   },
   {
    "duration": 44,
    "start_time": "2023-03-20T10:41:19.312Z"
   },
   {
    "duration": 34,
    "start_time": "2023-03-20T10:41:19.358Z"
   },
   {
    "duration": 17,
    "start_time": "2023-03-20T10:41:19.396Z"
   },
   {
    "duration": 14,
    "start_time": "2023-03-20T10:41:19.415Z"
   },
   {
    "duration": 9,
    "start_time": "2023-03-20T10:41:19.431Z"
   },
   {
    "duration": 26,
    "start_time": "2023-03-20T10:41:19.444Z"
   },
   {
    "duration": 33,
    "start_time": "2023-03-20T10:41:19.472Z"
   },
   {
    "duration": 23,
    "start_time": "2023-03-20T10:41:19.507Z"
   },
   {
    "duration": 4,
    "start_time": "2023-03-20T10:41:19.532Z"
   },
   {
    "duration": 105,
    "start_time": "2023-03-20T10:41:19.538Z"
   },
   {
    "duration": 6,
    "start_time": "2023-03-20T10:41:19.644Z"
   },
   {
    "duration": 129,
    "start_time": "2023-03-20T10:41:19.671Z"
   },
   {
    "duration": 18,
    "start_time": "2023-03-20T10:41:19.802Z"
   },
   {
    "duration": 13,
    "start_time": "2023-03-20T10:41:19.822Z"
   },
   {
    "duration": 53,
    "start_time": "2023-03-20T10:41:19.837Z"
   },
   {
    "duration": 15,
    "start_time": "2023-03-20T10:41:19.892Z"
   },
   {
    "duration": 28,
    "start_time": "2023-03-20T10:41:19.909Z"
   },
   {
    "duration": 17,
    "start_time": "2023-03-20T10:41:19.939Z"
   },
   {
    "duration": 18,
    "start_time": "2023-03-20T10:41:19.976Z"
   },
   {
    "duration": 30,
    "start_time": "2023-03-20T10:41:19.997Z"
   },
   {
    "duration": 48,
    "start_time": "2023-05-11T12:05:04.195Z"
   },
   {
    "duration": 1260,
    "start_time": "2023-05-11T12:05:09.596Z"
   },
   {
    "duration": 780,
    "start_time": "2023-05-11T12:05:10.858Z"
   },
   {
    "duration": 24,
    "start_time": "2023-05-11T12:05:11.641Z"
   },
   {
    "duration": 17,
    "start_time": "2023-05-11T12:05:11.668Z"
   },
   {
    "duration": 38,
    "start_time": "2023-05-11T12:05:11.687Z"
   },
   {
    "duration": 20,
    "start_time": "2023-05-11T12:05:11.727Z"
   },
   {
    "duration": 93,
    "start_time": "2023-05-11T12:05:11.749Z"
   },
   {
    "duration": 158,
    "start_time": "2023-05-11T12:05:11.844Z"
   },
   {
    "duration": 1093,
    "start_time": "2023-05-11T12:05:12.004Z"
   },
   {
    "duration": 13,
    "start_time": "2023-05-11T12:05:13.100Z"
   },
   {
    "duration": 25,
    "start_time": "2023-05-11T12:05:13.115Z"
   },
   {
    "duration": 7,
    "start_time": "2023-05-11T12:05:13.141Z"
   },
   {
    "duration": 26,
    "start_time": "2023-05-11T12:05:13.149Z"
   },
   {
    "duration": 3,
    "start_time": "2023-05-11T12:05:13.177Z"
   },
   {
    "duration": 8,
    "start_time": "2023-05-11T12:05:13.212Z"
   },
   {
    "duration": 20,
    "start_time": "2023-05-11T12:05:13.222Z"
   },
   {
    "duration": 7,
    "start_time": "2023-05-11T12:05:13.243Z"
   },
   {
    "duration": 9521,
    "start_time": "2023-05-11T12:05:13.252Z"
   },
   {
    "duration": 50,
    "start_time": "2023-05-11T12:05:22.775Z"
   },
   {
    "duration": 5446,
    "start_time": "2023-05-11T12:05:22.827Z"
   },
   {
    "duration": 43,
    "start_time": "2023-05-11T12:05:28.274Z"
   },
   {
    "duration": 31,
    "start_time": "2023-05-11T12:05:28.319Z"
   },
   {
    "duration": 25,
    "start_time": "2023-05-11T12:05:28.352Z"
   },
   {
    "duration": 199,
    "start_time": "2023-05-11T12:05:28.378Z"
   },
   {
    "duration": 149,
    "start_time": "2023-05-11T12:05:28.579Z"
   },
   {
    "duration": 202,
    "start_time": "2023-05-11T12:05:28.731Z"
   },
   {
    "duration": 216,
    "start_time": "2023-05-11T12:05:28.935Z"
   },
   {
    "duration": 116,
    "start_time": "2023-05-11T12:05:29.157Z"
   },
   {
    "duration": 57,
    "start_time": "2023-05-11T12:05:29.275Z"
   },
   {
    "duration": 5,
    "start_time": "2023-05-11T12:05:29.333Z"
   },
   {
    "duration": 19,
    "start_time": "2023-05-11T12:05:29.339Z"
   },
   {
    "duration": 11,
    "start_time": "2023-05-11T12:05:29.360Z"
   },
   {
    "duration": 4,
    "start_time": "2023-05-11T12:05:29.373Z"
   },
   {
    "duration": 34,
    "start_time": "2023-05-11T12:05:29.378Z"
   },
   {
    "duration": 15,
    "start_time": "2023-05-11T12:05:29.414Z"
   },
   {
    "duration": 35,
    "start_time": "2023-05-11T12:05:29.431Z"
   },
   {
    "duration": 51,
    "start_time": "2023-05-11T12:05:29.469Z"
   },
   {
    "duration": 6,
    "start_time": "2023-05-11T12:05:29.522Z"
   },
   {
    "duration": 6,
    "start_time": "2023-05-11T12:05:29.530Z"
   },
   {
    "duration": 16,
    "start_time": "2023-05-11T12:05:29.538Z"
   },
   {
    "duration": 26,
    "start_time": "2023-05-11T12:05:29.556Z"
   },
   {
    "duration": 32,
    "start_time": "2023-05-11T12:05:29.584Z"
   },
   {
    "duration": 21,
    "start_time": "2023-05-11T12:05:29.618Z"
   },
   {
    "duration": 5,
    "start_time": "2023-05-11T12:05:29.640Z"
   },
   {
    "duration": 87,
    "start_time": "2023-05-11T12:05:29.647Z"
   },
   {
    "duration": 5,
    "start_time": "2023-05-11T12:05:29.736Z"
   },
   {
    "duration": 106,
    "start_time": "2023-05-11T12:05:29.743Z"
   },
   {
    "duration": 18,
    "start_time": "2023-05-11T12:05:29.851Z"
   },
   {
    "duration": 12,
    "start_time": "2023-05-11T12:05:29.871Z"
   },
   {
    "duration": 37,
    "start_time": "2023-05-11T12:05:29.885Z"
   },
   {
    "duration": 12,
    "start_time": "2023-05-11T12:05:29.925Z"
   },
   {
    "duration": 17,
    "start_time": "2023-05-11T12:05:29.939Z"
   },
   {
    "duration": 13,
    "start_time": "2023-05-11T12:05:29.957Z"
   },
   {
    "duration": 44,
    "start_time": "2023-05-11T12:05:29.972Z"
   },
   {
    "duration": 34,
    "start_time": "2023-05-11T12:05:30.018Z"
   },
   {
    "duration": 1344,
    "start_time": "2023-05-15T14:11:22.788Z"
   },
   {
    "duration": 861,
    "start_time": "2023-05-15T14:11:24.134Z"
   },
   {
    "duration": 27,
    "start_time": "2023-05-15T14:11:24.996Z"
   },
   {
    "duration": 10,
    "start_time": "2023-05-15T14:11:25.025Z"
   },
   {
    "duration": 38,
    "start_time": "2023-05-15T14:11:25.036Z"
   },
   {
    "duration": 16,
    "start_time": "2023-05-15T14:11:25.076Z"
   },
   {
    "duration": 93,
    "start_time": "2023-05-15T14:11:25.094Z"
   },
   {
    "duration": 155,
    "start_time": "2023-05-15T14:11:25.189Z"
   },
   {
    "duration": 1061,
    "start_time": "2023-05-15T14:11:25.349Z"
   },
   {
    "duration": 12,
    "start_time": "2023-05-15T14:11:26.415Z"
   },
   {
    "duration": 38,
    "start_time": "2023-05-15T14:11:26.429Z"
   },
   {
    "duration": 9,
    "start_time": "2023-05-15T14:11:26.469Z"
   },
   {
    "duration": 33,
    "start_time": "2023-05-15T14:11:26.480Z"
   },
   {
    "duration": 4,
    "start_time": "2023-05-15T14:11:26.515Z"
   },
   {
    "duration": 46,
    "start_time": "2023-05-15T14:11:26.521Z"
   },
   {
    "duration": 32,
    "start_time": "2023-05-15T14:11:26.569Z"
   },
   {
    "duration": 8,
    "start_time": "2023-05-15T14:11:26.603Z"
   },
   {
    "duration": 11959,
    "start_time": "2023-05-15T14:11:26.612Z"
   },
   {
    "duration": 59,
    "start_time": "2023-05-15T14:11:38.574Z"
   },
   {
    "duration": 6146,
    "start_time": "2023-05-15T14:11:38.636Z"
   },
   {
    "duration": 43,
    "start_time": "2023-05-15T14:11:44.784Z"
   },
   {
    "duration": 65,
    "start_time": "2023-05-15T14:11:44.829Z"
   },
   {
    "duration": 55,
    "start_time": "2023-05-15T14:11:44.897Z"
   },
   {
    "duration": 231,
    "start_time": "2023-05-15T14:11:44.954Z"
   },
   {
    "duration": 194,
    "start_time": "2023-05-15T14:11:45.188Z"
   },
   {
    "duration": 257,
    "start_time": "2023-05-15T14:11:45.384Z"
   },
   {
    "duration": 155,
    "start_time": "2023-05-15T14:11:45.655Z"
   },
   {
    "duration": 90,
    "start_time": "2023-05-15T14:11:45.814Z"
   },
   {
    "duration": 68,
    "start_time": "2023-05-15T14:11:45.907Z"
   },
   {
    "duration": 4,
    "start_time": "2023-05-15T14:11:45.977Z"
   },
   {
    "duration": 16,
    "start_time": "2023-05-15T14:11:45.982Z"
   },
   {
    "duration": 17,
    "start_time": "2023-05-15T14:11:46.001Z"
   },
   {
    "duration": 6,
    "start_time": "2023-05-15T14:11:46.051Z"
   },
   {
    "duration": 8,
    "start_time": "2023-05-15T14:11:46.059Z"
   },
   {
    "duration": 21,
    "start_time": "2023-05-15T14:11:46.069Z"
   },
   {
    "duration": 78,
    "start_time": "2023-05-15T14:11:46.092Z"
   },
   {
    "duration": 27,
    "start_time": "2023-05-15T14:11:46.172Z"
   },
   {
    "duration": 7,
    "start_time": "2023-05-15T14:11:46.201Z"
   },
   {
    "duration": 8,
    "start_time": "2023-05-15T14:11:46.209Z"
   },
   {
    "duration": 7,
    "start_time": "2023-05-15T14:11:46.250Z"
   },
   {
    "duration": 24,
    "start_time": "2023-05-15T14:11:46.259Z"
   },
   {
    "duration": 35,
    "start_time": "2023-05-15T14:11:46.285Z"
   },
   {
    "duration": 45,
    "start_time": "2023-05-15T14:11:46.322Z"
   },
   {
    "duration": 5,
    "start_time": "2023-05-15T14:11:46.368Z"
   },
   {
    "duration": 84,
    "start_time": "2023-05-15T14:11:46.374Z"
   },
   {
    "duration": 10,
    "start_time": "2023-05-15T14:11:46.470Z"
   },
   {
    "duration": 115,
    "start_time": "2023-05-15T14:11:46.482Z"
   },
   {
    "duration": 19,
    "start_time": "2023-05-15T14:11:46.598Z"
   },
   {
    "duration": 12,
    "start_time": "2023-05-15T14:11:46.619Z"
   },
   {
    "duration": 17,
    "start_time": "2023-05-15T14:11:46.652Z"
   },
   {
    "duration": 13,
    "start_time": "2023-05-15T14:11:46.672Z"
   },
   {
    "duration": 29,
    "start_time": "2023-05-15T14:11:46.687Z"
   },
   {
    "duration": 45,
    "start_time": "2023-05-15T14:11:46.717Z"
   },
   {
    "duration": 13,
    "start_time": "2023-05-15T14:11:46.764Z"
   },
   {
    "duration": 29,
    "start_time": "2023-05-15T14:11:46.779Z"
   },
   {
    "duration": 1270,
    "start_time": "2023-07-13T12:55:21.039Z"
   },
   {
    "duration": 620,
    "start_time": "2023-07-13T12:55:22.312Z"
   },
   {
    "duration": 18,
    "start_time": "2023-07-13T12:55:22.933Z"
   },
   {
    "duration": 34,
    "start_time": "2023-07-13T12:55:22.952Z"
   },
   {
    "duration": 44,
    "start_time": "2023-07-13T12:55:22.987Z"
   },
   {
    "duration": 24,
    "start_time": "2023-07-13T12:55:23.033Z"
   },
   {
    "duration": 84,
    "start_time": "2023-07-13T12:55:23.058Z"
   },
   {
    "duration": 133,
    "start_time": "2023-07-13T12:55:23.144Z"
   },
   {
    "duration": 925,
    "start_time": "2023-07-13T12:55:23.279Z"
   },
   {
    "duration": 7,
    "start_time": "2023-07-13T12:55:24.207Z"
   },
   {
    "duration": 69,
    "start_time": "2023-07-13T12:55:24.215Z"
   },
   {
    "duration": 5,
    "start_time": "2023-07-13T12:55:24.286Z"
   },
   {
    "duration": 27,
    "start_time": "2023-07-13T12:55:24.292Z"
   },
   {
    "duration": 3,
    "start_time": "2023-07-13T12:55:24.320Z"
   },
   {
    "duration": 11,
    "start_time": "2023-07-13T12:55:24.324Z"
   },
   {
    "duration": 17,
    "start_time": "2023-07-13T12:55:24.336Z"
   },
   {
    "duration": 4,
    "start_time": "2023-07-13T12:55:24.354Z"
   },
   {
    "duration": 7483,
    "start_time": "2023-07-13T12:55:24.359Z"
   },
   {
    "duration": 30,
    "start_time": "2023-07-13T12:55:31.843Z"
   },
   {
    "duration": 4605,
    "start_time": "2023-07-13T12:55:31.874Z"
   },
   {
    "duration": 34,
    "start_time": "2023-07-13T12:55:36.480Z"
   },
   {
    "duration": 26,
    "start_time": "2023-07-13T12:55:36.515Z"
   },
   {
    "duration": 21,
    "start_time": "2023-07-13T12:55:36.543Z"
   },
   {
    "duration": 168,
    "start_time": "2023-07-13T12:55:36.566Z"
   },
   {
    "duration": 99,
    "start_time": "2023-07-13T12:55:36.736Z"
   },
   {
    "duration": 181,
    "start_time": "2023-07-13T12:55:36.836Z"
   },
   {
    "duration": 143,
    "start_time": "2023-07-13T12:55:37.019Z"
   },
   {
    "duration": 86,
    "start_time": "2023-07-13T12:55:37.165Z"
   },
   {
    "duration": 61,
    "start_time": "2023-07-13T12:55:37.252Z"
   },
   {
    "duration": 4,
    "start_time": "2023-07-13T12:55:37.315Z"
   },
   {
    "duration": 17,
    "start_time": "2023-07-13T12:55:37.321Z"
   },
   {
    "duration": 12,
    "start_time": "2023-07-13T12:55:37.339Z"
   },
   {
    "duration": 3,
    "start_time": "2023-07-13T12:55:37.353Z"
   },
   {
    "duration": 6,
    "start_time": "2023-07-13T12:55:37.358Z"
   },
   {
    "duration": 41,
    "start_time": "2023-07-13T12:55:37.365Z"
   },
   {
    "duration": 33,
    "start_time": "2023-07-13T12:55:37.408Z"
   },
   {
    "duration": 17,
    "start_time": "2023-07-13T12:55:37.442Z"
   },
   {
    "duration": 4,
    "start_time": "2023-07-13T12:55:37.460Z"
   },
   {
    "duration": 6,
    "start_time": "2023-07-13T12:55:37.466Z"
   },
   {
    "duration": 29,
    "start_time": "2023-07-13T12:55:37.473Z"
   },
   {
    "duration": 25,
    "start_time": "2023-07-13T12:55:37.505Z"
   },
   {
    "duration": 19,
    "start_time": "2023-07-13T12:55:37.532Z"
   },
   {
    "duration": 19,
    "start_time": "2023-07-13T12:55:37.552Z"
   },
   {
    "duration": 4,
    "start_time": "2023-07-13T12:55:37.573Z"
   },
   {
    "duration": 55,
    "start_time": "2023-07-13T12:55:37.608Z"
   },
   {
    "duration": 5,
    "start_time": "2023-07-13T12:55:37.665Z"
   },
   {
    "duration": 92,
    "start_time": "2023-07-13T12:55:37.671Z"
   },
   {
    "duration": 15,
    "start_time": "2023-07-13T12:55:37.764Z"
   },
   {
    "duration": 24,
    "start_time": "2023-07-13T12:55:37.780Z"
   },
   {
    "duration": 20,
    "start_time": "2023-07-13T12:55:37.806Z"
   },
   {
    "duration": 10,
    "start_time": "2023-07-13T12:55:37.828Z"
   },
   {
    "duration": 12,
    "start_time": "2023-07-13T12:55:37.839Z"
   },
   {
    "duration": 17,
    "start_time": "2023-07-13T12:55:37.852Z"
   },
   {
    "duration": 7,
    "start_time": "2023-07-13T12:55:37.870Z"
   },
   {
    "duration": 12,
    "start_time": "2023-07-13T12:55:37.906Z"
   },
   {
    "duration": 1193,
    "start_time": "2023-07-13T12:56:15.006Z"
   },
   {
    "duration": 145,
    "start_time": "2023-07-13T12:56:16.200Z"
   },
   {
    "duration": 17,
    "start_time": "2023-07-13T12:56:16.346Z"
   },
   {
    "duration": 6,
    "start_time": "2023-07-13T12:56:16.364Z"
   },
   {
    "duration": 44,
    "start_time": "2023-07-13T12:56:16.372Z"
   },
   {
    "duration": 14,
    "start_time": "2023-07-13T12:56:16.417Z"
   },
   {
    "duration": 57,
    "start_time": "2023-07-13T12:56:16.433Z"
   },
   {
    "duration": 116,
    "start_time": "2023-07-13T12:56:16.500Z"
   },
   {
    "duration": 936,
    "start_time": "2023-07-13T12:56:16.618Z"
   },
   {
    "duration": 7,
    "start_time": "2023-07-13T12:56:17.555Z"
   },
   {
    "duration": 35,
    "start_time": "2023-07-13T12:56:17.563Z"
   },
   {
    "duration": 6,
    "start_time": "2023-07-13T12:56:17.600Z"
   },
   {
    "duration": 26,
    "start_time": "2023-07-13T12:56:17.608Z"
   },
   {
    "duration": 13,
    "start_time": "2023-07-13T12:56:17.637Z"
   },
   {
    "duration": 34,
    "start_time": "2023-07-13T12:56:17.652Z"
   },
   {
    "duration": 42,
    "start_time": "2023-07-13T12:56:17.687Z"
   },
   {
    "duration": 13,
    "start_time": "2023-07-13T12:56:17.730Z"
   },
   {
    "duration": 11734,
    "start_time": "2023-07-13T12:56:17.744Z"
   },
   {
    "duration": 40,
    "start_time": "2023-07-13T12:56:29.480Z"
   }
  ],
  "kernelspec": {
   "display_name": "Python 3 (ipykernel)",
   "language": "python",
   "name": "python3"
  },
  "language_info": {
   "codemirror_mode": {
    "name": "ipython",
    "version": 3
   },
   "file_extension": ".py",
   "mimetype": "text/x-python",
   "name": "python",
   "nbconvert_exporter": "python",
   "pygments_lexer": "ipython3",
   "version": "3.9.5"
  },
  "toc": {
   "base_numbering": 1,
   "nav_menu": {},
   "number_sections": false,
   "sideBar": true,
   "skip_h1_title": false,
   "title_cell": "Table of Contents",
   "title_sidebar": "Contents",
   "toc_cell": false,
   "toc_position": {
    "height": "calc(100% - 180px)",
    "left": "10px",
    "top": "150px",
    "width": "278.594px"
   },
   "toc_section_display": true,
   "toc_window_display": true
  }
 },
 "nbformat": 4,
 "nbformat_minor": 2
}
